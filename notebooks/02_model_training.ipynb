{
 "cells": [
  {
   "cell_type": "markdown",
   "id": "4f3c4743",
   "metadata": {},
   "source": [
    "# 🤖 Credit Score Simulator – Modeling & Evaluation\n",
    "\n",
    "## Objective\n",
    "\n",
    "This notebook focuses on building and evaluating machine learning models to predict whether a customer will experience **serious delinquency** (90+ days overdue) within the next two years.\n",
    "\n",
    "The goal is to:\n",
    "\n",
    "- Train and evaluate baseline models\n",
    "- Handle class imbalance\n",
    "- Tune hyperparameters for performance\n",
    "- Compare metrics (precision, recall, F1-score, AUC)\n",
    "- Select a final model for deployment\n",
    "\n",
    "To ensure reproducibility and avoid data leakage, all preprocessing and feature engineering were completed in the previous notebook. Scaling and modeling will be performed using pipelines in this notebook.\n",
    "\n",
    "---"
   ]
  },
  {
   "cell_type": "markdown",
   "id": "d584ae95",
   "metadata": {},
   "source": [
    "## Libraries"
   ]
  },
  {
   "cell_type": "code",
   "execution_count": 1,
   "id": "8729d716",
   "metadata": {},
   "outputs": [],
   "source": [
    "import pandas as pd\n",
    "import numpy as np\n",
    "from sklearn.model_selection import StratifiedKFold\n",
    "from sklearn.metrics import roc_auc_score, f1_score, precision_score, recall_score\n",
    "from sklearn.linear_model import LogisticRegression\n",
    "from sklearn.ensemble import RandomForestClassifier\n",
    "import xgboost as xgb\n",
    "import lightgbm as lgb\n",
    "from sklearn.preprocessing import MinMaxScaler\n",
    "from imblearn.over_sampling import SMOTE\n",
    "from sklearn.model_selection import train_test_split\n",
    "import pandas as pd\n",
    "import numpy as np\n",
    "from sklearn.model_selection import train_test_split\n",
    "from sklearn.metrics import precision_score, recall_score, accuracy_score, f1_score\n",
    "import numpy as np\n",
    "import pandas as pd\n",
    "from sklearn.model_selection import StratifiedKFold\n",
    "from sklearn.preprocessing import MinMaxScaler\n",
    "from imblearn.over_sampling import SMOTE\n",
    "import optuna\n",
    "import lightgbm as lgb\n",
    "import numpy as np\n",
    "from sklearn.metrics import roc_auc_score\n",
    "from sklearn.model_selection import StratifiedKFold\n",
    "from sklearn.preprocessing import MinMaxScaler\n",
    "from imblearn.over_sampling import SMOTE\n",
    "import warnings\n",
    "warnings.filterwarnings(\"ignore\", message=\"X does not have valid feature names\")\n",
    "from sklearn.metrics import (\n",
    "    confusion_matrix,\n",
    "    ConfusionMatrixDisplay,\n",
    "    roc_auc_score,\n",
    "    accuracy_score,\n",
    "    precision_score,\n",
    "    recall_score,\n",
    "    f1_score,\n",
    "    RocCurveDisplay\n",
    ")\n",
    "import matplotlib.pyplot as plt\n"
   ]
  },
  {
   "cell_type": "code",
   "execution_count": null,
   "id": "c8d3a70c",
   "metadata": {},
   "outputs": [],
   "source": []
  },
  {
   "cell_type": "markdown",
   "id": "bf55bb6a",
   "metadata": {},
   "source": [
    "## Load Dataset\n",
    "\n",
    "The dataset `df_cleaned.csv` contains:\n",
    "\n",
    "- Selected original features\n",
    "- Engineered features created from domain logic\n",
    "- **Unscaled numeric values**, allowing for clean integration into model pipelines\n",
    "- The target variable: `SeriousDlqin2yrs` (0 = No Default, 1 = Default)"
   ]
  },
  {
   "cell_type": "code",
   "execution_count": 2,
   "id": "03d422c0",
   "metadata": {},
   "outputs": [
    {
     "data": {
      "text/html": [
       "<div>\n",
       "<style scoped>\n",
       "    .dataframe tbody tr th:only-of-type {\n",
       "        vertical-align: middle;\n",
       "    }\n",
       "\n",
       "    .dataframe tbody tr th {\n",
       "        vertical-align: top;\n",
       "    }\n",
       "\n",
       "    .dataframe thead th {\n",
       "        text-align: right;\n",
       "    }\n",
       "</style>\n",
       "<table border=\"1\" class=\"dataframe\">\n",
       "  <thead>\n",
       "    <tr style=\"text-align: right;\">\n",
       "      <th></th>\n",
       "      <th>SeriousDlqin2yrs</th>\n",
       "      <th>RevolvingUtilization</th>\n",
       "      <th>age</th>\n",
       "      <th>Times30_59DaysLate</th>\n",
       "      <th>DebtToIncomeRatio</th>\n",
       "      <th>OpenCreditLines</th>\n",
       "      <th>Times90DaysLate</th>\n",
       "      <th>RealEstateLoans</th>\n",
       "      <th>Times60_89DaysLate</th>\n",
       "      <th>MonthlyIncome</th>\n",
       "      <th>NumberOfDependents</th>\n",
       "      <th>TotalPastDue</th>\n",
       "      <th>FinancialStressScore</th>\n",
       "      <th>CreditBurdenPerLine</th>\n",
       "      <th>AgeUtilizationRatio</th>\n",
       "      <th>IncomeAgeRatio</th>\n",
       "      <th>LinesPerYear</th>\n",
       "    </tr>\n",
       "  </thead>\n",
       "  <tbody>\n",
       "    <tr>\n",
       "      <th>0</th>\n",
       "      <td>1</td>\n",
       "      <td>0.766127</td>\n",
       "      <td>45</td>\n",
       "      <td>2</td>\n",
       "      <td>0.802982</td>\n",
       "      <td>13</td>\n",
       "      <td>0</td>\n",
       "      <td>6</td>\n",
       "      <td>0</td>\n",
       "      <td>9120.0</td>\n",
       "      <td>2.0</td>\n",
       "      <td>2</td>\n",
       "      <td>0.615186</td>\n",
       "      <td>651.428571</td>\n",
       "      <td>57.980231</td>\n",
       "      <td>198.260870</td>\n",
       "      <td>0.282609</td>\n",
       "    </tr>\n",
       "    <tr>\n",
       "      <th>1</th>\n",
       "      <td>0</td>\n",
       "      <td>0.957151</td>\n",
       "      <td>40</td>\n",
       "      <td>0</td>\n",
       "      <td>0.121876</td>\n",
       "      <td>4</td>\n",
       "      <td>0</td>\n",
       "      <td>0</td>\n",
       "      <td>0</td>\n",
       "      <td>2600.0</td>\n",
       "      <td>1.0</td>\n",
       "      <td>0</td>\n",
       "      <td>0.116654</td>\n",
       "      <td>520.000000</td>\n",
       "      <td>41.358587</td>\n",
       "      <td>63.414634</td>\n",
       "      <td>0.097561</td>\n",
       "    </tr>\n",
       "    <tr>\n",
       "      <th>2</th>\n",
       "      <td>0</td>\n",
       "      <td>0.658180</td>\n",
       "      <td>38</td>\n",
       "      <td>1</td>\n",
       "      <td>0.085113</td>\n",
       "      <td>2</td>\n",
       "      <td>1</td>\n",
       "      <td>0</td>\n",
       "      <td>0</td>\n",
       "      <td>3042.0</td>\n",
       "      <td>0.0</td>\n",
       "      <td>2</td>\n",
       "      <td>0.056020</td>\n",
       "      <td>1014.000000</td>\n",
       "      <td>56.870891</td>\n",
       "      <td>78.000000</td>\n",
       "      <td>0.051282</td>\n",
       "    </tr>\n",
       "    <tr>\n",
       "      <th>3</th>\n",
       "      <td>0</td>\n",
       "      <td>0.233810</td>\n",
       "      <td>30</td>\n",
       "      <td>0</td>\n",
       "      <td>0.036050</td>\n",
       "      <td>5</td>\n",
       "      <td>0</td>\n",
       "      <td>0</td>\n",
       "      <td>0</td>\n",
       "      <td>3300.0</td>\n",
       "      <td>0.0</td>\n",
       "      <td>0</td>\n",
       "      <td>0.008429</td>\n",
       "      <td>550.000000</td>\n",
       "      <td>123.046748</td>\n",
       "      <td>106.451613</td>\n",
       "      <td>0.161290</td>\n",
       "    </tr>\n",
       "    <tr>\n",
       "      <th>4</th>\n",
       "      <td>0</td>\n",
       "      <td>0.907239</td>\n",
       "      <td>49</td>\n",
       "      <td>1</td>\n",
       "      <td>0.024926</td>\n",
       "      <td>7</td>\n",
       "      <td>0</td>\n",
       "      <td>1</td>\n",
       "      <td>0</td>\n",
       "      <td>23011.9</td>\n",
       "      <td>0.0</td>\n",
       "      <td>1</td>\n",
       "      <td>0.022614</td>\n",
       "      <td>2876.487500</td>\n",
       "      <td>53.421168</td>\n",
       "      <td>460.238000</td>\n",
       "      <td>0.140000</td>\n",
       "    </tr>\n",
       "  </tbody>\n",
       "</table>\n",
       "</div>"
      ],
      "text/plain": [
       "   SeriousDlqin2yrs  RevolvingUtilization  age  Times30_59DaysLate  \\\n",
       "0                 1              0.766127   45                   2   \n",
       "1                 0              0.957151   40                   0   \n",
       "2                 0              0.658180   38                   1   \n",
       "3                 0              0.233810   30                   0   \n",
       "4                 0              0.907239   49                   1   \n",
       "\n",
       "   DebtToIncomeRatio  OpenCreditLines  Times90DaysLate  RealEstateLoans  \\\n",
       "0           0.802982               13                0                6   \n",
       "1           0.121876                4                0                0   \n",
       "2           0.085113                2                1                0   \n",
       "3           0.036050                5                0                0   \n",
       "4           0.024926                7                0                1   \n",
       "\n",
       "   Times60_89DaysLate  MonthlyIncome  NumberOfDependents  TotalPastDue  \\\n",
       "0                   0         9120.0                 2.0             2   \n",
       "1                   0         2600.0                 1.0             0   \n",
       "2                   0         3042.0                 0.0             2   \n",
       "3                   0         3300.0                 0.0             0   \n",
       "4                   0        23011.9                 0.0             1   \n",
       "\n",
       "   FinancialStressScore  CreditBurdenPerLine  AgeUtilizationRatio  \\\n",
       "0              0.615186           651.428571            57.980231   \n",
       "1              0.116654           520.000000            41.358587   \n",
       "2              0.056020          1014.000000            56.870891   \n",
       "3              0.008429           550.000000           123.046748   \n",
       "4              0.022614          2876.487500            53.421168   \n",
       "\n",
       "   IncomeAgeRatio  LinesPerYear  \n",
       "0      198.260870      0.282609  \n",
       "1       63.414634      0.097561  \n",
       "2       78.000000      0.051282  \n",
       "3      106.451613      0.161290  \n",
       "4      460.238000      0.140000  "
      ]
     },
     "execution_count": 2,
     "metadata": {},
     "output_type": "execute_result"
    }
   ],
   "source": [
    "# Load the cleaned dataset\n",
    "df = pd.read_csv(\"../data/df_cleaned.csv\")  # Ajusta ruta si es necesario\n",
    "\n",
    "# Preview\n",
    "df.head()\n"
   ]
  },
  {
   "cell_type": "code",
   "execution_count": 3,
   "id": "5a443adb",
   "metadata": {},
   "outputs": [
    {
     "name": "stdout",
     "output_type": "stream",
     "text": [
      "<class 'pandas.core.frame.DataFrame'>\n",
      "RangeIndex: 147610 entries, 0 to 147609\n",
      "Data columns (total 17 columns):\n",
      " #   Column                Non-Null Count   Dtype  \n",
      "---  ------                --------------   -----  \n",
      " 0   SeriousDlqin2yrs      147610 non-null  int64  \n",
      " 1   RevolvingUtilization  147610 non-null  float64\n",
      " 2   age                   147610 non-null  int64  \n",
      " 3   Times30_59DaysLate    147610 non-null  int64  \n",
      " 4   DebtToIncomeRatio     147610 non-null  float64\n",
      " 5   OpenCreditLines       147610 non-null  int64  \n",
      " 6   Times90DaysLate       147610 non-null  int64  \n",
      " 7   RealEstateLoans       147610 non-null  int64  \n",
      " 8   Times60_89DaysLate    147610 non-null  int64  \n",
      " 9   MonthlyIncome         147610 non-null  float64\n",
      " 10  NumberOfDependents    147610 non-null  float64\n",
      " 11  TotalPastDue          147610 non-null  int64  \n",
      " 12  FinancialStressScore  147610 non-null  float64\n",
      " 13  CreditBurdenPerLine   147610 non-null  float64\n",
      " 14  AgeUtilizationRatio   147610 non-null  float64\n",
      " 15  IncomeAgeRatio        147610 non-null  float64\n",
      " 16  LinesPerYear          147610 non-null  float64\n",
      "dtypes: float64(9), int64(8)\n",
      "memory usage: 19.1 MB\n"
     ]
    }
   ],
   "source": [
    "df.info()"
   ]
  },
  {
   "cell_type": "code",
   "execution_count": 4,
   "id": "8b905053",
   "metadata": {},
   "outputs": [
    {
     "data": {
      "text/plain": [
       "SeriousDlqin2yrs\n",
       "0    0.93327\n",
       "1    0.06673\n",
       "Name: proportion, dtype: float64"
      ]
     },
     "execution_count": 4,
     "metadata": {},
     "output_type": "execute_result"
    }
   ],
   "source": [
    "df['SeriousDlqin2yrs'].value_counts(normalize=True)"
   ]
  },
  {
   "cell_type": "markdown",
   "id": "01790d11",
   "metadata": {},
   "source": [
    "## Train/Validation/Test Split\n",
    "\n",
    "To ensure reliable model evaluation and avoid data leakage, the dataset is split into three subsets:\n",
    "\n",
    "- **Training set (80%)** – Used to fit and train the model\n",
    "- **Test set (20%)** – Held out until final evaluation to assess generalization on unseen data\n",
    "\n",
    "The splits are performed using `train_test_split` with stratification to maintain the same proportion of the target variable (`SeriousDlqin2yrs`) across all subsets.\n"
   ]
  },
  {
   "cell_type": "code",
   "execution_count": 5,
   "id": "0fb0b6a7",
   "metadata": {},
   "outputs": [
    {
     "name": "stdout",
     "output_type": "stream",
     "text": [
      "Train:      (118088, 16)\n",
      "Test:       (29522, 16)\n"
     ]
    }
   ],
   "source": [
    "X = df.drop(columns=\"SeriousDlqin2yrs\")\n",
    "y = df[\"SeriousDlqin2yrs\"]\n",
    "\n",
    "X_train, X_test, y_train, y_test = train_test_split(X, y, test_size=0.2, stratify=y, random_state=42)\n",
    "\n",
    "print(f\"Train:      {X_train.shape}\")\n",
    "print(f\"Test:       {X_test.shape}\")\n"
   ]
  },
  {
   "cell_type": "markdown",
   "id": "a50da3ae",
   "metadata": {},
   "source": [
    "## Best Model Selection\n",
    "To compare the performance of several baseline models, a consistent training and evaluation pipeline was implemented. This approach ensured that all models were assessed under the same preprocessing and validation conditions, allowing for a fair and reliable comparison.\n",
    "\n",
    "- **Models trained**: Logistic Regression, Random Forest, XGBoost, and LightGBM  \n",
    "- **Validation strategy**: 5-fold Stratified Cross-Validation to preserve class distribution across folds  \n",
    "- **Preprocessing steps within each fold**:  \n",
    "  - Feature scaling to normalize the input variables  \n",
    "  - Class balancing using SMOTE to address target imbalance  \n",
    "- **Evaluation metrics**:  \n",
    "  - AUC (Area Under the ROC Curve)  \n",
    "  - F1-score  \n",
    "  - Precision  \n",
    "  - Recall  \n",
    "- **Performance recording**: Mean metric values were calculated across the five folds for each model  \n",
    "- **Purpose**: To ensure a standardized and fair comparison of model performance across all candidates\n",
    "\n"
   ]
  },
  {
   "cell_type": "code",
   "execution_count": 11,
   "id": "edaafa54",
   "metadata": {},
   "outputs": [
    {
     "name": "stdout",
     "output_type": "stream",
     "text": [
      "Training LogisticRegression\n",
      "Training RandomForest\n",
      "Training XGBoost\n",
      "Training LightGBM\n"
     ]
    },
    {
     "data": {
      "text/html": [
       "<div>\n",
       "<style scoped>\n",
       "    .dataframe tbody tr th:only-of-type {\n",
       "        vertical-align: middle;\n",
       "    }\n",
       "\n",
       "    .dataframe tbody tr th {\n",
       "        vertical-align: top;\n",
       "    }\n",
       "\n",
       "    .dataframe thead th {\n",
       "        text-align: right;\n",
       "    }\n",
       "</style>\n",
       "<table border=\"1\" class=\"dataframe\">\n",
       "  <thead>\n",
       "    <tr style=\"text-align: right;\">\n",
       "      <th></th>\n",
       "      <th>Model</th>\n",
       "      <th>CV AUC</th>\n",
       "      <th>CV AUC std</th>\n",
       "      <th>CV F1</th>\n",
       "      <th>CV Precision</th>\n",
       "      <th>CV Recall</th>\n",
       "    </tr>\n",
       "  </thead>\n",
       "  <tbody>\n",
       "    <tr>\n",
       "      <th>0</th>\n",
       "      <td>LogisticRegression</td>\n",
       "      <td>0.853608</td>\n",
       "      <td>0.005832</td>\n",
       "      <td>0.330725</td>\n",
       "      <td>0.212395</td>\n",
       "      <td>0.746954</td>\n",
       "    </tr>\n",
       "    <tr>\n",
       "      <th>1</th>\n",
       "      <td>RandomForest</td>\n",
       "      <td>0.829648</td>\n",
       "      <td>0.005805</td>\n",
       "      <td>0.344192</td>\n",
       "      <td>0.418764</td>\n",
       "      <td>0.292259</td>\n",
       "    </tr>\n",
       "    <tr>\n",
       "      <th>2</th>\n",
       "      <td>XGBoost</td>\n",
       "      <td>0.843237</td>\n",
       "      <td>0.004741</td>\n",
       "      <td>0.323891</td>\n",
       "      <td>0.455941</td>\n",
       "      <td>0.251269</td>\n",
       "    </tr>\n",
       "    <tr>\n",
       "      <th>3</th>\n",
       "      <td>LightGBM</td>\n",
       "      <td>0.854651</td>\n",
       "      <td>0.006593</td>\n",
       "      <td>0.363608</td>\n",
       "      <td>0.483998</td>\n",
       "      <td>0.291371</td>\n",
       "    </tr>\n",
       "  </tbody>\n",
       "</table>\n",
       "</div>"
      ],
      "text/plain": [
       "                Model    CV AUC  CV AUC std     CV F1  CV Precision  CV Recall\n",
       "0  LogisticRegression  0.853608    0.005832  0.330725      0.212395   0.746954\n",
       "1        RandomForest  0.829648    0.005805  0.344192      0.418764   0.292259\n",
       "2             XGBoost  0.843237    0.004741  0.323891      0.455941   0.251269\n",
       "3            LightGBM  0.854651    0.006593  0.363608      0.483998   0.291371"
      ]
     },
     "execution_count": 11,
     "metadata": {},
     "output_type": "execute_result"
    }
   ],
   "source": [
    "# Define models with basic hyperparameters \n",
    "models = {\n",
    "    'LogisticRegression': LogisticRegression(random_state=42),\n",
    "    'RandomForest': RandomForestClassifier(random_state=42),\n",
    "    'XGBoost': xgb.XGBClassifier(random_state=42),\n",
    "    'LightGBM': lgb.LGBMClassifier(random_state=42, verbose=-1),\n",
    "}\n",
    "\n",
    "# Initialize cross-validation\n",
    "skf = StratifiedKFold(n_splits=5, shuffle=True, random_state=42)\n",
    "\n",
    "# To store results\n",
    "results = []\n",
    "\n",
    "# Evaluate each model\n",
    "for model_name, model in models.items():\n",
    "    print(f\"Training {model_name}\")\n",
    "    aucs, f1s, precisions, recalls = [], [], [], []\n",
    "\n",
    "    for train_idx, val_idx in skf.split(X_train, y_train):\n",
    "        X_train_fold_raw, y_train_fold = X_train.iloc[train_idx], y_train.iloc[train_idx]\n",
    "        X_val_fold_raw, y_val_fold = X_train.iloc[val_idx], y_train.iloc[val_idx]\n",
    "\n",
    "        # Scale training and validation separately to avoid leakage\n",
    "        scaler = MinMaxScaler()\n",
    "        X_train_fold_scaled = scaler.fit_transform(X_train_fold_raw)\n",
    "        X_val_fold_scaled = scaler.transform(X_val_fold_raw)\n",
    "\n",
    "        # Apply SMOTE on the scaled training fold\n",
    "        smote = SMOTE(random_state=42)\n",
    "        X_train_fold, y_train_fold = smote.fit_resample(X_train_fold_scaled, y_train_fold)\n",
    "\n",
    "        # Fit model and evaluate\n",
    "        model.fit(X_train_fold, y_train_fold)\n",
    "        y_pred = model.predict(X_val_fold_scaled)\n",
    "        y_prob = model.predict_proba(X_val_fold_scaled)[:, 1]\n",
    "\n",
    "        aucs.append(roc_auc_score(y_val_fold, y_prob))\n",
    "        f1s.append(f1_score(y_val_fold, y_pred))\n",
    "        precisions.append(precision_score(y_val_fold, y_pred))\n",
    "        recalls.append(recall_score(y_val_fold, y_pred))\n",
    "\n",
    "    # Store average CV metrics + test metrics\n",
    "    results.append({\n",
    "        'Model': model_name,\n",
    "        'CV AUC': np.mean(aucs),\n",
    "        'CV AUC std': np.std(aucs),\n",
    "        'CV F1': np.mean(f1s),\n",
    "        'CV Precision': np.mean(precisions),\n",
    "        'CV Recall': np.mean(recalls),\n",
    "    })\n",
    "\n",
    "# Show results\n",
    "results_df = pd.DataFrame(results)\n",
    "results_df\n"
   ]
  },
  {
   "cell_type": "markdown",
   "id": "0fa8fb29",
   "metadata": {},
   "source": [
    "## Hyperparameters Search for the Best Model\n",
    "To improve the performance of the best baseline model, hyperparameter tuning was conducted using Optuna. LightGBM, identified as the top-performing model, was optimized by maximizing its average AUC score across stratified folds while maintaining consistent preprocessing.\n",
    "\n",
    "- **Model optimized**: LightGBM (selected as the best performer from baseline models)  \n",
    "- **Optimization method**: Optuna, an efficient hyperparameter optimization framework  \n",
    "- **Objective**: Maximize the average AUC score across 5 Stratified K-Folds  \n",
    "- **Hyperparameters explored**:  \n",
    "  - `n_estimators`  \n",
    "  - `learning_rate`  \n",
    "  - `max_depth`  \n",
    "  - `num_leaves`  \n",
    "  - Other relevant parameters  \n",
    "- **Preprocessing within each fold**:  \n",
    "  - Feature scaling  \n",
    "  - Class balancing using SMOTE  \n",
    "  - Ensured no data leakage during training and evaluation  \n",
    "- **Outcome**: The best hyperparameter set identified by Optuna was used to retrain the final LightGBM model\n"
   ]
  },
  {
   "cell_type": "code",
   "execution_count": 12,
   "id": "24afed0b",
   "metadata": {},
   "outputs": [
    {
     "name": "stderr",
     "output_type": "stream",
     "text": [
      "[I 2025-05-18 23:09:42,681] A new study created in memory with name: no-name-97c362c4-e4f7-4b8f-9386-c81c9912bd7b\n",
      "[I 2025-05-18 23:09:47,847] Trial 0 finished with value: 0.8520187957109757 and parameters: {'n_estimators': 76, 'learning_rate': 0.015026831215662768, 'max_depth': 9, 'num_leaves_power': 5, 'num_leaves': 29, 'min_child_samples': 26, 'subsample': 0.7752959114334187, 'colsample_bytree': 0.853544842772741}. Best is trial 0 with value: 0.8520187957109757.\n"
     ]
    },
    {
     "name": "stdout",
     "output_type": "stream",
     "text": [
      "[Trial 0] AUCs: ['0.8430', '0.8517', '0.8540', '0.8628', '0.8486'] | Mean AUC: 0.8520 | Std: 0.0065\n"
     ]
    },
    {
     "name": "stderr",
     "output_type": "stream",
     "text": [
      "[I 2025-05-18 23:09:56,535] Trial 1 finished with value: 0.8489618696695299 and parameters: {'n_estimators': 218, 'learning_rate': 0.22335774223149255, 'max_depth': 5, 'num_leaves_power': 7, 'num_leaves': 27, 'min_child_samples': 15, 'subsample': 0.8852306284137574, 'colsample_bytree': 0.9634807007231349}. Best is trial 0 with value: 0.8520187957109757.\n"
     ]
    },
    {
     "name": "stdout",
     "output_type": "stream",
     "text": [
      "[Trial 1] AUCs: ['0.8424', '0.8519', '0.8502', '0.8586', '0.8417'] | Mean AUC: 0.8490 | Std: 0.0063\n"
     ]
    },
    {
     "name": "stderr",
     "output_type": "stream",
     "text": [
      "[I 2025-05-18 23:10:04,468] Trial 2 finished with value: 0.8542326252394725 and parameters: {'n_estimators': 188, 'learning_rate': 0.031474998889571684, 'max_depth': 7, 'num_leaves_power': 5, 'num_leaves': 28, 'min_child_samples': 17, 'subsample': 0.8309418575807702, 'colsample_bytree': 0.6178361353218947}. Best is trial 2 with value: 0.8542326252394725.\n"
     ]
    },
    {
     "name": "stdout",
     "output_type": "stream",
     "text": [
      "[Trial 2] AUCs: ['0.8483', '0.8529', '0.8547', '0.8658', '0.8495'] | Mean AUC: 0.8542 | Std: 0.0062\n"
     ]
    },
    {
     "name": "stderr",
     "output_type": "stream",
     "text": [
      "[I 2025-05-18 23:10:16,665] Trial 3 finished with value: 0.855558797694551 and parameters: {'n_estimators': 278, 'learning_rate': 0.010710915864361773, 'max_depth': 5, 'num_leaves_power': 5, 'num_leaves': 30, 'min_child_samples': 19, 'subsample': 0.9393182803225159, 'colsample_bytree': 0.8295157154511585}. Best is trial 3 with value: 0.855558797694551.\n"
     ]
    },
    {
     "name": "stdout",
     "output_type": "stream",
     "text": [
      "[Trial 3] AUCs: ['0.8496', '0.8563', '0.8565', '0.8656', '0.8497'] | Mean AUC: 0.8556 | Std: 0.0059\n"
     ]
    },
    {
     "name": "stderr",
     "output_type": "stream",
     "text": [
      "[I 2025-05-18 23:10:24,809] Trial 4 finished with value: 0.85498733735208 and parameters: {'n_estimators': 136, 'learning_rate': 0.011382405361970088, 'max_depth': 6, 'num_leaves_power': 7, 'num_leaves': 126, 'min_child_samples': 11, 'subsample': 0.9628734872896909, 'colsample_bytree': 0.692621272274061}. Best is trial 3 with value: 0.855558797694551.\n"
     ]
    },
    {
     "name": "stdout",
     "output_type": "stream",
     "text": [
      "[Trial 4] AUCs: ['0.8493', '0.8548', '0.8562', '0.8651', '0.8497'] | Mean AUC: 0.8550 | Std: 0.0057\n"
     ]
    },
    {
     "name": "stderr",
     "output_type": "stream",
     "text": [
      "[I 2025-05-18 23:10:31,095] Trial 5 finished with value: 0.8494392509011724 and parameters: {'n_estimators': 109, 'learning_rate': 0.13291644535328637, 'max_depth': 7, 'num_leaves_power': 7, 'num_leaves': 78, 'min_child_samples': 27, 'subsample': 0.979205023207037, 'colsample_bytree': 0.9394678437282291}. Best is trial 3 with value: 0.855558797694551.\n"
     ]
    },
    {
     "name": "stdout",
     "output_type": "stream",
     "text": [
      "[Trial 5] AUCs: ['0.8433', '0.8487', '0.8477', '0.8621', '0.8453'] | Mean AUC: 0.8494 | Std: 0.0066\n"
     ]
    },
    {
     "name": "stderr",
     "output_type": "stream",
     "text": [
      "[I 2025-05-18 23:10:48,534] Trial 6 finished with value: 0.8540423565135133 and parameters: {'n_estimators': 230, 'learning_rate': 0.013136445694510487, 'max_depth': 9, 'num_leaves_power': 7, 'num_leaves': 108, 'min_child_samples': 27, 'subsample': 0.6399367851539234, 'colsample_bytree': 0.7825011810177903}. Best is trial 3 with value: 0.855558797694551.\n"
     ]
    },
    {
     "name": "stdout",
     "output_type": "stream",
     "text": [
      "[Trial 6] AUCs: ['0.8470', '0.8551', '0.8544', '0.8653', '0.8484'] | Mean AUC: 0.8540 | Std: 0.0065\n"
     ]
    },
    {
     "name": "stderr",
     "output_type": "stream",
     "text": [
      "[I 2025-05-18 23:10:54,868] Trial 7 finished with value: 0.8523305312452173 and parameters: {'n_estimators': 76, 'learning_rate': 0.06846145494322228, 'max_depth': 10, 'num_leaves_power': 7, 'num_leaves': 95, 'min_child_samples': 10, 'subsample': 0.8354633941602211, 'colsample_bytree': 0.6717845452149195}. Best is trial 3 with value: 0.855558797694551.\n"
     ]
    },
    {
     "name": "stdout",
     "output_type": "stream",
     "text": [
      "[Trial 7] AUCs: ['0.8460', '0.8535', '0.8520', '0.8645', '0.8456'] | Mean AUC: 0.8523 | Std: 0.0068\n"
     ]
    },
    {
     "name": "stderr",
     "output_type": "stream",
     "text": [
      "[I 2025-05-18 23:11:00,938] Trial 8 finished with value: 0.8550394899011773 and parameters: {'n_estimators': 159, 'learning_rate': 0.0215601218359651, 'max_depth': 3, 'num_leaves_power': 6, 'num_leaves': 21, 'min_child_samples': 22, 'subsample': 0.7757413562980819, 'colsample_bytree': 0.9102676681504888}. Best is trial 3 with value: 0.855558797694551.\n"
     ]
    },
    {
     "name": "stdout",
     "output_type": "stream",
     "text": [
      "[Trial 8] AUCs: ['0.8488', '0.8564', '0.8563', '0.8640', '0.8497'] | Mean AUC: 0.8550 | Std: 0.0055\n"
     ]
    },
    {
     "name": "stderr",
     "output_type": "stream",
     "text": [
      "[I 2025-05-18 23:11:05,346] Trial 9 finished with value: 0.8537357428716306 and parameters: {'n_estimators': 53, 'learning_rate': 0.022278919416534666, 'max_depth': 6, 'num_leaves_power': 7, 'num_leaves': 65, 'min_child_samples': 20, 'subsample': 0.8304150609714834, 'colsample_bytree': 0.9273524195815676}. Best is trial 3 with value: 0.855558797694551.\n"
     ]
    },
    {
     "name": "stdout",
     "output_type": "stream",
     "text": [
      "[Trial 9] AUCs: ['0.8487', '0.8526', '0.8553', '0.8639', '0.8482'] | Mean AUC: 0.8537 | Std: 0.0057\n"
     ]
    },
    {
     "name": "stderr",
     "output_type": "stream",
     "text": [
      "[I 2025-05-18 23:11:15,560] Trial 10 finished with value: 0.8536840630801248 and parameters: {'n_estimators': 300, 'learning_rate': 0.055411154262592285, 'max_depth': 3, 'num_leaves_power': 6, 'num_leaves': 40, 'min_child_samples': 23, 'subsample': 0.6774210091310288, 'colsample_bytree': 0.799143394456911}. Best is trial 3 with value: 0.855558797694551.\n"
     ]
    },
    {
     "name": "stdout",
     "output_type": "stream",
     "text": [
      "[Trial 10] AUCs: ['0.8498', '0.8531', '0.8533', '0.8651', '0.8471'] | Mean AUC: 0.8537 | Std: 0.0062\n"
     ]
    },
    {
     "name": "stderr",
     "output_type": "stream",
     "text": [
      "[I 2025-05-18 23:11:24,346] Trial 11 finished with value: 0.8551605982175831 and parameters: {'n_estimators': 300, 'learning_rate': 0.026457509573330526, 'max_depth': 3, 'num_leaves_power': 6, 'num_leaves': 21, 'min_child_samples': 21, 'subsample': 0.7328969405729571, 'colsample_bytree': 0.8656889735672096}. Best is trial 3 with value: 0.855558797694551.\n"
     ]
    },
    {
     "name": "stdout",
     "output_type": "stream",
     "text": [
      "[Trial 11] AUCs: ['0.8487', '0.8553', '0.8559', '0.8661', '0.8498'] | Mean AUC: 0.8552 | Std: 0.0062\n"
     ]
    },
    {
     "name": "stderr",
     "output_type": "stream",
     "text": [
      "[I 2025-05-18 23:11:34,888] Trial 12 finished with value: 0.8541799657725214 and parameters: {'n_estimators': 297, 'learning_rate': 0.03344131218009646, 'max_depth': 4, 'num_leaves_power': 5, 'num_leaves': 20, 'min_child_samples': 18, 'subsample': 0.7045348545032339, 'colsample_bytree': 0.8474200497008662}. Best is trial 3 with value: 0.855558797694551.\n"
     ]
    },
    {
     "name": "stdout",
     "output_type": "stream",
     "text": [
      "[Trial 12] AUCs: ['0.8498', '0.8545', '0.8551', '0.8632', '0.8482'] | Mean AUC: 0.8542 | Std: 0.0052\n"
     ]
    },
    {
     "name": "stderr",
     "output_type": "stream",
     "text": [
      "[I 2025-05-18 23:11:44,703] Trial 13 finished with value: 0.8548929066026378 and parameters: {'n_estimators': 262, 'learning_rate': 0.010076637063525863, 'max_depth': 4, 'num_leaves_power': 6, 'num_leaves': 37, 'min_child_samples': 30, 'subsample': 0.9216138140935028, 'colsample_bytree': 0.7433341807491742}. Best is trial 3 with value: 0.855558797694551.\n"
     ]
    },
    {
     "name": "stdout",
     "output_type": "stream",
     "text": [
      "[Trial 13] AUCs: ['0.8493', '0.8554', '0.8561', '0.8638', '0.8499'] | Mean AUC: 0.8549 | Std: 0.0052\n"
     ]
    },
    {
     "name": "stderr",
     "output_type": "stream",
     "text": [
      "[I 2025-05-18 23:11:57,191] Trial 14 finished with value: 0.8527114854136008 and parameters: {'n_estimators': 259, 'learning_rate': 0.03630691925914021, 'max_depth': 5, 'num_leaves_power': 6, 'num_leaves': 34, 'min_child_samples': 14, 'subsample': 0.7282236528274473, 'colsample_bytree': 0.863867745071811}. Best is trial 3 with value: 0.855558797694551.\n"
     ]
    },
    {
     "name": "stdout",
     "output_type": "stream",
     "text": [
      "[Trial 14] AUCs: ['0.8483', '0.8529', '0.8529', '0.8632', '0.8462'] | Mean AUC: 0.8527 | Std: 0.0059\n"
     ]
    },
    {
     "name": "stderr",
     "output_type": "stream",
     "text": [
      "[I 2025-05-18 23:12:05,937] Trial 15 finished with value: 0.8530127393818219 and parameters: {'n_estimators': 262, 'learning_rate': 0.09184551413154242, 'max_depth': 4, 'num_leaves_power': 5, 'num_leaves': 23, 'min_child_samples': 22, 'subsample': 0.600747013976996, 'colsample_bytree': 0.8776542573741694}. Best is trial 3 with value: 0.855558797694551.\n"
     ]
    },
    {
     "name": "stdout",
     "output_type": "stream",
     "text": [
      "[Trial 15] AUCs: ['0.8476', '0.8525', '0.8530', '0.8645', '0.8475'] | Mean AUC: 0.8530 | Std: 0.0062\n"
     ]
    },
    {
     "name": "stderr",
     "output_type": "stream",
     "text": [
      "[I 2025-05-18 23:12:13,468] Trial 16 finished with value: 0.8551612181375429 and parameters: {'n_estimators': 220, 'learning_rate': 0.018645447262173986, 'max_depth': 3, 'num_leaves_power': 6, 'num_leaves': 45, 'min_child_samples': 19, 'subsample': 0.8938197332123946, 'colsample_bytree': 0.9968975604703756}. Best is trial 3 with value: 0.855558797694551.\n"
     ]
    },
    {
     "name": "stdout",
     "output_type": "stream",
     "text": [
      "[Trial 16] AUCs: ['0.8490', '0.8560', '0.8557', '0.8648', '0.8502'] | Mean AUC: 0.8552 | Std: 0.0056\n"
     ]
    },
    {
     "name": "stderr",
     "output_type": "stream",
     "text": [
      "[I 2025-05-18 23:12:23,190] Trial 17 finished with value: 0.8551210323701384 and parameters: {'n_estimators': 206, 'learning_rate': 0.018590464146299612, 'max_depth': 5, 'num_leaves_power': 5, 'num_leaves': 24, 'min_child_samples': 18, 'subsample': 0.8988565226006316, 'colsample_bytree': 0.9841244799264561}. Best is trial 3 with value: 0.855558797694551.\n"
     ]
    },
    {
     "name": "stdout",
     "output_type": "stream",
     "text": [
      "[Trial 17] AUCs: ['0.8497', '0.8565', '0.8560', '0.8652', '0.8483'] | Mean AUC: 0.8551 | Std: 0.0060\n"
     ]
    },
    {
     "name": "stderr",
     "output_type": "stream",
     "text": [
      "[I 2025-05-18 23:12:32,904] Trial 18 finished with value: 0.8552653327499542 and parameters: {'n_estimators': 244, 'learning_rate': 0.014383923853085913, 'max_depth': 4, 'num_leaves_power': 5, 'num_leaves': 25, 'min_child_samples': 13, 'subsample': 0.9401780567815375, 'colsample_bytree': 0.99945180301485}. Best is trial 3 with value: 0.855558797694551.\n"
     ]
    },
    {
     "name": "stdout",
     "output_type": "stream",
     "text": [
      "[Trial 18] AUCs: ['0.8496', '0.8558', '0.8563', '0.8649', '0.8497'] | Mean AUC: 0.8553 | Std: 0.0056\n"
     ]
    },
    {
     "name": "stderr",
     "output_type": "stream",
     "text": [
      "[I 2025-05-18 23:12:43,172] Trial 19 finished with value: 0.8542063817741351 and parameters: {'n_estimators': 243, 'learning_rate': 0.047990087019256646, 'max_depth': 8, 'num_leaves_power': 5, 'num_leaves': 25, 'min_child_samples': 13, 'subsample': 0.940053696787884, 'colsample_bytree': 0.7383070557000859}. Best is trial 3 with value: 0.855558797694551.\n"
     ]
    },
    {
     "name": "stdout",
     "output_type": "stream",
     "text": [
      "[Trial 19] AUCs: ['0.8486', '0.8534', '0.8546', '0.8655', '0.8489'] | Mean AUC: 0.8542 | Std: 0.0061\n"
     ]
    },
    {
     "name": "stderr",
     "output_type": "stream",
     "text": [
      "[I 2025-05-18 23:12:50,809] Trial 20 finished with value: 0.8559420198501835 and parameters: {'n_estimators': 184, 'learning_rate': 0.014033842244362278, 'max_depth': 6, 'num_leaves_power': 5, 'num_leaves': 26, 'min_child_samples': 12, 'subsample': 0.991411078803143, 'colsample_bytree': 0.6120638524522399}. Best is trial 20 with value: 0.8559420198501835.\n"
     ]
    },
    {
     "name": "stdout",
     "output_type": "stream",
     "text": [
      "[Trial 20] AUCs: ['0.8511', '0.8553', '0.8566', '0.8663', '0.8505'] | Mean AUC: 0.8559 | Std: 0.0057\n"
     ]
    },
    {
     "name": "stderr",
     "output_type": "stream",
     "text": [
      "[I 2025-05-18 23:12:58,150] Trial 21 finished with value: 0.8559945885156139 and parameters: {'n_estimators': 173, 'learning_rate': 0.01531892896229246, 'max_depth': 6, 'num_leaves_power': 5, 'num_leaves': 26, 'min_child_samples': 12, 'subsample': 0.9941247873532972, 'colsample_bytree': 0.6270757247797687}. Best is trial 21 with value: 0.8559945885156139.\n"
     ]
    },
    {
     "name": "stdout",
     "output_type": "stream",
     "text": [
      "[Trial 21] AUCs: ['0.8511', '0.8556', '0.8566', '0.8664', '0.8502'] | Mean AUC: 0.8560 | Std: 0.0058\n"
     ]
    },
    {
     "name": "stderr",
     "output_type": "stream",
     "text": [
      "[I 2025-05-18 23:13:05,223] Trial 22 finished with value: 0.8551337943122543 and parameters: {'n_estimators': 165, 'learning_rate': 0.010488557158404565, 'max_depth': 6, 'num_leaves_power': 5, 'num_leaves': 27, 'min_child_samples': 16, 'subsample': 0.9867994784441425, 'colsample_bytree': 0.6054040420487098}. Best is trial 21 with value: 0.8559945885156139.\n"
     ]
    },
    {
     "name": "stdout",
     "output_type": "stream",
     "text": [
      "[Trial 22] AUCs: ['0.8501', '0.8547', '0.8560', '0.8652', '0.8497'] | Mean AUC: 0.8551 | Std: 0.0056\n"
     ]
    },
    {
     "name": "stderr",
     "output_type": "stream",
     "text": [
      "[I 2025-05-18 23:13:11,415] Trial 23 finished with value: 0.8555770680464937 and parameters: {'n_estimators': 140, 'learning_rate': 0.01622224681063093, 'max_depth': 7, 'num_leaves_power': 5, 'num_leaves': 26, 'min_child_samples': 12, 'subsample': 0.994366489711649, 'colsample_bytree': 0.6380752616933194}. Best is trial 21 with value: 0.8559945885156139.\n"
     ]
    },
    {
     "name": "stdout",
     "output_type": "stream",
     "text": [
      "[Trial 23] AUCs: ['0.8498', '0.8548', '0.8563', '0.8657', '0.8511'] | Mean AUC: 0.8556 | Std: 0.0056\n"
     ]
    },
    {
     "name": "stderr",
     "output_type": "stream",
     "text": [
      "[I 2025-05-18 23:13:18,564] Trial 24 finished with value: 0.8556102613451724 and parameters: {'n_estimators': 140, 'learning_rate': 0.015742311317571138, 'max_depth': 7, 'num_leaves_power': 5, 'num_leaves': 26, 'min_child_samples': 11, 'subsample': 0.9842970532652311, 'colsample_bytree': 0.6517077529259254}. Best is trial 21 with value: 0.8559945885156139.\n"
     ]
    },
    {
     "name": "stdout",
     "output_type": "stream",
     "text": [
      "[Trial 24] AUCs: ['0.8500', '0.8549', '0.8564', '0.8657', '0.8511'] | Mean AUC: 0.8556 | Std: 0.0056\n"
     ]
    },
    {
     "name": "stderr",
     "output_type": "stream",
     "text": [
      "[I 2025-05-18 23:13:28,926] Trial 25 finished with value: 0.8555956023189951 and parameters: {'n_estimators': 186, 'learning_rate': 0.025986758281230055, 'max_depth': 8, 'num_leaves_power': 5, 'num_leaves': 23, 'min_child_samples': 10, 'subsample': 0.9983987413269226, 'colsample_bytree': 0.6650171363868355}. Best is trial 21 with value: 0.8559945885156139.\n"
     ]
    },
    {
     "name": "stdout",
     "output_type": "stream",
     "text": [
      "[Trial 25] AUCs: ['0.8487', '0.8554', '0.8562', '0.8671', '0.8506'] | Mean AUC: 0.8556 | Std: 0.0064\n"
     ]
    },
    {
     "name": "stderr",
     "output_type": "stream",
     "text": [
      "[I 2025-05-18 23:13:35,448] Trial 26 finished with value: 0.8555346746215282 and parameters: {'n_estimators': 125, 'learning_rate': 0.01768818922572657, 'max_depth': 8, 'num_leaves_power': 5, 'num_leaves': 26, 'min_child_samples': 12, 'subsample': 0.8615872634409535, 'colsample_bytree': 0.7073773136752488}. Best is trial 21 with value: 0.8559945885156139.\n"
     ]
    },
    {
     "name": "stdout",
     "output_type": "stream",
     "text": [
      "[Trial 26] AUCs: ['0.8486', '0.8549', '0.8566', '0.8663', '0.8513'] | Mean AUC: 0.8555 | Std: 0.0061\n"
     ]
    },
    {
     "name": "stderr",
     "output_type": "stream",
     "text": [
      "[I 2025-05-18 23:13:41,924] Trial 27 finished with value: 0.8529125145172566 and parameters: {'n_estimators': 153, 'learning_rate': 0.04441705311399744, 'max_depth': 6, 'num_leaves_power': 6, 'num_leaves': 32, 'min_child_samples': 15, 'subsample': 0.9529127716117021, 'colsample_bytree': 0.6440345299348696}. Best is trial 21 with value: 0.8559945885156139.\n"
     ]
    },
    {
     "name": "stdout",
     "output_type": "stream",
     "text": [
      "[Trial 27] AUCs: ['0.8482', '0.8520', '0.8531', '0.8634', '0.8478'] | Mean AUC: 0.8529 | Std: 0.0057\n"
     ]
    },
    {
     "name": "stderr",
     "output_type": "stream",
     "text": [
      "[I 2025-05-18 23:13:49,345] Trial 28 finished with value: 0.8548188724376088 and parameters: {'n_estimators': 184, 'learning_rate': 0.02434820337074867, 'max_depth': 7, 'num_leaves_power': 5, 'num_leaves': 24, 'min_child_samples': 10, 'subsample': 0.9153469997475757, 'colsample_bytree': 0.6036532468239284}. Best is trial 21 with value: 0.8559945885156139.\n"
     ]
    },
    {
     "name": "stdout",
     "output_type": "stream",
     "text": [
      "[Trial 28] AUCs: ['0.8483', '0.8541', '0.8559', '0.8659', '0.8499'] | Mean AUC: 0.8548 | Std: 0.0062\n"
     ]
    },
    {
     "name": "stderr",
     "output_type": "stream",
     "text": [
      "[I 2025-05-18 23:13:54,732] Trial 29 finished with value: 0.8547381064062491 and parameters: {'n_estimators': 107, 'learning_rate': 0.013507272866250442, 'max_depth': 9, 'num_leaves_power': 5, 'num_leaves': 27, 'min_child_samples': 12, 'subsample': 0.9648565578518997, 'colsample_bytree': 0.6406716552683503}. Best is trial 21 with value: 0.8559945885156139.\n"
     ]
    },
    {
     "name": "stdout",
     "output_type": "stream",
     "text": [
      "[Trial 29] AUCs: ['0.8469', '0.8540', '0.8562', '0.8655', '0.8510'] | Mean AUC: 0.8547 | Std: 0.0062\n"
     ]
    },
    {
     "name": "stderr",
     "output_type": "stream",
     "text": [
      "[I 2025-05-18 23:14:03,944] Trial 30 finished with value: 0.8560091040933205 and parameters: {'n_estimators': 200, 'learning_rate': 0.013970083410474352, 'max_depth': 8, 'num_leaves_power': 5, 'num_leaves': 25, 'min_child_samples': 14, 'subsample': 0.8701023131812934, 'colsample_bytree': 0.7186251922607874}. Best is trial 30 with value: 0.8560091040933205.\n"
     ]
    },
    {
     "name": "stdout",
     "output_type": "stream",
     "text": [
      "[Trial 30] AUCs: ['0.8495', '0.8555', '0.8565', '0.8672', '0.8514'] | Mean AUC: 0.8560 | Std: 0.0062\n"
     ]
    },
    {
     "name": "stderr",
     "output_type": "stream",
     "text": [
      "[I 2025-05-18 23:14:13,894] Trial 31 finished with value: 0.8560576725450273 and parameters: {'n_estimators': 203, 'learning_rate': 0.013997909868661059, 'max_depth': 8, 'num_leaves_power': 5, 'num_leaves': 25, 'min_child_samples': 13, 'subsample': 0.8666872936819157, 'colsample_bytree': 0.7095239719602514}. Best is trial 31 with value: 0.8560576725450273.\n"
     ]
    },
    {
     "name": "stdout",
     "output_type": "stream",
     "text": [
      "[Trial 31] AUCs: ['0.8494', '0.8557', '0.8566', '0.8672', '0.8514'] | Mean AUC: 0.8561 | Std: 0.0062\n"
     ]
    },
    {
     "name": "stderr",
     "output_type": "stream",
     "text": [
      "[I 2025-05-18 23:14:22,085] Trial 32 finished with value: 0.8450301248106253 and parameters: {'n_estimators': 203, 'learning_rate': 0.24336237033340455, 'max_depth': 8, 'num_leaves_power': 5, 'num_leaves': 25, 'min_child_samples': 14, 'subsample': 0.860137543924688, 'colsample_bytree': 0.7317927336075833}. Best is trial 31 with value: 0.8560576725450273.\n"
     ]
    },
    {
     "name": "stdout",
     "output_type": "stream",
     "text": [
      "[Trial 32] AUCs: ['0.8390', '0.8465', '0.8464', '0.8543', '0.8390'] | Mean AUC: 0.8450 | Std: 0.0057\n"
     ]
    },
    {
     "name": "stderr",
     "output_type": "stream",
     "text": [
      "[I 2025-05-18 23:14:31,479] Trial 33 finished with value: 0.8558263594648953 and parameters: {'n_estimators': 201, 'learning_rate': 0.013416857121058435, 'max_depth': 10, 'num_leaves_power': 5, 'num_leaves': 24, 'min_child_samples': 16, 'subsample': 0.7903408859926893, 'colsample_bytree': 0.6894430717397237}. Best is trial 31 with value: 0.8560576725450273.\n"
     ]
    },
    {
     "name": "stdout",
     "output_type": "stream",
     "text": [
      "[Trial 33] AUCs: ['0.8489', '0.8554', '0.8562', '0.8672', '0.8514'] | Mean AUC: 0.8558 | Std: 0.0063\n"
     ]
    },
    {
     "name": "stderr",
     "output_type": "stream",
     "text": [
      "[I 2025-05-18 23:14:38,961] Trial 34 finished with value: 0.8562139323240594 and parameters: {'n_estimators': 166, 'learning_rate': 0.01939780974100243, 'max_depth': 9, 'num_leaves_power': 5, 'num_leaves': 28, 'min_child_samples': 14, 'subsample': 0.8632354948486095, 'colsample_bytree': 0.7112087165995233}. Best is trial 34 with value: 0.8562139323240594.\n"
     ]
    },
    {
     "name": "stdout",
     "output_type": "stream",
     "text": [
      "[Trial 34] AUCs: ['0.8496', '0.8564', '0.8563', '0.8679', '0.8509'] | Mean AUC: 0.8562 | Std: 0.0065\n"
     ]
    },
    {
     "name": "stderr",
     "output_type": "stream",
     "text": [
      "[I 2025-05-18 23:14:46,967] Trial 35 finished with value: 0.8562777120852288 and parameters: {'n_estimators': 163, 'learning_rate': 0.020430340213423184, 'max_depth': 10, 'num_leaves_power': 5, 'num_leaves': 28, 'min_child_samples': 15, 'subsample': 0.8074984750266095, 'colsample_bytree': 0.7668981072322909}. Best is trial 35 with value: 0.8562777120852288.\n"
     ]
    },
    {
     "name": "stdout",
     "output_type": "stream",
     "text": [
      "[Trial 35] AUCs: ['0.8500', '0.8571', '0.8559', '0.8677', '0.8508'] | Mean AUC: 0.8563 | Std: 0.0064\n"
     ]
    },
    {
     "name": "stderr",
     "output_type": "stream",
     "text": [
      "[I 2025-05-18 23:14:56,937] Trial 36 finished with value: 0.8543915129329847 and parameters: {'n_estimators': 217, 'learning_rate': 0.030020755722815224, 'max_depth': 9, 'num_leaves_power': 5, 'num_leaves': 28, 'min_child_samples': 16, 'subsample': 0.8234242883877165, 'colsample_bytree': 0.7589310466482551}. Best is trial 35 with value: 0.8562777120852288.\n"
     ]
    },
    {
     "name": "stdout",
     "output_type": "stream",
     "text": [
      "[Trial 36] AUCs: ['0.8484', '0.8542', '0.8545', '0.8668', '0.8480'] | Mean AUC: 0.8544 | Std: 0.0068\n"
     ]
    },
    {
     "name": "stderr",
     "output_type": "stream",
     "text": [
      "[I 2025-05-18 23:15:04,119] Trial 37 finished with value: 0.8504275441681444 and parameters: {'n_estimators': 172, 'learning_rate': 0.17622263549115552, 'max_depth': 10, 'num_leaves_power': 6, 'num_leaves': 33, 'min_child_samples': 14, 'subsample': 0.8479048468771756, 'colsample_bytree': 0.772119945338614}. Best is trial 35 with value: 0.8562777120852288.\n"
     ]
    },
    {
     "name": "stdout",
     "output_type": "stream",
     "text": [
      "[Trial 37] AUCs: ['0.8465', '0.8517', '0.8477', '0.8609', '0.8454'] | Mean AUC: 0.8504 | Std: 0.0056\n"
     ]
    },
    {
     "name": "stderr",
     "output_type": "stream",
     "text": [
      "[I 2025-05-18 23:15:10,911] Trial 38 finished with value: 0.8562338887188016 and parameters: {'n_estimators': 151, 'learning_rate': 0.020421566792430564, 'max_depth': 9, 'num_leaves_power': 5, 'num_leaves': 28, 'min_child_samples': 17, 'subsample': 0.8011443312910087, 'colsample_bytree': 0.7141200335651101}. Best is trial 35 with value: 0.8562777120852288.\n"
     ]
    },
    {
     "name": "stdout",
     "output_type": "stream",
     "text": [
      "[Trial 38] AUCs: ['0.8495', '0.8565', '0.8562', '0.8678', '0.8512'] | Mean AUC: 0.8562 | Std: 0.0064\n"
     ]
    },
    {
     "name": "stderr",
     "output_type": "stream",
     "text": [
      "[I 2025-05-18 23:15:16,852] Trial 39 finished with value: 0.8556753973435891 and parameters: {'n_estimators': 117, 'learning_rate': 0.02038502405020977, 'max_depth': 9, 'num_leaves_power': 5, 'num_leaves': 28, 'min_child_samples': 17, 'subsample': 0.8058462213819063, 'colsample_bytree': 0.8125022772480255}. Best is trial 35 with value: 0.8562777120852288.\n"
     ]
    },
    {
     "name": "stdout",
     "output_type": "stream",
     "text": [
      "[Trial 39] AUCs: ['0.8484', '0.8561', '0.8561', '0.8665', '0.8513'] | Mean AUC: 0.8557 | Std: 0.0062\n"
     ]
    },
    {
     "name": "stderr",
     "output_type": "stream",
     "text": [
      "[I 2025-05-18 23:15:21,441] Trial 40 finished with value: 0.8565650838408875 and parameters: {'n_estimators': 88, 'learning_rate': 0.036593175878478115, 'max_depth': 10, 'num_leaves_power': 5, 'num_leaves': 30, 'min_child_samples': 17, 'subsample': 0.7828916068962536, 'colsample_bytree': 0.6903244137460921}. Best is trial 40 with value: 0.8565650838408875.\n"
     ]
    },
    {
     "name": "stdout",
     "output_type": "stream",
     "text": [
      "[Trial 40] AUCs: ['0.8497', '0.8570', '0.8565', '0.8681', '0.8516'] | Mean AUC: 0.8566 | Std: 0.0064\n"
     ]
    },
    {
     "name": "stderr",
     "output_type": "stream",
     "text": [
      "[I 2025-05-18 23:15:26,313] Trial 41 finished with value: 0.8563670350811423 and parameters: {'n_estimators': 87, 'learning_rate': 0.03834828518191222, 'max_depth': 10, 'num_leaves_power': 5, 'num_leaves': 29, 'min_child_samples': 17, 'subsample': 0.7556995824870926, 'colsample_bytree': 0.6913275438159422}. Best is trial 40 with value: 0.8565650838408875.\n"
     ]
    },
    {
     "name": "stdout",
     "output_type": "stream",
     "text": [
      "[Trial 41] AUCs: ['0.8501', '0.8566', '0.8560', '0.8685', '0.8507'] | Mean AUC: 0.8564 | Std: 0.0066\n"
     ]
    },
    {
     "name": "stderr",
     "output_type": "stream",
     "text": [
      "[I 2025-05-18 23:15:31,762] Trial 42 finished with value: 0.856194291748848 and parameters: {'n_estimators': 94, 'learning_rate': 0.04100284159282331, 'max_depth': 10, 'num_leaves_power': 5, 'num_leaves': 29, 'min_child_samples': 17, 'subsample': 0.7517117685230782, 'colsample_bytree': 0.6848909325911242}. Best is trial 40 with value: 0.8565650838408875.\n"
     ]
    },
    {
     "name": "stdout",
     "output_type": "stream",
     "text": [
      "[Trial 42] AUCs: ['0.8498', '0.8566', '0.8564', '0.8680', '0.8502'] | Mean AUC: 0.8562 | Std: 0.0066\n"
     ]
    },
    {
     "name": "stderr",
     "output_type": "stream",
     "text": [
      "[I 2025-05-18 23:15:36,174] Trial 43 finished with value: 0.855219656494933 and parameters: {'n_estimators': 70, 'learning_rate': 0.06327772772436999, 'max_depth': 10, 'num_leaves_power': 5, 'num_leaves': 29, 'min_child_samples': 19, 'subsample': 0.7777580600503466, 'colsample_bytree': 0.7573623585696427}. Best is trial 40 with value: 0.8565650838408875.\n"
     ]
    },
    {
     "name": "stdout",
     "output_type": "stream",
     "text": [
      "[Trial 43] AUCs: ['0.8481', '0.8560', '0.8552', '0.8672', '0.8496'] | Mean AUC: 0.8552 | Std: 0.0067\n"
     ]
    },
    {
     "name": "stderr",
     "output_type": "stream",
     "text": [
      "[I 2025-05-18 23:15:41,926] Trial 44 finished with value: 0.8562862980189987 and parameters: {'n_estimators': 86, 'learning_rate': 0.030104251727001236, 'max_depth': 9, 'num_leaves_power': 5, 'num_leaves': 30, 'min_child_samples': 18, 'subsample': 0.8093041008118974, 'colsample_bytree': 0.6724523054389373}. Best is trial 40 with value: 0.8565650838408875.\n"
     ]
    },
    {
     "name": "stdout",
     "output_type": "stream",
     "text": [
      "[Trial 44] AUCs: ['0.8496', '0.8560', '0.8568', '0.8677', '0.8513'] | Mean AUC: 0.8563 | Std: 0.0063\n"
     ]
    },
    {
     "name": "stderr",
     "output_type": "stream",
     "text": [
      "[I 2025-05-18 23:15:47,316] Trial 45 finished with value: 0.8563972345599034 and parameters: {'n_estimators': 85, 'learning_rate': 0.029262040186686246, 'max_depth': 10, 'num_leaves_power': 6, 'num_leaves': 36, 'min_child_samples': 20, 'subsample': 0.7522610576473984, 'colsample_bytree': 0.6744456823291489}. Best is trial 40 with value: 0.8565650838408875.\n"
     ]
    },
    {
     "name": "stdout",
     "output_type": "stream",
     "text": [
      "[Trial 45] AUCs: ['0.8495', '0.8567', '0.8567', '0.8676', '0.8515'] | Mean AUC: 0.8564 | Std: 0.0063\n"
     ]
    },
    {
     "name": "stderr",
     "output_type": "stream",
     "text": [
      "[I 2025-05-18 23:15:54,359] Trial 46 finished with value: 0.8563553568876017 and parameters: {'n_estimators': 90, 'learning_rate': 0.029146994537230204, 'max_depth': 10, 'num_leaves_power': 7, 'num_leaves': 50, 'min_child_samples': 24, 'subsample': 0.7451410272634817, 'colsample_bytree': 0.6700620888180618}. Best is trial 40 with value: 0.8565650838408875.\n"
     ]
    },
    {
     "name": "stdout",
     "output_type": "stream",
     "text": [
      "[Trial 46] AUCs: ['0.8496', '0.8567', '0.8559', '0.8682', '0.8514'] | Mean AUC: 0.8564 | Std: 0.0065\n"
     ]
    },
    {
     "name": "stderr",
     "output_type": "stream",
     "text": [
      "[I 2025-05-18 23:16:00,834] Trial 47 finished with value: 0.8564768898170125 and parameters: {'n_estimators': 90, 'learning_rate': 0.029904564881456597, 'max_depth': 10, 'num_leaves_power': 7, 'num_leaves': 49, 'min_child_samples': 23, 'subsample': 0.7556021812227106, 'colsample_bytree': 0.6629679312253602}. Best is trial 40 with value: 0.8565650838408875.\n"
     ]
    },
    {
     "name": "stdout",
     "output_type": "stream",
     "text": [
      "[Trial 47] AUCs: ['0.8495', '0.8569', '0.8566', '0.8681', '0.8513'] | Mean AUC: 0.8565 | Std: 0.0065\n"
     ]
    },
    {
     "name": "stderr",
     "output_type": "stream",
     "text": [
      "[I 2025-05-18 23:16:05,746] Trial 48 finished with value: 0.8562288822203277 and parameters: {'n_estimators': 59, 'learning_rate': 0.038357848813401915, 'max_depth': 10, 'num_leaves_power': 7, 'num_leaves': 50, 'min_child_samples': 24, 'subsample': 0.7019493620970446, 'colsample_bytree': 0.6669675922546954}. Best is trial 40 with value: 0.8565650838408875.\n"
     ]
    },
    {
     "name": "stdout",
     "output_type": "stream",
     "text": [
      "[Trial 48] AUCs: ['0.8502', '0.8568', '0.8559', '0.8674', '0.8509'] | Mean AUC: 0.8562 | Std: 0.0061\n"
     ]
    },
    {
     "name": "stderr",
     "output_type": "stream",
     "text": [
      "[I 2025-05-18 23:16:12,791] Trial 49 finished with value: 0.8545492628946164 and parameters: {'n_estimators': 95, 'learning_rate': 0.05125492936127573, 'max_depth': 10, 'num_leaves_power': 7, 'num_leaves': 57, 'min_child_samples': 25, 'subsample': 0.752864491001348, 'colsample_bytree': 0.6904144111791398}. Best is trial 40 with value: 0.8565650838408875.\n"
     ]
    },
    {
     "name": "stdout",
     "output_type": "stream",
     "text": [
      "[Trial 49] AUCs: ['0.8476', '0.8551', '0.8537', '0.8664', '0.8498'] | Mean AUC: 0.8545 | Std: 0.0065\n"
     ]
    }
   ],
   "source": [
    "# Objective function for Optuna\n",
    "def objective(trial):\n",
    "    try:\n",
    "        params = {\n",
    "            'n_estimators': trial.suggest_int('n_estimators', 50, 300),\n",
    "            'learning_rate': trial.suggest_float('learning_rate', 0.01, 0.3, log=True),\n",
    "            'max_depth': trial.suggest_int('max_depth', 3, 10),\n",
    "            'num_leaves': trial.suggest_int('num_leaves', 20, 2 ** trial.suggest_int('num_leaves_power', 5, 7)),\n",
    "            'min_child_samples': trial.suggest_int('min_child_samples', 10, 30),\n",
    "            'subsample': trial.suggest_float('subsample', 0.6, 1.0),\n",
    "            'colsample_bytree': trial.suggest_float('colsample_bytree', 0.6, 1.0),\n",
    "            'random_state': 42,\n",
    "            'n_jobs': -1,\n",
    "            'verbosity':-1,\n",
    "        }\n",
    "\n",
    "        skf = StratifiedKFold(n_splits=5, shuffle=True, random_state=42)\n",
    "        aucs = []\n",
    "\n",
    "        for train_idx, val_idx in skf.split(X_train, y_train):\n",
    "            X_train_fold, y_train_fold = X_train.iloc[train_idx], y_train.iloc[train_idx]\n",
    "            X_val_fold, y_val_fold = X_train.iloc[val_idx], y_train.iloc[val_idx]\n",
    "\n",
    "            # Scale separately to avoid data leakage\n",
    "            scaler = MinMaxScaler()\n",
    "            X_train_fold_scaled = scaler.fit_transform(X_train_fold)\n",
    "            X_val_fold_scaled = scaler.transform(X_val_fold)\n",
    "\n",
    "            # Apply SMOTE only on training fold\n",
    "            smote = SMOTE(random_state=42)\n",
    "            X_train_resampled, y_train_resampled = smote.fit_resample(X_train_fold_scaled, y_train_fold)\n",
    "\n",
    "            # Train and evaluate\n",
    "            model = lgb.LGBMClassifier(**params)\n",
    "            model.fit(X_train_resampled, y_train_resampled)\n",
    "\n",
    "            y_val_prob = model.predict_proba(X_val_fold_scaled)[:, 1]\n",
    "            auc = roc_auc_score(y_val_fold, y_val_prob)\n",
    "\n",
    "            # Validate AUC\n",
    "            if np.isnan(auc) or np.isinf(auc):\n",
    "                return float('-inf')\n",
    "            aucs.append(auc)\n",
    "\n",
    "        mean_auc = np.mean(aucs)\n",
    "        std_auc = np.std(aucs)\n",
    "        print(f\"[Trial {trial.number}] AUCs: {['{:.4f}'.format(a) for a in aucs]} | Mean AUC: {mean_auc:.4f} | Std: {std_auc:.4f}\")\n",
    "\n",
    "        return mean_auc\n",
    "\n",
    "    except Exception as e:\n",
    "        print(f\"Trial failed: {e}\")\n",
    "        return float('-inf')\n",
    "\n",
    "# Run the Optuna study\n",
    "study = optuna.create_study(direction='maximize')\n",
    "study.optimize(objective, n_trials=50)"
   ]
  },
  {
   "cell_type": "code",
   "execution_count": 22,
   "id": "b255baab",
   "metadata": {},
   "outputs": [
    {
     "name": "stdout",
     "output_type": "stream",
     "text": [
      "✅ Best Validation AUC: 0.8565650838408875\n",
      "✅ Best Parameters: {'n_estimators': 88, 'learning_rate': 0.036593175878478115, 'max_depth': 10, 'num_leaves_power': 5, 'num_leaves': 30, 'min_child_samples': 17, 'subsample': 0.7828916068962536, 'colsample_bytree': 0.6903244137460921}\n"
     ]
    }
   ],
   "source": [
    "# Print results\n",
    "if study.best_trial:\n",
    "    print(\"✅ Best Validation AUC:\", study.best_value)\n",
    "    print(\"✅ Best Parameters:\", study.best_params)\n",
    "    # Remove 'num_leaves_power' from best_params\n",
    "    cleaned_params = {k: v for k, v in study.best_params.items() if k != 'num_leaves_power'}\n",
    "else:\n",
    "    print(\"❌ No successful trials.\")"
   ]
  },
  {
   "cell_type": "markdown",
   "id": "43d19a02",
   "metadata": {},
   "source": [
    "## Threshold Lookup\n",
    "To improve classification performance beyond the default threshold, a custom threshold optimization process was implemented. The goal was to meet a minimum recall requirement while maximizing precision, ensuring the model prioritized identifying true positives effectively.\n",
    "\n",
    "- **Threshold strategy**: Instead of using the default threshold of 0.5, custom thresholds were selected per fold  \n",
    "- **Objective**:  \n",
    "  - Maintain **recall ≥ 0.7**  \n",
    "  - Maximize **precision** under this constraint  \n",
    "- **Validation setup**:  \n",
    "  - 10-fold Stratified Cross-Validation using the tuned LightGBM model  \n",
    "  - Predicted probabilities were generated for each fold  \n",
    "- **Threshold search**:  \n",
    "  - Thresholds ranging from 0.01 to 0.99 were tested  \n",
    "  - For each fold, the threshold that satisfied the recall constraint and yielded the highest precision was selected  \n",
    "- **Final threshold**:  \n",
    "  - The **median** of the optimal thresholds across all folds was computed  \n",
    "  - This value was used as the final decision threshold for model evaluation\n"
   ]
  },
  {
   "cell_type": "code",
   "execution_count": 19,
   "id": "de51e616",
   "metadata": {},
   "outputs": [
    {
     "data": {
      "text/html": [
       "<div>\n",
       "<style scoped>\n",
       "    .dataframe tbody tr th:only-of-type {\n",
       "        vertical-align: middle;\n",
       "    }\n",
       "\n",
       "    .dataframe tbody tr th {\n",
       "        vertical-align: top;\n",
       "    }\n",
       "\n",
       "    .dataframe thead th {\n",
       "        text-align: right;\n",
       "    }\n",
       "</style>\n",
       "<table border=\"1\" class=\"dataframe\">\n",
       "  <thead>\n",
       "    <tr style=\"text-align: right;\">\n",
       "      <th></th>\n",
       "      <th>Fold</th>\n",
       "      <th>Threshold</th>\n",
       "      <th>Precision</th>\n",
       "      <th>Recall</th>\n",
       "      <th>Accuracy</th>\n",
       "      <th>F1 Score</th>\n",
       "    </tr>\n",
       "  </thead>\n",
       "  <tbody>\n",
       "    <tr>\n",
       "      <th>0</th>\n",
       "      <td>1</td>\n",
       "      <td>0.30</td>\n",
       "      <td>0.231860</td>\n",
       "      <td>0.705584</td>\n",
       "      <td>0.824371</td>\n",
       "      <td>0.349027</td>\n",
       "    </tr>\n",
       "    <tr>\n",
       "      <th>1</th>\n",
       "      <td>2</td>\n",
       "      <td>0.30</td>\n",
       "      <td>0.225466</td>\n",
       "      <td>0.705584</td>\n",
       "      <td>0.818613</td>\n",
       "      <td>0.341733</td>\n",
       "    </tr>\n",
       "    <tr>\n",
       "      <th>2</th>\n",
       "      <td>3</td>\n",
       "      <td>0.33</td>\n",
       "      <td>0.244140</td>\n",
       "      <td>0.700508</td>\n",
       "      <td>0.835295</td>\n",
       "      <td>0.362086</td>\n",
       "    </tr>\n",
       "    <tr>\n",
       "      <th>3</th>\n",
       "      <td>4</td>\n",
       "      <td>0.30</td>\n",
       "      <td>0.233935</td>\n",
       "      <td>0.706853</td>\n",
       "      <td>0.825980</td>\n",
       "      <td>0.351530</td>\n",
       "    </tr>\n",
       "    <tr>\n",
       "      <th>4</th>\n",
       "      <td>5</td>\n",
       "      <td>0.32</td>\n",
       "      <td>0.248442</td>\n",
       "      <td>0.708122</td>\n",
       "      <td>0.837582</td>\n",
       "      <td>0.367831</td>\n",
       "    </tr>\n",
       "    <tr>\n",
       "      <th>5</th>\n",
       "      <td>6</td>\n",
       "      <td>0.29</td>\n",
       "      <td>0.232568</td>\n",
       "      <td>0.706853</td>\n",
       "      <td>0.824795</td>\n",
       "      <td>0.349984</td>\n",
       "    </tr>\n",
       "    <tr>\n",
       "      <th>6</th>\n",
       "      <td>7</td>\n",
       "      <td>0.33</td>\n",
       "      <td>0.264762</td>\n",
       "      <td>0.705584</td>\n",
       "      <td>0.849606</td>\n",
       "      <td>0.385042</td>\n",
       "    </tr>\n",
       "    <tr>\n",
       "      <th>7</th>\n",
       "      <td>8</td>\n",
       "      <td>0.34</td>\n",
       "      <td>0.268744</td>\n",
       "      <td>0.700508</td>\n",
       "      <td>0.852824</td>\n",
       "      <td>0.388459</td>\n",
       "    </tr>\n",
       "    <tr>\n",
       "      <th>8</th>\n",
       "      <td>9</td>\n",
       "      <td>0.33</td>\n",
       "      <td>0.245007</td>\n",
       "      <td>0.700508</td>\n",
       "      <td>0.835959</td>\n",
       "      <td>0.363038</td>\n",
       "    </tr>\n",
       "    <tr>\n",
       "      <th>9</th>\n",
       "      <td>10</td>\n",
       "      <td>0.32</td>\n",
       "      <td>0.249218</td>\n",
       "      <td>0.708122</td>\n",
       "      <td>0.838161</td>\n",
       "      <td>0.368682</td>\n",
       "    </tr>\n",
       "  </tbody>\n",
       "</table>\n",
       "</div>"
      ],
      "text/plain": [
       "   Fold  Threshold  Precision    Recall  Accuracy  F1 Score\n",
       "0     1       0.30   0.231860  0.705584  0.824371  0.349027\n",
       "1     2       0.30   0.225466  0.705584  0.818613  0.341733\n",
       "2     3       0.33   0.244140  0.700508  0.835295  0.362086\n",
       "3     4       0.30   0.233935  0.706853  0.825980  0.351530\n",
       "4     5       0.32   0.248442  0.708122  0.837582  0.367831\n",
       "5     6       0.29   0.232568  0.706853  0.824795  0.349984\n",
       "6     7       0.33   0.264762  0.705584  0.849606  0.385042\n",
       "7     8       0.34   0.268744  0.700508  0.852824  0.388459\n",
       "8     9       0.33   0.245007  0.700508  0.835959  0.363038\n",
       "9    10       0.32   0.249218  0.708122  0.838161  0.368682"
      ]
     },
     "execution_count": 19,
     "metadata": {},
     "output_type": "execute_result"
    }
   ],
   "source": [
    "from sklearn.exceptions import UndefinedMetricWarning\n",
    "import warnings\n",
    "warnings.filterwarnings(\"ignore\", category=UndefinedMetricWarning)\n",
    "\n",
    "# Stratified K-Fold setup\n",
    "skf = StratifiedKFold(n_splits=10, shuffle=True, random_state=42)\n",
    "thresholds = np.arange(0.01, 1.00, 0.01)\n",
    "\n",
    "# To store results\n",
    "metrics_list = []\n",
    "\n",
    "for fold, (train_idx, val_idx) in enumerate(skf.split(X_train, y_train), 1):\n",
    "    # Initialize best model with best parameters\n",
    "    best_model = lgb.LGBMClassifier(**cleaned_params, random_state=42, verbose=-1)\n",
    "    \n",
    "    # Split\n",
    "    X_train_fold, y_train_fold = X_train.iloc[train_idx], y_train.iloc[train_idx]\n",
    "    X_val_fold, y_val_fold = X_train.iloc[val_idx], y_train.iloc[val_idx]\n",
    "\n",
    "    # Scale\n",
    "    scaler = MinMaxScaler()\n",
    "    X_train_scaled = scaler.fit_transform(X_train_fold)\n",
    "    X_val_scaled = scaler.transform(X_val_fold)\n",
    "\n",
    "    # SMOTE\n",
    "    smote = SMOTE(random_state=42)\n",
    "    X_train_resampled, y_train_resampled = smote.fit_resample(X_train_scaled, y_train_fold)\n",
    "\n",
    "    # Fit model\n",
    "    best_model.fit(X_train_resampled, y_train_resampled)\n",
    "\n",
    "    # Predict probabilities\n",
    "    y_val_prob = best_model.predict_proba(X_val_scaled)[:, 1]\n",
    "\n",
    "    # Find best threshold (recall ≥ 0.7, max precision)\n",
    "    best_prec, best_thresh = 0, 0.5\n",
    "    for t in thresholds:\n",
    "        y_pred_thresh = (y_val_prob >= t).astype(int)\n",
    "        rec = recall_score(y_val_fold, y_pred_thresh)\n",
    "        prec = precision_score(y_val_fold, y_pred_thresh)\n",
    "\n",
    "        if rec >= 0.7 and prec > best_prec:\n",
    "            best_prec = prec\n",
    "            best_thresh = t\n",
    "\n",
    "    # Final prediction at best threshold\n",
    "    y_val_pred = (y_val_prob >= best_thresh).astype(int)\n",
    "\n",
    "    # Calculate metrics\n",
    "    precision = precision_score(y_val_fold, y_val_pred)\n",
    "    recall = recall_score(y_val_fold, y_val_pred)\n",
    "    accuracy = accuracy_score(y_val_fold, y_val_pred)\n",
    "    f1 = f1_score(y_val_fold, y_val_pred)\n",
    "\n",
    "    # Store in list\n",
    "    metrics_list.append({\n",
    "        'Fold': fold,\n",
    "        'Threshold': best_thresh,\n",
    "        'Precision': precision,\n",
    "        'Recall': recall,\n",
    "        'Accuracy': accuracy,\n",
    "        'F1 Score': f1\n",
    "    })\n",
    "\n",
    "# Convert to DataFrame\n",
    "metrics_df = pd.DataFrame(metrics_list)\n",
    "metrics_df\n"
   ]
  },
  {
   "cell_type": "code",
   "execution_count": 20,
   "id": "602708ea",
   "metadata": {},
   "outputs": [
    {
     "data": {
      "text/plain": [
       "np.float64(0.32)"
      ]
     },
     "execution_count": 20,
     "metadata": {},
     "output_type": "execute_result"
    }
   ],
   "source": [
    "best_threshold = np.quantile(metrics_df['Threshold'], 0.5)\n",
    "best_threshold"
   ]
  },
  {
   "cell_type": "markdown",
   "id": "57af15ae",
   "metadata": {},
   "source": [
    "## Model Training\n",
    "For the final model training, the entire training set was used with consistent preprocessing and the best hyperparameters identified during tuning. This final LightGBM model serves both for evaluating performance on the unseen test set and for deployment in the credit risk simulation tool.\n",
    "\n",
    "- **Data preparation**:  \n",
    "  - Scaled the full training dataset  \n",
    "  - Applied SMOTE to balance the target classes  \n",
    "- **Model training**:  \n",
    "  - Used LightGBM  \n",
    "  - Trained with the best hyperparameters obtained from Optuna  \n",
    "- **Usage of the final model**:  \n",
    "  - Evaluate performance on the held-out test set  \n",
    "  - Integrate into the credit risk simulator for deployment\n"
   ]
  },
  {
   "cell_type": "code",
   "execution_count": 23,
   "id": "e2db1012",
   "metadata": {},
   "outputs": [
    {
     "data": {
      "text/html": [
       "<style>#sk-container-id-3 {\n",
       "  /* Definition of color scheme common for light and dark mode */\n",
       "  --sklearn-color-text: #000;\n",
       "  --sklearn-color-text-muted: #666;\n",
       "  --sklearn-color-line: gray;\n",
       "  /* Definition of color scheme for unfitted estimators */\n",
       "  --sklearn-color-unfitted-level-0: #fff5e6;\n",
       "  --sklearn-color-unfitted-level-1: #f6e4d2;\n",
       "  --sklearn-color-unfitted-level-2: #ffe0b3;\n",
       "  --sklearn-color-unfitted-level-3: chocolate;\n",
       "  /* Definition of color scheme for fitted estimators */\n",
       "  --sklearn-color-fitted-level-0: #f0f8ff;\n",
       "  --sklearn-color-fitted-level-1: #d4ebff;\n",
       "  --sklearn-color-fitted-level-2: #b3dbfd;\n",
       "  --sklearn-color-fitted-level-3: cornflowerblue;\n",
       "\n",
       "  /* Specific color for light theme */\n",
       "  --sklearn-color-text-on-default-background: var(--sg-text-color, var(--theme-code-foreground, var(--jp-content-font-color1, black)));\n",
       "  --sklearn-color-background: var(--sg-background-color, var(--theme-background, var(--jp-layout-color0, white)));\n",
       "  --sklearn-color-border-box: var(--sg-text-color, var(--theme-code-foreground, var(--jp-content-font-color1, black)));\n",
       "  --sklearn-color-icon: #696969;\n",
       "\n",
       "  @media (prefers-color-scheme: dark) {\n",
       "    /* Redefinition of color scheme for dark theme */\n",
       "    --sklearn-color-text-on-default-background: var(--sg-text-color, var(--theme-code-foreground, var(--jp-content-font-color1, white)));\n",
       "    --sklearn-color-background: var(--sg-background-color, var(--theme-background, var(--jp-layout-color0, #111)));\n",
       "    --sklearn-color-border-box: var(--sg-text-color, var(--theme-code-foreground, var(--jp-content-font-color1, white)));\n",
       "    --sklearn-color-icon: #878787;\n",
       "  }\n",
       "}\n",
       "\n",
       "#sk-container-id-3 {\n",
       "  color: var(--sklearn-color-text);\n",
       "}\n",
       "\n",
       "#sk-container-id-3 pre {\n",
       "  padding: 0;\n",
       "}\n",
       "\n",
       "#sk-container-id-3 input.sk-hidden--visually {\n",
       "  border: 0;\n",
       "  clip: rect(1px 1px 1px 1px);\n",
       "  clip: rect(1px, 1px, 1px, 1px);\n",
       "  height: 1px;\n",
       "  margin: -1px;\n",
       "  overflow: hidden;\n",
       "  padding: 0;\n",
       "  position: absolute;\n",
       "  width: 1px;\n",
       "}\n",
       "\n",
       "#sk-container-id-3 div.sk-dashed-wrapped {\n",
       "  border: 1px dashed var(--sklearn-color-line);\n",
       "  margin: 0 0.4em 0.5em 0.4em;\n",
       "  box-sizing: border-box;\n",
       "  padding-bottom: 0.4em;\n",
       "  background-color: var(--sklearn-color-background);\n",
       "}\n",
       "\n",
       "#sk-container-id-3 div.sk-container {\n",
       "  /* jupyter's `normalize.less` sets `[hidden] { display: none; }`\n",
       "     but bootstrap.min.css set `[hidden] { display: none !important; }`\n",
       "     so we also need the `!important` here to be able to override the\n",
       "     default hidden behavior on the sphinx rendered scikit-learn.org.\n",
       "     See: https://github.com/scikit-learn/scikit-learn/issues/21755 */\n",
       "  display: inline-block !important;\n",
       "  position: relative;\n",
       "}\n",
       "\n",
       "#sk-container-id-3 div.sk-text-repr-fallback {\n",
       "  display: none;\n",
       "}\n",
       "\n",
       "div.sk-parallel-item,\n",
       "div.sk-serial,\n",
       "div.sk-item {\n",
       "  /* draw centered vertical line to link estimators */\n",
       "  background-image: linear-gradient(var(--sklearn-color-text-on-default-background), var(--sklearn-color-text-on-default-background));\n",
       "  background-size: 2px 100%;\n",
       "  background-repeat: no-repeat;\n",
       "  background-position: center center;\n",
       "}\n",
       "\n",
       "/* Parallel-specific style estimator block */\n",
       "\n",
       "#sk-container-id-3 div.sk-parallel-item::after {\n",
       "  content: \"\";\n",
       "  width: 100%;\n",
       "  border-bottom: 2px solid var(--sklearn-color-text-on-default-background);\n",
       "  flex-grow: 1;\n",
       "}\n",
       "\n",
       "#sk-container-id-3 div.sk-parallel {\n",
       "  display: flex;\n",
       "  align-items: stretch;\n",
       "  justify-content: center;\n",
       "  background-color: var(--sklearn-color-background);\n",
       "  position: relative;\n",
       "}\n",
       "\n",
       "#sk-container-id-3 div.sk-parallel-item {\n",
       "  display: flex;\n",
       "  flex-direction: column;\n",
       "}\n",
       "\n",
       "#sk-container-id-3 div.sk-parallel-item:first-child::after {\n",
       "  align-self: flex-end;\n",
       "  width: 50%;\n",
       "}\n",
       "\n",
       "#sk-container-id-3 div.sk-parallel-item:last-child::after {\n",
       "  align-self: flex-start;\n",
       "  width: 50%;\n",
       "}\n",
       "\n",
       "#sk-container-id-3 div.sk-parallel-item:only-child::after {\n",
       "  width: 0;\n",
       "}\n",
       "\n",
       "/* Serial-specific style estimator block */\n",
       "\n",
       "#sk-container-id-3 div.sk-serial {\n",
       "  display: flex;\n",
       "  flex-direction: column;\n",
       "  align-items: center;\n",
       "  background-color: var(--sklearn-color-background);\n",
       "  padding-right: 1em;\n",
       "  padding-left: 1em;\n",
       "}\n",
       "\n",
       "\n",
       "/* Toggleable style: style used for estimator/Pipeline/ColumnTransformer box that is\n",
       "clickable and can be expanded/collapsed.\n",
       "- Pipeline and ColumnTransformer use this feature and define the default style\n",
       "- Estimators will overwrite some part of the style using the `sk-estimator` class\n",
       "*/\n",
       "\n",
       "/* Pipeline and ColumnTransformer style (default) */\n",
       "\n",
       "#sk-container-id-3 div.sk-toggleable {\n",
       "  /* Default theme specific background. It is overwritten whether we have a\n",
       "  specific estimator or a Pipeline/ColumnTransformer */\n",
       "  background-color: var(--sklearn-color-background);\n",
       "}\n",
       "\n",
       "/* Toggleable label */\n",
       "#sk-container-id-3 label.sk-toggleable__label {\n",
       "  cursor: pointer;\n",
       "  display: flex;\n",
       "  width: 100%;\n",
       "  margin-bottom: 0;\n",
       "  padding: 0.5em;\n",
       "  box-sizing: border-box;\n",
       "  text-align: center;\n",
       "  align-items: start;\n",
       "  justify-content: space-between;\n",
       "  gap: 0.5em;\n",
       "}\n",
       "\n",
       "#sk-container-id-3 label.sk-toggleable__label .caption {\n",
       "  font-size: 0.6rem;\n",
       "  font-weight: lighter;\n",
       "  color: var(--sklearn-color-text-muted);\n",
       "}\n",
       "\n",
       "#sk-container-id-3 label.sk-toggleable__label-arrow:before {\n",
       "  /* Arrow on the left of the label */\n",
       "  content: \"▸\";\n",
       "  float: left;\n",
       "  margin-right: 0.25em;\n",
       "  color: var(--sklearn-color-icon);\n",
       "}\n",
       "\n",
       "#sk-container-id-3 label.sk-toggleable__label-arrow:hover:before {\n",
       "  color: var(--sklearn-color-text);\n",
       "}\n",
       "\n",
       "/* Toggleable content - dropdown */\n",
       "\n",
       "#sk-container-id-3 div.sk-toggleable__content {\n",
       "  max-height: 0;\n",
       "  max-width: 0;\n",
       "  overflow: hidden;\n",
       "  text-align: left;\n",
       "  /* unfitted */\n",
       "  background-color: var(--sklearn-color-unfitted-level-0);\n",
       "}\n",
       "\n",
       "#sk-container-id-3 div.sk-toggleable__content.fitted {\n",
       "  /* fitted */\n",
       "  background-color: var(--sklearn-color-fitted-level-0);\n",
       "}\n",
       "\n",
       "#sk-container-id-3 div.sk-toggleable__content pre {\n",
       "  margin: 0.2em;\n",
       "  border-radius: 0.25em;\n",
       "  color: var(--sklearn-color-text);\n",
       "  /* unfitted */\n",
       "  background-color: var(--sklearn-color-unfitted-level-0);\n",
       "}\n",
       "\n",
       "#sk-container-id-3 div.sk-toggleable__content.fitted pre {\n",
       "  /* unfitted */\n",
       "  background-color: var(--sklearn-color-fitted-level-0);\n",
       "}\n",
       "\n",
       "#sk-container-id-3 input.sk-toggleable__control:checked~div.sk-toggleable__content {\n",
       "  /* Expand drop-down */\n",
       "  max-height: 200px;\n",
       "  max-width: 100%;\n",
       "  overflow: auto;\n",
       "}\n",
       "\n",
       "#sk-container-id-3 input.sk-toggleable__control:checked~label.sk-toggleable__label-arrow:before {\n",
       "  content: \"▾\";\n",
       "}\n",
       "\n",
       "/* Pipeline/ColumnTransformer-specific style */\n",
       "\n",
       "#sk-container-id-3 div.sk-label input.sk-toggleable__control:checked~label.sk-toggleable__label {\n",
       "  color: var(--sklearn-color-text);\n",
       "  background-color: var(--sklearn-color-unfitted-level-2);\n",
       "}\n",
       "\n",
       "#sk-container-id-3 div.sk-label.fitted input.sk-toggleable__control:checked~label.sk-toggleable__label {\n",
       "  background-color: var(--sklearn-color-fitted-level-2);\n",
       "}\n",
       "\n",
       "/* Estimator-specific style */\n",
       "\n",
       "/* Colorize estimator box */\n",
       "#sk-container-id-3 div.sk-estimator input.sk-toggleable__control:checked~label.sk-toggleable__label {\n",
       "  /* unfitted */\n",
       "  background-color: var(--sklearn-color-unfitted-level-2);\n",
       "}\n",
       "\n",
       "#sk-container-id-3 div.sk-estimator.fitted input.sk-toggleable__control:checked~label.sk-toggleable__label {\n",
       "  /* fitted */\n",
       "  background-color: var(--sklearn-color-fitted-level-2);\n",
       "}\n",
       "\n",
       "#sk-container-id-3 div.sk-label label.sk-toggleable__label,\n",
       "#sk-container-id-3 div.sk-label label {\n",
       "  /* The background is the default theme color */\n",
       "  color: var(--sklearn-color-text-on-default-background);\n",
       "}\n",
       "\n",
       "/* On hover, darken the color of the background */\n",
       "#sk-container-id-3 div.sk-label:hover label.sk-toggleable__label {\n",
       "  color: var(--sklearn-color-text);\n",
       "  background-color: var(--sklearn-color-unfitted-level-2);\n",
       "}\n",
       "\n",
       "/* Label box, darken color on hover, fitted */\n",
       "#sk-container-id-3 div.sk-label.fitted:hover label.sk-toggleable__label.fitted {\n",
       "  color: var(--sklearn-color-text);\n",
       "  background-color: var(--sklearn-color-fitted-level-2);\n",
       "}\n",
       "\n",
       "/* Estimator label */\n",
       "\n",
       "#sk-container-id-3 div.sk-label label {\n",
       "  font-family: monospace;\n",
       "  font-weight: bold;\n",
       "  display: inline-block;\n",
       "  line-height: 1.2em;\n",
       "}\n",
       "\n",
       "#sk-container-id-3 div.sk-label-container {\n",
       "  text-align: center;\n",
       "}\n",
       "\n",
       "/* Estimator-specific */\n",
       "#sk-container-id-3 div.sk-estimator {\n",
       "  font-family: monospace;\n",
       "  border: 1px dotted var(--sklearn-color-border-box);\n",
       "  border-radius: 0.25em;\n",
       "  box-sizing: border-box;\n",
       "  margin-bottom: 0.5em;\n",
       "  /* unfitted */\n",
       "  background-color: var(--sklearn-color-unfitted-level-0);\n",
       "}\n",
       "\n",
       "#sk-container-id-3 div.sk-estimator.fitted {\n",
       "  /* fitted */\n",
       "  background-color: var(--sklearn-color-fitted-level-0);\n",
       "}\n",
       "\n",
       "/* on hover */\n",
       "#sk-container-id-3 div.sk-estimator:hover {\n",
       "  /* unfitted */\n",
       "  background-color: var(--sklearn-color-unfitted-level-2);\n",
       "}\n",
       "\n",
       "#sk-container-id-3 div.sk-estimator.fitted:hover {\n",
       "  /* fitted */\n",
       "  background-color: var(--sklearn-color-fitted-level-2);\n",
       "}\n",
       "\n",
       "/* Specification for estimator info (e.g. \"i\" and \"?\") */\n",
       "\n",
       "/* Common style for \"i\" and \"?\" */\n",
       "\n",
       ".sk-estimator-doc-link,\n",
       "a:link.sk-estimator-doc-link,\n",
       "a:visited.sk-estimator-doc-link {\n",
       "  float: right;\n",
       "  font-size: smaller;\n",
       "  line-height: 1em;\n",
       "  font-family: monospace;\n",
       "  background-color: var(--sklearn-color-background);\n",
       "  border-radius: 1em;\n",
       "  height: 1em;\n",
       "  width: 1em;\n",
       "  text-decoration: none !important;\n",
       "  margin-left: 0.5em;\n",
       "  text-align: center;\n",
       "  /* unfitted */\n",
       "  border: var(--sklearn-color-unfitted-level-1) 1pt solid;\n",
       "  color: var(--sklearn-color-unfitted-level-1);\n",
       "}\n",
       "\n",
       ".sk-estimator-doc-link.fitted,\n",
       "a:link.sk-estimator-doc-link.fitted,\n",
       "a:visited.sk-estimator-doc-link.fitted {\n",
       "  /* fitted */\n",
       "  border: var(--sklearn-color-fitted-level-1) 1pt solid;\n",
       "  color: var(--sklearn-color-fitted-level-1);\n",
       "}\n",
       "\n",
       "/* On hover */\n",
       "div.sk-estimator:hover .sk-estimator-doc-link:hover,\n",
       ".sk-estimator-doc-link:hover,\n",
       "div.sk-label-container:hover .sk-estimator-doc-link:hover,\n",
       ".sk-estimator-doc-link:hover {\n",
       "  /* unfitted */\n",
       "  background-color: var(--sklearn-color-unfitted-level-3);\n",
       "  color: var(--sklearn-color-background);\n",
       "  text-decoration: none;\n",
       "}\n",
       "\n",
       "div.sk-estimator.fitted:hover .sk-estimator-doc-link.fitted:hover,\n",
       ".sk-estimator-doc-link.fitted:hover,\n",
       "div.sk-label-container:hover .sk-estimator-doc-link.fitted:hover,\n",
       ".sk-estimator-doc-link.fitted:hover {\n",
       "  /* fitted */\n",
       "  background-color: var(--sklearn-color-fitted-level-3);\n",
       "  color: var(--sklearn-color-background);\n",
       "  text-decoration: none;\n",
       "}\n",
       "\n",
       "/* Span, style for the box shown on hovering the info icon */\n",
       ".sk-estimator-doc-link span {\n",
       "  display: none;\n",
       "  z-index: 9999;\n",
       "  position: relative;\n",
       "  font-weight: normal;\n",
       "  right: .2ex;\n",
       "  padding: .5ex;\n",
       "  margin: .5ex;\n",
       "  width: min-content;\n",
       "  min-width: 20ex;\n",
       "  max-width: 50ex;\n",
       "  color: var(--sklearn-color-text);\n",
       "  box-shadow: 2pt 2pt 4pt #999;\n",
       "  /* unfitted */\n",
       "  background: var(--sklearn-color-unfitted-level-0);\n",
       "  border: .5pt solid var(--sklearn-color-unfitted-level-3);\n",
       "}\n",
       "\n",
       ".sk-estimator-doc-link.fitted span {\n",
       "  /* fitted */\n",
       "  background: var(--sklearn-color-fitted-level-0);\n",
       "  border: var(--sklearn-color-fitted-level-3);\n",
       "}\n",
       "\n",
       ".sk-estimator-doc-link:hover span {\n",
       "  display: block;\n",
       "}\n",
       "\n",
       "/* \"?\"-specific style due to the `<a>` HTML tag */\n",
       "\n",
       "#sk-container-id-3 a.estimator_doc_link {\n",
       "  float: right;\n",
       "  font-size: 1rem;\n",
       "  line-height: 1em;\n",
       "  font-family: monospace;\n",
       "  background-color: var(--sklearn-color-background);\n",
       "  border-radius: 1rem;\n",
       "  height: 1rem;\n",
       "  width: 1rem;\n",
       "  text-decoration: none;\n",
       "  /* unfitted */\n",
       "  color: var(--sklearn-color-unfitted-level-1);\n",
       "  border: var(--sklearn-color-unfitted-level-1) 1pt solid;\n",
       "}\n",
       "\n",
       "#sk-container-id-3 a.estimator_doc_link.fitted {\n",
       "  /* fitted */\n",
       "  border: var(--sklearn-color-fitted-level-1) 1pt solid;\n",
       "  color: var(--sklearn-color-fitted-level-1);\n",
       "}\n",
       "\n",
       "/* On hover */\n",
       "#sk-container-id-3 a.estimator_doc_link:hover {\n",
       "  /* unfitted */\n",
       "  background-color: var(--sklearn-color-unfitted-level-3);\n",
       "  color: var(--sklearn-color-background);\n",
       "  text-decoration: none;\n",
       "}\n",
       "\n",
       "#sk-container-id-3 a.estimator_doc_link.fitted:hover {\n",
       "  /* fitted */\n",
       "  background-color: var(--sklearn-color-fitted-level-3);\n",
       "}\n",
       "</style><div id=\"sk-container-id-3\" class=\"sk-top-container\"><div class=\"sk-text-repr-fallback\"><pre>LGBMClassifier(colsample_bytree=0.6903244137460921,\n",
       "               learning_rate=0.036593175878478115, max_depth=10,\n",
       "               min_child_samples=17, n_estimators=88, num_leaves=30,\n",
       "               random_state=42, subsample=0.7828916068962536)</pre><b>In a Jupyter environment, please rerun this cell to show the HTML representation or trust the notebook. <br />On GitHub, the HTML representation is unable to render, please try loading this page with nbviewer.org.</b></div><div class=\"sk-container\" hidden><div class=\"sk-item\"><div class=\"sk-estimator fitted sk-toggleable\"><input class=\"sk-toggleable__control sk-hidden--visually\" id=\"sk-estimator-id-3\" type=\"checkbox\" checked><label for=\"sk-estimator-id-3\" class=\"sk-toggleable__label fitted sk-toggleable__label-arrow\"><div><div>LGBMClassifier</div></div><div><span class=\"sk-estimator-doc-link fitted\">i<span>Fitted</span></span></div></label><div class=\"sk-toggleable__content fitted\"><pre>LGBMClassifier(colsample_bytree=0.6903244137460921,\n",
       "               learning_rate=0.036593175878478115, max_depth=10,\n",
       "               min_child_samples=17, n_estimators=88, num_leaves=30,\n",
       "               random_state=42, subsample=0.7828916068962536)</pre></div> </div></div></div></div>"
      ],
      "text/plain": [
       "LGBMClassifier(colsample_bytree=0.6903244137460921,\n",
       "               learning_rate=0.036593175878478115, max_depth=10,\n",
       "               min_child_samples=17, n_estimators=88, num_leaves=30,\n",
       "               random_state=42, subsample=0.7828916068962536)"
      ]
     },
     "execution_count": 23,
     "metadata": {},
     "output_type": "execute_result"
    }
   ],
   "source": [
    "# Scaling\n",
    "scaler = MinMaxScaler()\n",
    "scaler.fit(X_train)\n",
    "X_train_scaled = scaler.transform(X_train)\n",
    "X_test_scaled = scaler.transform(X_test)\n",
    "\n",
    "# SMOTE on training set\n",
    "smote = SMOTE(random_state=42)\n",
    "X_resampled, y_resampled = smote.fit_resample(X_train_scaled, y_train)\n",
    "\n",
    "# Train best model on full resampled training data\n",
    "best_model = lgb.LGBMClassifier(**cleaned_params, random_state=42)\n",
    "best_model.fit(X_resampled, y_resampled)"
   ]
  },
  {
   "cell_type": "markdown",
   "id": "302e0ea0",
   "metadata": {},
   "source": [
    "## Model Evaluation with the Test Set\n",
    "The final LightGBM model was evaluated on the test set using the previously selected optimal threshold. A comprehensive set of metrics and visualizations confirmed the model’s generalization capabilities, ensuring it was suitable for deployment in the credit risk simulator.\n",
    "\n",
    "- **Evaluation dataset**: Held-out test set  \n",
    "- **Threshold**: Used the optimized threshold selected from cross-validation  \n",
    "- **Performance metrics**:  \n",
    "  - Accuracy  \n",
    "  - Precision  \n",
    "  - Recall  \n",
    "  - F1 Score  \n",
    "  - AUC (Area Under the ROC Curve)  \n",
    "- **Visualizations**:  \n",
    "  - Confusion matrix  \n",
    "  - ROC curve  \n",
    "- **Conclusion**: Results confirmed the model's ability to generalize well to unseen data, meeting the requirements for production deployment\n"
   ]
  },
  {
   "cell_type": "code",
   "execution_count": 26,
   "id": "5449fcc9",
   "metadata": {},
   "outputs": [
    {
     "name": "stdout",
     "output_type": "stream",
     "text": [
      "📊 Final Evaluation on Test Set\n",
      "Threshold     : 0.32\n",
      "AUC           : 0.8609\n",
      "Accuracy      : 0.8395\n",
      "Precision     : 0.2491\n",
      "Recall        : 0.6975\n",
      "F1 Score      : 0.3671\n"
     ]
    },
    {
     "data": {
      "image/png": "[encoded data removed]",
      "text/plain": [
       "<Figure size 640x480 with 2 Axes>"
      ]
     },
     "metadata": {},
     "output_type": "display_data"
    },
    {
     "data": {
      "image/png": "[encoded data removed]",
      "text/plain": [
       "<Figure size 640x480 with 1 Axes>"
      ]
     },
     "metadata": {},
     "output_type": "display_data"
    },
    {
     "data": {
      "image/png": "[encoded data removed]",
      "text/plain": [
       "<Figure size 1000x600 with 1 Axes>"
      ]
     },
     "metadata": {},
     "output_type": "display_data"
    }
   ],
   "source": [
    "# Predict probabilities on the test set\n",
    "y_test_prob = best_model.predict_proba(X_test_scaled)[:, 1]\n",
    "\n",
    "# Apply the selected threshold\n",
    "y_test_pred = (y_test_prob >= best_threshold).astype(int)\n",
    "\n",
    "# Calculate metrics\n",
    "acc = accuracy_score(y_test, y_test_pred)\n",
    "prec = precision_score(y_test, y_test_pred)\n",
    "rec = recall_score(y_test, y_test_pred)\n",
    "f1 = f1_score(y_test, y_test_pred)\n",
    "auc = roc_auc_score(y_test, y_test_prob)\n",
    "\n",
    "print(\"📊 Final Evaluation on Test Set\")\n",
    "print(f\"Threshold     : {best_threshold}\")\n",
    "print(f\"AUC           : {auc:.4f}\")\n",
    "print(f\"Accuracy      : {acc:.4f}\")\n",
    "print(f\"Precision     : {prec:.4f}\")\n",
    "print(f\"Recall        : {rec:.4f}\")\n",
    "print(f\"F1 Score      : {f1:.4f}\")\n",
    "\n",
    "# Step 4: Plot confusion matrix\n",
    "cm = confusion_matrix(y_test, y_test_pred)\n",
    "disp = ConfusionMatrixDisplay(confusion_matrix=cm)\n",
    "disp.plot(cmap='Blues')\n",
    "plt.title(\"Confusion Matrix (Test Set)\")\n",
    "plt.show()\n",
    "\n",
    "# Step 5: Plot ROC curve\n",
    "RocCurveDisplay.from_predictions(y_test, y_test_prob)\n",
    "plt.title(\"ROC Curve (Test Set)\")\n",
    "plt.grid(True)\n",
    "plt.show()\n",
    "\n",
    "#Feature Importance\n",
    "importances = best_model.feature_importances_\n",
    "feature_names = X_test.columns  # Asegúrate de que sea un DataFrame\n",
    "feat_imp = pd.Series(importances, index=feature_names).sort_values(ascending=False)\n",
    "\n",
    "plt.figure(figsize=(10, 6))\n",
    "feat_imp.head(20).plot(kind='bar')\n",
    "plt.title(\"Top 20 Feature Importances (LightGBM)\")\n",
    "plt.ylabel(\"Importance Score\")\n",
    "plt.tight_layout()\n",
    "plt.grid(True)\n",
    "plt.show()\n"
   ]
  },
  {
   "cell_type": "markdown",
   "id": "15979e58",
   "metadata": {},
   "source": [
    "## Results\n",
    "\n",
    "The final LightGBM model was evaluated on the held-out test set using a custom decision threshold of **0.32**, optimized to prioritize **recall** while maintaining reasonable **precision**. This choice was guided by the business goal of proactively identifying individuals at risk of experiencing financial distress within the next two years.\n",
    "\n",
    "\n",
    "The **Give Me Some Credit** competition aims to predict financial distress, a task where **recall is more valuable than precision**. In real-world applications, failing to identify someone at risk of default can lead to significant financial losses. On the other hand, incorrectly flagging a customer who is not actually at risk (false positive) may lead to unnecessary interventions but is far less damaging.\n",
    "\n",
    "- The model achieves a **recall of 70.7%**, correctly identifying the majority of customers who are likely to default.  \n",
    "- Precision is **24.4%**, meaning that about 1 in 4 flagged customers will actually default. While not ideal, this level of precision is acceptable when the **cost of false negatives outweighs the cost of false positives**.\n",
    "- An **AUC of 0.86** confirms that the model is capable of distinguishing high-risk customers from low-risk ones across various thresholds."
   ]
  },
  {
   "cell_type": "code",
   "execution_count": 30,
   "id": "f3a15847",
   "metadata": {},
   "outputs": [
    {
     "data": {
      "text/html": [
       "<div>\n",
       "<style scoped>\n",
       "    .dataframe tbody tr th:only-of-type {\n",
       "        vertical-align: middle;\n",
       "    }\n",
       "\n",
       "    .dataframe tbody tr th {\n",
       "        vertical-align: top;\n",
       "    }\n",
       "\n",
       "    .dataframe thead th {\n",
       "        text-align: right;\n",
       "    }\n",
       "</style>\n",
       "<table border=\"1\" class=\"dataframe\">\n",
       "  <thead>\n",
       "    <tr style=\"text-align: right;\">\n",
       "      <th></th>\n",
       "      <th>Probability of Default</th>\n",
       "      <th>Simulated Score</th>\n",
       "      <th>Risk Category</th>\n",
       "    </tr>\n",
       "  </thead>\n",
       "  <tbody>\n",
       "    <tr>\n",
       "      <th>0</th>\n",
       "      <td>0.728870</td>\n",
       "      <td>463</td>\n",
       "      <td>Very Poor</td>\n",
       "    </tr>\n",
       "    <tr>\n",
       "      <th>1</th>\n",
       "      <td>0.144562</td>\n",
       "      <td>813</td>\n",
       "      <td>Excellent</td>\n",
       "    </tr>\n",
       "    <tr>\n",
       "      <th>2</th>\n",
       "      <td>0.212134</td>\n",
       "      <td>773</td>\n",
       "      <td>Excellent</td>\n",
       "    </tr>\n",
       "    <tr>\n",
       "      <th>3</th>\n",
       "      <td>0.116843</td>\n",
       "      <td>830</td>\n",
       "      <td>Excellent</td>\n",
       "    </tr>\n",
       "    <tr>\n",
       "      <th>4</th>\n",
       "      <td>0.123748</td>\n",
       "      <td>826</td>\n",
       "      <td>Excellent</td>\n",
       "    </tr>\n",
       "    <tr>\n",
       "      <th>5</th>\n",
       "      <td>0.154242</td>\n",
       "      <td>807</td>\n",
       "      <td>Excellent</td>\n",
       "    </tr>\n",
       "    <tr>\n",
       "      <th>6</th>\n",
       "      <td>0.075577</td>\n",
       "      <td>855</td>\n",
       "      <td>Excellent</td>\n",
       "    </tr>\n",
       "    <tr>\n",
       "      <th>7</th>\n",
       "      <td>0.071682</td>\n",
       "      <td>857</td>\n",
       "      <td>Excellent</td>\n",
       "    </tr>\n",
       "    <tr>\n",
       "      <th>8</th>\n",
       "      <td>0.081015</td>\n",
       "      <td>851</td>\n",
       "      <td>Excellent</td>\n",
       "    </tr>\n",
       "    <tr>\n",
       "      <th>9</th>\n",
       "      <td>0.108269</td>\n",
       "      <td>835</td>\n",
       "      <td>Excellent</td>\n",
       "    </tr>\n",
       "  </tbody>\n",
       "</table>\n",
       "</div>"
      ],
      "text/plain": [
       "   Probability of Default  Simulated Score Risk Category\n",
       "0                0.728870              463     Very Poor\n",
       "1                0.144562              813     Excellent\n",
       "2                0.212134              773     Excellent\n",
       "3                0.116843              830     Excellent\n",
       "4                0.123748              826     Excellent\n",
       "5                0.154242              807     Excellent\n",
       "6                0.075577              855     Excellent\n",
       "7                0.071682              857     Excellent\n",
       "8                0.081015              851     Excellent\n",
       "9                0.108269              835     Excellent"
      ]
     },
     "execution_count": 30,
     "metadata": {},
     "output_type": "execute_result"
    }
   ],
   "source": [
    "# 1. Función para transformar probabilidad en score (inversamente proporcional)\n",
    "def probability_to_score(p, min_score=300, max_score=900):\n",
    "    return round(max_score - (p * (max_score - min_score)))\n",
    "\n",
    "# 2. Generar los scores a partir de las probabilidades del test set\n",
    "scores = [probability_to_score(p) for p in y_test_prob]\n",
    "\n",
    "# 3. Función opcional para clasificar los scores\n",
    "def score_category(score):\n",
    "    if score >= 750:\n",
    "        return \"Excellent\"\n",
    "    elif score >= 700:\n",
    "        return \"Good\"\n",
    "    elif score >= 650:\n",
    "        return \"Fair\"\n",
    "    elif score >= 600:\n",
    "        return \"Poor\"\n",
    "    else:\n",
    "        return \"Very Poor\"\n",
    "\n",
    "# 4. Asignar categoría a cada score\n",
    "categories = [score_category(s) for s in scores]\n",
    "\n",
    "\n",
    "score_df.head(10)\n"
   ]
  },
  {
   "cell_type": "code",
   "execution_count": 32,
   "id": "5383ea9c",
   "metadata": {},
   "outputs": [
    {
     "data": {
      "text/plain": [
       "Risk Category\n",
       "Excellent    22131\n",
       "Very Poor     2927\n",
       "Good          2159\n",
       "Fair          1456\n",
       "Poor           849\n",
       "Name: count, dtype: int64"
      ]
     },
     "execution_count": 32,
     "metadata": {},
     "output_type": "execute_result"
    }
   ],
   "source": [
    "score_df[\"Risk Category\"].value_counts()"
   ]
  },
  {
   "cell_type": "markdown",
   "id": "6d3b5d72",
   "metadata": {},
   "source": [
    "## Conclusion\n",
    "\n",
    "The LightGBM model demonstrates strong generalization on unseen data and aligns well with the business objective of **risk mitigation**. By adjusting the decision threshold, the model successfully prioritizes recall to flag most customers at risk of financial distress, making it a valuable tool for deployment in the credit risk simulator.\n",
    "\n",
    "Despite moderate precision, the model's performance reflects a thoughtful balance between **risk detection** and **customer impact**, supporting informed decision-making in financial services."
   ]
  },
  {
   "cell_type": "code",
   "execution_count": 35,
   "id": "d40a6aa6",
   "metadata": {},
   "outputs": [
    {
     "data": {
      "text/plain": [
       "['../model/scaler.pkl']"
      ]
     },
     "execution_count": 35,
     "metadata": {},
     "output_type": "execute_result"
    }
   ],
   "source": [
    "import joblib\n",
    "import os\n",
    "\n",
    "os.makedirs(\"../model\", exist_ok=True)\n",
    "\n",
    "joblib.dump(best_model, \"../model/best_model.pkl\")\n",
    "joblib.dump(scaler, \"../model/scaler.pkl\")\n"
   ]
  },
  {
   "cell_type": "code",
   "execution_count": null,
   "id": "362560ce",
   "metadata": {},
   "outputs": [],
   "source": []
  },
  {
   "cell_type": "code",
   "execution_count": null,
   "id": "a2f66b09",
   "metadata": {},
   "outputs": [],
   "source": []
  }
 ],
 "metadata": {
  "kernelspec": {
   "display_name": "credit-sim",
   "language": "python",
   "name": "python3"
  },
  "language_info": {
   "codemirror_mode": {
    "name": "ipython",
    "version": 3
   },
   "file_extension": ".py",
   "mimetype": "text/x-python",
   "name": "python",
   "nbconvert_exporter": "python",
   "pygments_lexer": "ipython3",
   "version": "3.11.9"
  }
 },
 "nbformat": 4,
 "nbformat_minor": 5
}
