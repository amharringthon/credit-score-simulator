{
 "cells": [
  {
   "cell_type": "markdown",
   "id": "4f3c4743",
   "metadata": {},
   "source": [
    "# 🤖 Credit Score Simulator – Modeling & Evaluation\n",
    "\n",
    "## 1. Objective\n",
    "\n",
    "This notebook focuses on building and evaluating machine learning models to predict whether a customer will experience **serious delinquency** (90+ days overdue) within the next two years.\n",
    "\n",
    "The main objectives are to:\n",
    "\n",
    "- Train and compare baseline classification models\n",
    "- Address class imbalance in the target variable\n",
    "- Perform hyperparameter tuning to improve performance\n",
    "- Evaluate models using precision, recall, F1-score, and AUC\n",
    "- Select and export the best model for deployment\n",
    "\n",
    "All preprocessing and feature engineering steps were completed in the previous notebook to prevent data leakage.  \n",
    "At the end of this notebook, the final trained model and decision threshold will be exported for use in the **credit score simulator app**.\n"
   ]
  },
  {
   "cell_type": "code",
   "execution_count": 38,
   "id": "8729d716",
   "metadata": {},
   "outputs": [],
   "source": [
    "# Import required libraries\n",
    "import pandas as pd\n",
    "import numpy as np\n",
    "from sklearn.model_selection import StratifiedKFold, train_test_split\n",
    "from sklearn.metrics import roc_auc_score, f1_score, precision_score, recall_score, accuracy_score, confusion_matrix, ConfusionMatrixDisplay, RocCurveDisplay\n",
    "from sklearn.linear_model import LogisticRegression\n",
    "from sklearn.ensemble import RandomForestClassifier\n",
    "import xgboost as xgb\n",
    "import lightgbm as lgb\n",
    "from sklearn.preprocessing import MinMaxScaler\n",
    "from imblearn.over_sampling import SMOTE\n",
    "import optuna\n",
    "import warnings\n",
    "import matplotlib.pyplot as plt\n",
    "\n",
    "warnings.filterwarnings(\"ignore\", message=\"X does not have valid feature names\")\n"
   ]
  },
  {
   "cell_type": "markdown",
   "id": "bf55bb6a",
   "metadata": {},
   "source": [
    "## 2. Load Dataset 📂\n",
    "\n",
    "The dataset `df_cleaned.csv` includes:\n",
    "\n",
    "- Selected original features  \n",
    "- Engineered variables created based on domain logic  \n",
    "- **Unscaled numeric values** to allow flexible preprocessing during model training  \n",
    "- The target variable: `SeriousDlqin2yrs` (0 = No Default, 1 = Default)\n"
   ]
  },
  {
   "cell_type": "code",
   "execution_count": 39,
   "id": "03d422c0",
   "metadata": {},
   "outputs": [
    {
     "data": {
      "text/html": [
       "<div>\n",
       "<style scoped>\n",
       "    .dataframe tbody tr th:only-of-type {\n",
       "        vertical-align: middle;\n",
       "    }\n",
       "\n",
       "    .dataframe tbody tr th {\n",
       "        vertical-align: top;\n",
       "    }\n",
       "\n",
       "    .dataframe thead th {\n",
       "        text-align: right;\n",
       "    }\n",
       "</style>\n",
       "<table border=\"1\" class=\"dataframe\">\n",
       "  <thead>\n",
       "    <tr style=\"text-align: right;\">\n",
       "      <th></th>\n",
       "      <th>SeriousDlqin2yrs</th>\n",
       "      <th>RevolvingUtilization</th>\n",
       "      <th>age</th>\n",
       "      <th>Times30_59DaysLate</th>\n",
       "      <th>DebtToIncomeRatio</th>\n",
       "      <th>OpenCreditLines</th>\n",
       "      <th>Times90DaysLate</th>\n",
       "      <th>RealEstateLoans</th>\n",
       "      <th>Times60_89DaysLate</th>\n",
       "      <th>MonthlyIncome</th>\n",
       "      <th>NumberOfDependents</th>\n",
       "      <th>TotalPastDue</th>\n",
       "      <th>FinancialStressScore</th>\n",
       "      <th>CreditBurdenPerLine</th>\n",
       "      <th>AgeUtilizationRatio</th>\n",
       "      <th>IncomeAgeRatio</th>\n",
       "      <th>LinesPerYear</th>\n",
       "    </tr>\n",
       "  </thead>\n",
       "  <tbody>\n",
       "    <tr>\n",
       "      <th>0</th>\n",
       "      <td>1</td>\n",
       "      <td>0.766127</td>\n",
       "      <td>45</td>\n",
       "      <td>2</td>\n",
       "      <td>0.802982</td>\n",
       "      <td>13</td>\n",
       "      <td>0</td>\n",
       "      <td>6</td>\n",
       "      <td>0</td>\n",
       "      <td>9120.0</td>\n",
       "      <td>2.0</td>\n",
       "      <td>2</td>\n",
       "      <td>0.615186</td>\n",
       "      <td>651.428571</td>\n",
       "      <td>57.980231</td>\n",
       "      <td>198.260870</td>\n",
       "      <td>0.282609</td>\n",
       "    </tr>\n",
       "    <tr>\n",
       "      <th>1</th>\n",
       "      <td>0</td>\n",
       "      <td>0.957151</td>\n",
       "      <td>40</td>\n",
       "      <td>0</td>\n",
       "      <td>0.121876</td>\n",
       "      <td>4</td>\n",
       "      <td>0</td>\n",
       "      <td>0</td>\n",
       "      <td>0</td>\n",
       "      <td>2600.0</td>\n",
       "      <td>1.0</td>\n",
       "      <td>0</td>\n",
       "      <td>0.116654</td>\n",
       "      <td>520.000000</td>\n",
       "      <td>41.358587</td>\n",
       "      <td>63.414634</td>\n",
       "      <td>0.097561</td>\n",
       "    </tr>\n",
       "    <tr>\n",
       "      <th>2</th>\n",
       "      <td>0</td>\n",
       "      <td>0.658180</td>\n",
       "      <td>38</td>\n",
       "      <td>1</td>\n",
       "      <td>0.085113</td>\n",
       "      <td>2</td>\n",
       "      <td>1</td>\n",
       "      <td>0</td>\n",
       "      <td>0</td>\n",
       "      <td>3042.0</td>\n",
       "      <td>0.0</td>\n",
       "      <td>2</td>\n",
       "      <td>0.056020</td>\n",
       "      <td>1014.000000</td>\n",
       "      <td>56.870891</td>\n",
       "      <td>78.000000</td>\n",
       "      <td>0.051282</td>\n",
       "    </tr>\n",
       "    <tr>\n",
       "      <th>3</th>\n",
       "      <td>0</td>\n",
       "      <td>0.233810</td>\n",
       "      <td>30</td>\n",
       "      <td>0</td>\n",
       "      <td>0.036050</td>\n",
       "      <td>5</td>\n",
       "      <td>0</td>\n",
       "      <td>0</td>\n",
       "      <td>0</td>\n",
       "      <td>3300.0</td>\n",
       "      <td>0.0</td>\n",
       "      <td>0</td>\n",
       "      <td>0.008429</td>\n",
       "      <td>550.000000</td>\n",
       "      <td>123.046748</td>\n",
       "      <td>106.451613</td>\n",
       "      <td>0.161290</td>\n",
       "    </tr>\n",
       "    <tr>\n",
       "      <th>4</th>\n",
       "      <td>0</td>\n",
       "      <td>0.907239</td>\n",
       "      <td>49</td>\n",
       "      <td>1</td>\n",
       "      <td>0.024926</td>\n",
       "      <td>7</td>\n",
       "      <td>0</td>\n",
       "      <td>1</td>\n",
       "      <td>0</td>\n",
       "      <td>23011.9</td>\n",
       "      <td>0.0</td>\n",
       "      <td>1</td>\n",
       "      <td>0.022614</td>\n",
       "      <td>2876.487500</td>\n",
       "      <td>53.421168</td>\n",
       "      <td>460.238000</td>\n",
       "      <td>0.140000</td>\n",
       "    </tr>\n",
       "  </tbody>\n",
       "</table>\n",
       "</div>"
      ],
      "text/plain": [
       "   SeriousDlqin2yrs  RevolvingUtilization  age  Times30_59DaysLate  \\\n",
       "0                 1              0.766127   45                   2   \n",
       "1                 0              0.957151   40                   0   \n",
       "2                 0              0.658180   38                   1   \n",
       "3                 0              0.233810   30                   0   \n",
       "4                 0              0.907239   49                   1   \n",
       "\n",
       "   DebtToIncomeRatio  OpenCreditLines  Times90DaysLate  RealEstateLoans  \\\n",
       "0           0.802982               13                0                6   \n",
       "1           0.121876                4                0                0   \n",
       "2           0.085113                2                1                0   \n",
       "3           0.036050                5                0                0   \n",
       "4           0.024926                7                0                1   \n",
       "\n",
       "   Times60_89DaysLate  MonthlyIncome  NumberOfDependents  TotalPastDue  \\\n",
       "0                   0         9120.0                 2.0             2   \n",
       "1                   0         2600.0                 1.0             0   \n",
       "2                   0         3042.0                 0.0             2   \n",
       "3                   0         3300.0                 0.0             0   \n",
       "4                   0        23011.9                 0.0             1   \n",
       "\n",
       "   FinancialStressScore  CreditBurdenPerLine  AgeUtilizationRatio  \\\n",
       "0              0.615186           651.428571            57.980231   \n",
       "1              0.116654           520.000000            41.358587   \n",
       "2              0.056020          1014.000000            56.870891   \n",
       "3              0.008429           550.000000           123.046748   \n",
       "4              0.022614          2876.487500            53.421168   \n",
       "\n",
       "   IncomeAgeRatio  LinesPerYear  \n",
       "0      198.260870      0.282609  \n",
       "1       63.414634      0.097561  \n",
       "2       78.000000      0.051282  \n",
       "3      106.451613      0.161290  \n",
       "4      460.238000      0.140000  "
      ]
     },
     "execution_count": 39,
     "metadata": {},
     "output_type": "execute_result"
    }
   ],
   "source": [
    "# Load the cleaned dataset\n",
    "df = pd.read_csv(\"../data/df_cleaned.csv\")  # Ajusta ruta si es necesario\n",
    "\n",
    "# Preview\n",
    "df.head()\n"
   ]
  },
  {
   "cell_type": "code",
   "execution_count": 40,
   "id": "5a443adb",
   "metadata": {},
   "outputs": [
    {
     "name": "stdout",
     "output_type": "stream",
     "text": [
      "<class 'pandas.core.frame.DataFrame'>\n",
      "RangeIndex: 147610 entries, 0 to 147609\n",
      "Data columns (total 17 columns):\n",
      " #   Column                Non-Null Count   Dtype  \n",
      "---  ------                --------------   -----  \n",
      " 0   SeriousDlqin2yrs      147610 non-null  int64  \n",
      " 1   RevolvingUtilization  147610 non-null  float64\n",
      " 2   age                   147610 non-null  int64  \n",
      " 3   Times30_59DaysLate    147610 non-null  int64  \n",
      " 4   DebtToIncomeRatio     147610 non-null  float64\n",
      " 5   OpenCreditLines       147610 non-null  int64  \n",
      " 6   Times90DaysLate       147610 non-null  int64  \n",
      " 7   RealEstateLoans       147610 non-null  int64  \n",
      " 8   Times60_89DaysLate    147610 non-null  int64  \n",
      " 9   MonthlyIncome         147610 non-null  float64\n",
      " 10  NumberOfDependents    147610 non-null  float64\n",
      " 11  TotalPastDue          147610 non-null  int64  \n",
      " 12  FinancialStressScore  147610 non-null  float64\n",
      " 13  CreditBurdenPerLine   147610 non-null  float64\n",
      " 14  AgeUtilizationRatio   147610 non-null  float64\n",
      " 15  IncomeAgeRatio        147610 non-null  float64\n",
      " 16  LinesPerYear          147610 non-null  float64\n",
      "dtypes: float64(9), int64(8)\n",
      "memory usage: 19.1 MB\n"
     ]
    }
   ],
   "source": [
    "df.info()"
   ]
  },
  {
   "cell_type": "code",
   "execution_count": 41,
   "id": "8b905053",
   "metadata": {},
   "outputs": [
    {
     "data": {
      "text/plain": [
       "SeriousDlqin2yrs\n",
       "0    0.93327\n",
       "1    0.06673\n",
       "Name: proportion, dtype: float64"
      ]
     },
     "execution_count": 41,
     "metadata": {},
     "output_type": "execute_result"
    }
   ],
   "source": [
    "df['SeriousDlqin2yrs'].value_counts(normalize=True)"
   ]
  },
  {
   "cell_type": "markdown",
   "id": "01790d11",
   "metadata": {},
   "source": [
    "## 3. Train/Validation/Test Split 📊\n",
    "\n",
    "To ensure reliable model evaluation and avoid data leakage, the dataset is split into two subsets:\n",
    "\n",
    "- **Training set (80%)** – Used to train and validate the model  \n",
    "- **Test set (20%)** – Held out for final evaluation to assess generalization on unseen data\n",
    "\n",
    "The split was performed using `train_test_split` with **stratification**, to preserve the proportion of the target variable (`SeriousDlqin2yrs`) across both sets.\n"
   ]
  },
  {
   "cell_type": "code",
   "execution_count": 42,
   "id": "0fb0b6a7",
   "metadata": {},
   "outputs": [
    {
     "name": "stdout",
     "output_type": "stream",
     "text": [
      "Train:      (118088, 16)\n",
      "Test:       (29522, 16)\n"
     ]
    }
   ],
   "source": [
    "X = df.drop(columns=\"SeriousDlqin2yrs\")\n",
    "y = df[\"SeriousDlqin2yrs\"]\n",
    "\n",
    "X_train, X_test, y_train, y_test = train_test_split(X, y, test_size=0.2, stratify=y, random_state=42)\n",
    "\n",
    "print(f\"Train:      {X_train.shape}\")\n",
    "print(f\"Test:       {X_test.shape}\")\n"
   ]
  },
  {
   "cell_type": "markdown",
   "id": "a50da3ae",
   "metadata": {},
   "source": [
    "## 4. Model Selection and Comparison 🧠\n",
    "\n",
    "To compare the performance of several baseline models, a consistent training and evaluation approach was used. This ensured that all models were assessed under the same conditions, allowing for a fair and reliable comparison.\n",
    "\n",
    "- **Models trained:** Logistic Regression, Random Forest, XGBoost, and LightGBM  \n",
    "- **Validation strategy:** 10-Fold Stratified Cross-Validation to preserve class distribution across folds  \n",
    "- **Preprocessing within each fold:**  \n",
    "  - Feature scaling to normalize input variables  \n",
    "  - Class balancing using SMOTE to address target imbalance  \n",
    "- **Evaluation metrics:**  \n",
    "  - AUC (Area Under the ROC Curve)  \n",
    "  - F1-score  \n",
    "  - Precision  \n",
    "  - Recall  \n",
    "- **Performance recording:** Mean metric values were calculated across the 10 folds  \n",
    "- **Purpose:** To ensure a standardized and fair comparison across all candidate models\n"
   ]
  },
  {
   "cell_type": "code",
   "execution_count": 58,
   "id": "edaafa54",
   "metadata": {},
   "outputs": [
    {
     "name": "stdout",
     "output_type": "stream",
     "text": [
      "Training LogisticRegression\n",
      "Training RandomForest\n",
      "Training XGBoost\n",
      "Training LightGBM\n"
     ]
    },
    {
     "data": {
      "text/html": [
       "<div>\n",
       "<style scoped>\n",
       "    .dataframe tbody tr th:only-of-type {\n",
       "        vertical-align: middle;\n",
       "    }\n",
       "\n",
       "    .dataframe tbody tr th {\n",
       "        vertical-align: top;\n",
       "    }\n",
       "\n",
       "    .dataframe thead th {\n",
       "        text-align: right;\n",
       "    }\n",
       "</style>\n",
       "<table border=\"1\" class=\"dataframe\">\n",
       "  <thead>\n",
       "    <tr style=\"text-align: right;\">\n",
       "      <th></th>\n",
       "      <th>Model</th>\n",
       "      <th>CV AUC</th>\n",
       "      <th>CV AUC std</th>\n",
       "      <th>CV F1</th>\n",
       "      <th>CV F1 std</th>\n",
       "      <th>CV Precision</th>\n",
       "      <th>CV Recall</th>\n",
       "    </tr>\n",
       "  </thead>\n",
       "  <tbody>\n",
       "    <tr>\n",
       "      <th>0</th>\n",
       "      <td>LogisticRegression</td>\n",
       "      <td>0.853684</td>\n",
       "      <td>0.006450</td>\n",
       "      <td>0.331085</td>\n",
       "      <td>0.005399</td>\n",
       "      <td>0.212557</td>\n",
       "      <td>0.748604</td>\n",
       "    </tr>\n",
       "    <tr>\n",
       "      <th>1</th>\n",
       "      <td>RandomForest</td>\n",
       "      <td>0.831427</td>\n",
       "      <td>0.007121</td>\n",
       "      <td>0.344086</td>\n",
       "      <td>0.019846</td>\n",
       "      <td>0.417113</td>\n",
       "      <td>0.293020</td>\n",
       "    </tr>\n",
       "    <tr>\n",
       "      <th>2</th>\n",
       "      <td>XGBoost</td>\n",
       "      <td>0.844814</td>\n",
       "      <td>0.007556</td>\n",
       "      <td>0.326668</td>\n",
       "      <td>0.020823</td>\n",
       "      <td>0.461731</td>\n",
       "      <td>0.252919</td>\n",
       "    </tr>\n",
       "    <tr>\n",
       "      <th>3</th>\n",
       "      <td>LightGBM</td>\n",
       "      <td>0.855722</td>\n",
       "      <td>0.007671</td>\n",
       "      <td>0.366105</td>\n",
       "      <td>0.018174</td>\n",
       "      <td>0.481172</td>\n",
       "      <td>0.295558</td>\n",
       "    </tr>\n",
       "  </tbody>\n",
       "</table>\n",
       "</div>"
      ],
      "text/plain": [
       "                Model    CV AUC  CV AUC std     CV F1  CV F1 std  \\\n",
       "0  LogisticRegression  0.853684    0.006450  0.331085   0.005399   \n",
       "1        RandomForest  0.831427    0.007121  0.344086   0.019846   \n",
       "2             XGBoost  0.844814    0.007556  0.326668   0.020823   \n",
       "3            LightGBM  0.855722    0.007671  0.366105   0.018174   \n",
       "\n",
       "   CV Precision  CV Recall  \n",
       "0      0.212557   0.748604  \n",
       "1      0.417113   0.293020  \n",
       "2      0.461731   0.252919  \n",
       "3      0.481172   0.295558  "
      ]
     },
     "execution_count": 58,
     "metadata": {},
     "output_type": "execute_result"
    }
   ],
   "source": [
    "# Define models with basic hyperparameters \n",
    "models = {\n",
    "    'LogisticRegression': LogisticRegression(random_state=42),\n",
    "    'RandomForest': RandomForestClassifier(random_state=42),\n",
    "    'XGBoost': xgb.XGBClassifier(random_state=42),\n",
    "    'LightGBM': lgb.LGBMClassifier(random_state=42, verbose=-1),\n",
    "}\n",
    "\n",
    "# Initialize cross-validation\n",
    "skf = StratifiedKFold(n_splits=10, shuffle=True, random_state=42)\n",
    "\n",
    "# To store results\n",
    "results = []\n",
    "\n",
    "# Evaluate each model\n",
    "for model_name, model in models.items():\n",
    "    print(f\"Training {model_name}\")\n",
    "    aucs, f1s, precisions, recalls = [], [], [], []\n",
    "\n",
    "    for train_idx, val_idx in skf.split(X_train, y_train):\n",
    "        X_train_fold_raw, y_train_fold = X_train.iloc[train_idx], y_train.iloc[train_idx]\n",
    "        X_val_fold_raw, y_val_fold = X_train.iloc[val_idx], y_train.iloc[val_idx]\n",
    "\n",
    "        # Scale training and validation separately to avoid leakage\n",
    "        scaler = MinMaxScaler()\n",
    "        X_train_fold_scaled = scaler.fit_transform(X_train_fold_raw)\n",
    "        X_val_fold_scaled = scaler.transform(X_val_fold_raw)\n",
    "\n",
    "        # Apply SMOTE on the scaled training fold\n",
    "        smote = SMOTE(random_state=42)\n",
    "        X_train_fold, y_train_fold = smote.fit_resample(X_train_fold_scaled, y_train_fold)\n",
    "\n",
    "        # Fit model and evaluate\n",
    "        model.fit(X_train_fold, y_train_fold)\n",
    "        y_pred = model.predict(X_val_fold_scaled)\n",
    "        y_prob = model.predict_proba(X_val_fold_scaled)[:, 1]\n",
    "\n",
    "        aucs.append(roc_auc_score(y_val_fold, y_prob))\n",
    "        f1s.append(f1_score(y_val_fold, y_pred))\n",
    "        precisions.append(precision_score(y_val_fold, y_pred))\n",
    "        recalls.append(recall_score(y_val_fold, y_pred))\n",
    "\n",
    "    # Store average CV metrics + test metrics\n",
    "    results.append({\n",
    "        'Model': model_name,\n",
    "        'CV AUC': np.mean(aucs),\n",
    "        'CV AUC std': np.std(aucs),\n",
    "        'CV F1': np.mean(f1s),\n",
    "        'CV F1 std': np.std(f1s),\n",
    "        'CV Precision': np.mean(precisions),\n",
    "        'CV Recall': np.mean(recalls),\n",
    "    })\n",
    "\n",
    "# Show results\n",
    "results_df = pd.DataFrame(results)\n",
    "results_df\n"
   ]
  },
  {
   "cell_type": "code",
   "execution_count": 59,
   "id": "e3101ff0",
   "metadata": {},
   "outputs": [
    {
     "data": {
      "image/png": "[encoded data removed]",
      "text/plain": [
       "<Figure size 800x500 with 1 Axes>"
      ]
     },
     "metadata": {},
     "output_type": "display_data"
    }
   ],
   "source": [
    "import pandas as pd\n",
    "import seaborn as sns\n",
    "import matplotlib.pyplot as plt\n",
    "\n",
    "# Calcular AUC + STD\n",
    "results_df['AUC + STD'] = results_df['CV AUC'] + results_df['CV AUC std']\n",
    "\n",
    "# Ordenar por AUC + STD\n",
    "results_sorted = results_df.sort_values(by='AUC + STD', ascending=False)\n",
    "\n",
    "# Colores personalizados: azul más oscuro para el ganador\n",
    "colors = ['#1f77b4' if model == 'LightGBM' else '#a6cee3' for model in results_sorted['Model']]\n",
    "\n",
    "# Crear gráfico\n",
    "plt.figure(figsize=(8, 5))\n",
    "ax = sns.barplot(x='Model', y='AUC + STD', data=results_sorted, hue='Model', palette=colors, legend=False)\n",
    "plt.title('Cross-Validated AUC + STD by Model')\n",
    "plt.ylabel('CV AUC + STD')\n",
    "plt.xlabel('')\n",
    "plt.ylim(0.82, 0.865)\n",
    "\n",
    "# Añadir los valores sobre las barras\n",
    "for p in ax.patches:\n",
    "    height = p.get_height()\n",
    "    ax.annotate(f'{height:.4f}', \n",
    "                (p.get_x() + p.get_width() / 2., height),\n",
    "                ha='center', va='bottom', fontsize=9, fontweight='bold')\n",
    "\n",
    "plt.tight_layout()\n",
    "plt.show()\n",
    "\n"
   ]
  },
  {
   "cell_type": "code",
   "execution_count": 60,
   "id": "2393db0c",
   "metadata": {},
   "outputs": [
    {
     "data": {
      "image/png": "[encoded data removed]",
      "text/plain": [
       "<Figure size 800x500 with 1 Axes>"
      ]
     },
     "metadata": {},
     "output_type": "display_data"
    }
   ],
   "source": [
    "import pandas as pd\n",
    "import seaborn as sns\n",
    "import matplotlib.pyplot as plt\n",
    "\n",
    "# Reestructurar el DataFrame\n",
    "df_melted = results_df.melt(id_vars='Model',\n",
    "                            value_vars=['CV F1', 'CV Precision', 'CV Recall'],\n",
    "                            var_name='Metric', value_name='Score')\n",
    "\n",
    "# Colores personalizados (F1 más oscuro)\n",
    "palette_custom = {\n",
    "    'CV F1': '#1f77b4',         \n",
    "    'CV Precision': '#c6dbef',  \n",
    "    'CV Recall': '#6baed6'     \n",
    "}\n",
    "\n",
    "# Gráfico\n",
    "plt.figure(figsize=(8, 5))\n",
    "ax = sns.barplot(x='Model', y='Score', hue='Metric', data=df_melted, palette=palette_custom)\n",
    "plt.title('Model Performance Metrics')\n",
    "plt.ylim(0, 0.8)\n",
    "plt.ylabel('Score')\n",
    "plt.xlabel('')\n",
    "\n",
    "# Etiquetas dentro de las barras\n",
    "for container in ax.containers:\n",
    "    ax.bar_label(container, fmt='%.2f', label_type='center', fontsize=8, color='white', weight='bold')\n",
    "\n",
    "plt.legend(title='Metric')\n",
    "plt.tight_layout()\n",
    "plt.show()\n"
   ]
  },
  {
   "cell_type": "markdown",
   "id": "0fa8fb29",
   "metadata": {},
   "source": [
    "## 5. Hyperparameter Tuning ⚙️\n",
    "\n",
    "To improve the performance of the best baseline model, hyperparameter tuning was conducted using Optuna.\n",
    "\n",
    "- **Model optimized:** LightGBM, identified as the top performer based on CV AUC and F1 score  \n",
    "- **Optimization method:** Optuna, a powerful hyperparameter optimization framework  \n",
    "- **Objective:** Maximize average AUC score across 10 Stratified K-Folds  \n",
    "- **Number of trials:** 100 trials were performed to explore the hyperparameter space  \n",
    "- **Hyperparameters explored:**  \n",
    "  - `n_estimators`  \n",
    "  - `learning_rate`  \n",
    "  - `max_depth`  \n",
    "  - `num_leaves`  \n",
    "  - Other related parameters  \n",
    "- **Preprocessing in each fold:**  \n",
    "  - Feature scaling  \n",
    "  - Class balancing using SMOTE  \n",
    "  - Strict separation to prevent data leakage  \n",
    "\n",
    "The best hyperparameter set identified by Optuna was used to retrain the final LightGBM model.  \n",
    "📊 Below is a summary of baseline performance before tuning, showing LightGBM had the best trade-off between AUC and F1-score.\n"
   ]
  },
  {
   "cell_type": "code",
   "execution_count": 61,
   "id": "24afed0b",
   "metadata": {},
   "outputs": [
    {
     "name": "stderr",
     "output_type": "stream",
     "text": [
      "[I 2025-05-19 15:47:17,322] A new study created in memory with name: no-name-58dd7d5a-eee6-40c6-a12d-f96a4e903175\n",
      "[I 2025-05-19 15:47:23,970] Trial 0 finished with value: 0.8554032243677536 and parameters: {'n_estimators': 129, 'learning_rate': 0.02019179280302826, 'max_depth': 6, 'num_leaves_power': 5, 'num_leaves': 28, 'min_child_samples': 19, 'subsample': 0.8668723817040341, 'colsample_bytree': 0.9445199427497915}. Best is trial 0 with value: 0.8554032243677536.\n"
     ]
    },
    {
     "name": "stdout",
     "output_type": "stream",
     "text": [
      "[Trial 0] AUCs: ['0.8496', '0.8556', '0.8560', '0.8662', '0.8497'] | Mean AUC: 0.8554 | Std: 0.0061\n"
     ]
    },
    {
     "name": "stderr",
     "output_type": "stream",
     "text": [
      "[I 2025-05-19 15:47:35,178] Trial 1 finished with value: 0.8554473952205844 and parameters: {'n_estimators': 192, 'learning_rate': 0.013650811194345216, 'max_depth': 8, 'num_leaves_power': 7, 'num_leaves': 64, 'min_child_samples': 20, 'subsample': 0.9019412847567896, 'colsample_bytree': 0.7642485752787951}. Best is trial 1 with value: 0.8554473952205844.\n"
     ]
    },
    {
     "name": "stdout",
     "output_type": "stream",
     "text": [
      "[Trial 1] AUCs: ['0.8485', '0.8559', '0.8563', '0.8667', '0.8498'] | Mean AUC: 0.8554 | Std: 0.0065\n"
     ]
    },
    {
     "name": "stderr",
     "output_type": "stream",
     "text": [
      "[I 2025-05-19 15:47:43,162] Trial 2 finished with value: 0.8438041948582556 and parameters: {'n_estimators': 198, 'learning_rate': 0.23018320372989198, 'max_depth': 6, 'num_leaves_power': 6, 'num_leaves': 49, 'min_child_samples': 15, 'subsample': 0.904711662581318, 'colsample_bytree': 0.9585809590951778}. Best is trial 1 with value: 0.8554473952205844.\n"
     ]
    },
    {
     "name": "stdout",
     "output_type": "stream",
     "text": [
      "[Trial 2] AUCs: ['0.8403', '0.8456', '0.8437', '0.8528', '0.8367'] | Mean AUC: 0.8438 | Std: 0.0055\n"
     ]
    },
    {
     "name": "stderr",
     "output_type": "stream",
     "text": [
      "[I 2025-05-19 15:47:50,475] Trial 3 finished with value: 0.8522913143455213 and parameters: {'n_estimators': 199, 'learning_rate': 0.1817356710950266, 'max_depth': 6, 'num_leaves_power': 5, 'num_leaves': 20, 'min_child_samples': 25, 'subsample': 0.9694507882159956, 'colsample_bytree': 0.6296777055036777}. Best is trial 1 with value: 0.8554473952205844.\n"
     ]
    },
    {
     "name": "stdout",
     "output_type": "stream",
     "text": [
      "[Trial 3] AUCs: ['0.8468', '0.8539', '0.8517', '0.8624', '0.8467'] | Mean AUC: 0.8523 | Std: 0.0058\n"
     ]
    },
    {
     "name": "stderr",
     "output_type": "stream",
     "text": [
      "[I 2025-05-19 15:48:02,725] Trial 4 finished with value: 0.8541459909454998 and parameters: {'n_estimators': 293, 'learning_rate': 0.02662433066730813, 'max_depth': 9, 'num_leaves_power': 5, 'num_leaves': 21, 'min_child_samples': 17, 'subsample': 0.6328049701816195, 'colsample_bytree': 0.6249974779343765}. Best is trial 1 with value: 0.8554473952205844.\n"
     ]
    },
    {
     "name": "stdout",
     "output_type": "stream",
     "text": [
      "[Trial 4] AUCs: ['0.8487', '0.8541', '0.8543', '0.8657', '0.8479'] | Mean AUC: 0.8541 | Std: 0.0064\n"
     ]
    },
    {
     "name": "stderr",
     "output_type": "stream",
     "text": [
      "[I 2025-05-19 15:48:10,527] Trial 5 finished with value: 0.8521424004159762 and parameters: {'n_estimators': 167, 'learning_rate': 0.09339593941155484, 'max_depth': 6, 'num_leaves_power': 7, 'num_leaves': 86, 'min_child_samples': 22, 'subsample': 0.9669062307319249, 'colsample_bytree': 0.81835447607592}. Best is trial 1 with value: 0.8554473952205844.\n"
     ]
    },
    {
     "name": "stdout",
     "output_type": "stream",
     "text": [
      "[Trial 5] AUCs: ['0.8465', '0.8520', '0.8509', '0.8637', '0.8477'] | Mean AUC: 0.8521 | Std: 0.0061\n"
     ]
    },
    {
     "name": "stderr",
     "output_type": "stream",
     "text": [
      "[I 2025-05-19 15:48:15,324] Trial 6 finished with value: 0.8556788661342084 and parameters: {'n_estimators': 62, 'learning_rate': 0.036169084335770194, 'max_depth': 7, 'num_leaves_power': 6, 'num_leaves': 51, 'min_child_samples': 27, 'subsample': 0.7448382694129462, 'colsample_bytree': 0.6677829957609288}. Best is trial 6 with value: 0.8556788661342084.\n"
     ]
    },
    {
     "name": "stdout",
     "output_type": "stream",
     "text": [
      "[Trial 6] AUCs: ['0.8497', '0.8562', '0.8566', '0.8663', '0.8495'] | Mean AUC: 0.8557 | Std: 0.0061\n"
     ]
    },
    {
     "name": "stderr",
     "output_type": "stream",
     "text": [
      "[I 2025-05-19 15:48:19,362] Trial 7 finished with value: 0.8553261517385791 and parameters: {'n_estimators': 64, 'learning_rate': 0.036752216323835026, 'max_depth': 8, 'num_leaves_power': 7, 'num_leaves': 22, 'min_child_samples': 18, 'subsample': 0.9808494047293824, 'colsample_bytree': 0.7307831195607766}. Best is trial 6 with value: 0.8556788661342084.\n"
     ]
    },
    {
     "name": "stdout",
     "output_type": "stream",
     "text": [
      "[Trial 7] AUCs: ['0.8487', '0.8549', '0.8562', '0.8657', '0.8512'] | Mean AUC: 0.8553 | Std: 0.0058\n"
     ]
    },
    {
     "name": "stderr",
     "output_type": "stream",
     "text": [
      "[I 2025-05-19 15:48:26,368] Trial 8 finished with value: 0.8529547511444318 and parameters: {'n_estimators': 87, 'learning_rate': 0.0536934034971257, 'max_depth': 7, 'num_leaves_power': 7, 'num_leaves': 124, 'min_child_samples': 16, 'subsample': 0.7539474835126041, 'colsample_bytree': 0.9713137084304733}. Best is trial 6 with value: 0.8556788661342084.\n"
     ]
    },
    {
     "name": "stdout",
     "output_type": "stream",
     "text": [
      "[Trial 8] AUCs: ['0.8458', '0.8531', '0.8530', '0.8653', '0.8477'] | Mean AUC: 0.8530 | Std: 0.0068\n"
     ]
    },
    {
     "name": "stderr",
     "output_type": "stream",
     "text": [
      "[I 2025-05-19 15:48:30,773] Trial 9 finished with value: 0.8542699382796851 and parameters: {'n_estimators': 72, 'learning_rate': 0.011608127087039174, 'max_depth': 7, 'num_leaves_power': 5, 'num_leaves': 26, 'min_child_samples': 23, 'subsample': 0.831471971775603, 'colsample_bytree': 0.6284039362901381}. Best is trial 6 with value: 0.8556788661342084.\n"
     ]
    },
    {
     "name": "stdout",
     "output_type": "stream",
     "text": [
      "[Trial 9] AUCs: ['0.8475', '0.8528', '0.8558', '0.8650', '0.8502'] | Mean AUC: 0.8543 | Std: 0.0060\n"
     ]
    },
    {
     "name": "stderr",
     "output_type": "stream",
     "text": [
      "[I 2025-05-19 15:48:39,036] Trial 10 finished with value: 0.853346762934805 and parameters: {'n_estimators': 262, 'learning_rate': 0.07999202881154276, 'max_depth': 3, 'num_leaves_power': 6, 'num_leaves': 47, 'min_child_samples': 30, 'subsample': 0.7306113798875686, 'colsample_bytree': 0.8618184989343334}. Best is trial 6 with value: 0.8556788661342084.\n"
     ]
    },
    {
     "name": "stdout",
     "output_type": "stream",
     "text": [
      "[Trial 10] AUCs: ['0.8492', '0.8531', '0.8544', '0.8636', '0.8464'] | Mean AUC: 0.8533 | Std: 0.0058\n"
     ]
    },
    {
     "name": "stderr",
     "output_type": "stream",
     "text": [
      "[I 2025-05-19 15:48:48,502] Trial 11 finished with value: 0.8556019202751809 and parameters: {'n_estimators': 143, 'learning_rate': 0.013878134038417539, 'max_depth': 10, 'num_leaves_power': 6, 'num_leaves': 59, 'min_child_samples': 11, 'subsample': 0.6934255666909513, 'colsample_bytree': 0.730305863307266}. Best is trial 6 with value: 0.8556788661342084.\n"
     ]
    },
    {
     "name": "stdout",
     "output_type": "stream",
     "text": [
      "[Trial 11] AUCs: ['0.8488', '0.8563', '0.8553', '0.8672', '0.8504'] | Mean AUC: 0.8556 | Std: 0.0064\n"
     ]
    },
    {
     "name": "stderr",
     "output_type": "stream",
     "text": [
      "[I 2025-05-19 15:48:56,300] Trial 12 finished with value: 0.8561192401764423 and parameters: {'n_estimators': 121, 'learning_rate': 0.01840046624702021, 'max_depth': 10, 'num_leaves_power': 6, 'num_leaves': 57, 'min_child_samples': 10, 'subsample': 0.6664734411242983, 'colsample_bytree': 0.7004545867110257}. Best is trial 12 with value: 0.8561192401764423.\n"
     ]
    },
    {
     "name": "stdout",
     "output_type": "stream",
     "text": [
      "[Trial 12] AUCs: ['0.8494', '0.8567', '0.8557', '0.8680', '0.8507'] | Mean AUC: 0.8561 | Std: 0.0066\n"
     ]
    },
    {
     "name": "stderr",
     "output_type": "stream",
     "text": [
      "[I 2025-05-19 15:49:02,814] Trial 13 finished with value: 0.8557112137980056 and parameters: {'n_estimators': 111, 'learning_rate': 0.03586929781763619, 'max_depth': 4, 'num_leaves_power': 6, 'num_leaves': 57, 'min_child_samples': 10, 'subsample': 0.6105318872911895, 'colsample_bytree': 0.6954383523912603}. Best is trial 12 with value: 0.8561192401764423.\n"
     ]
    },
    {
     "name": "stdout",
     "output_type": "stream",
     "text": [
      "[Trial 13] AUCs: ['0.8504', '0.8558', '0.8565', '0.8656', '0.8503'] | Mean AUC: 0.8557 | Std: 0.0056\n"
     ]
    },
    {
     "name": "stderr",
     "output_type": "stream",
     "text": [
      "[I 2025-05-19 15:49:10,161] Trial 14 finished with value: 0.8548906776941243 and parameters: {'n_estimators': 115, 'learning_rate': 0.021229279486864927, 'max_depth': 4, 'num_leaves_power': 6, 'num_leaves': 60, 'min_child_samples': 10, 'subsample': 0.6038449751693242, 'colsample_bytree': 0.693789171933091}. Best is trial 12 with value: 0.8561192401764423.\n"
     ]
    },
    {
     "name": "stdout",
     "output_type": "stream",
     "text": [
      "[Trial 14] AUCs: ['0.8489', '0.8552', '0.8562', '0.8641', '0.8500'] | Mean AUC: 0.8549 | Std: 0.0054\n"
     ]
    },
    {
     "name": "stderr",
     "output_type": "stream",
     "text": [
      "[I 2025-05-19 15:49:15,709] Trial 15 finished with value: 0.8552372360204016 and parameters: {'n_estimators': 113, 'learning_rate': 0.05518868861870247, 'max_depth': 4, 'num_leaves_power': 6, 'num_leaves': 38, 'min_child_samples': 13, 'subsample': 0.6620537422220987, 'colsample_bytree': 0.8224615679412883}. Best is trial 12 with value: 0.8561192401764423.\n"
     ]
    },
    {
     "name": "stdout",
     "output_type": "stream",
     "text": [
      "[Trial 15] AUCs: ['0.8497', '0.8556', '0.8561', '0.8650', '0.8498'] | Mean AUC: 0.8552 | Std: 0.0056\n"
     ]
    },
    {
     "name": "stderr",
     "output_type": "stream",
     "text": [
      "[I 2025-05-19 15:49:25,187] Trial 16 finished with value: 0.8530965547758346 and parameters: {'n_estimators': 155, 'learning_rate': 0.034491356851017, 'max_depth': 10, 'num_leaves_power': 6, 'num_leaves': 64, 'min_child_samples': 13, 'subsample': 0.6748760887626484, 'colsample_bytree': 0.6799096711002669}. Best is trial 12 with value: 0.8561192401764423.\n"
     ]
    },
    {
     "name": "stdout",
     "output_type": "stream",
     "text": [
      "[Trial 16] AUCs: ['0.8474', '0.8536', '0.8525', '0.8655', '0.8465'] | Mean AUC: 0.8531 | Std: 0.0068\n"
     ]
    },
    {
     "name": "stderr",
     "output_type": "stream",
     "text": [
      "[I 2025-05-19 15:49:30,632] Trial 17 finished with value: 0.8545566559180292 and parameters: {'n_estimators': 102, 'learning_rate': 0.019790278644189547, 'max_depth': 4, 'num_leaves_power': 6, 'num_leaves': 56, 'min_child_samples': 13, 'subsample': 0.604455246331756, 'colsample_bytree': 0.7640049368699485}. Best is trial 12 with value: 0.8561192401764423.\n"
     ]
    },
    {
     "name": "stdout",
     "output_type": "stream",
     "text": [
      "[Trial 17] AUCs: ['0.8485', '0.8557', '0.8558', '0.8633', '0.8496'] | Mean AUC: 0.8546 | Std: 0.0053\n"
     ]
    },
    {
     "name": "stderr",
     "output_type": "stream",
     "text": [
      "[I 2025-05-19 15:49:40,003] Trial 18 finished with value: 0.8528028339883684 and parameters: {'n_estimators': 234, 'learning_rate': 0.11625291355421662, 'max_depth': 5, 'num_leaves_power': 7, 'num_leaves': 83, 'min_child_samples': 10, 'subsample': 0.7890254536748296, 'colsample_bytree': 0.7184651319083745}. Best is trial 12 with value: 0.8561192401764423.\n"
     ]
    },
    {
     "name": "stdout",
     "output_type": "stream",
     "text": [
      "[Trial 18] AUCs: ['0.8475', '0.8526', '0.8536', '0.8622', '0.8481'] | Mean AUC: 0.8528 | Std: 0.0052\n"
     ]
    },
    {
     "name": "stderr",
     "output_type": "stream",
     "text": [
      "[I 2025-05-19 15:49:45,322] Trial 19 finished with value: 0.8553720641163437 and parameters: {'n_estimators': 139, 'learning_rate': 0.06086794115874497, 'max_depth': 3, 'num_leaves_power': 5, 'num_leaves': 25, 'min_child_samples': 14, 'subsample': 0.6951847858773763, 'colsample_bytree': 0.9091796385245503}. Best is trial 12 with value: 0.8561192401764423.\n"
     ]
    },
    {
     "name": "stdout",
     "output_type": "stream",
     "text": [
      "[Trial 19] AUCs: ['0.8501', '0.8560', '0.8560', '0.8659', '0.8489'] | Mean AUC: 0.8554 | Std: 0.0060\n"
     ]
    },
    {
     "name": "stderr",
     "output_type": "stream",
     "text": [
      "[I 2025-05-19 15:49:51,128] Trial 20 finished with value: 0.8538477572851686 and parameters: {'n_estimators': 92, 'learning_rate': 0.010014092775617484, 'max_depth': 9, 'num_leaves_power': 6, 'num_leaves': 42, 'min_child_samples': 12, 'subsample': 0.6439162226006497, 'colsample_bytree': 0.7761053383184907}. Best is trial 12 with value: 0.8561192401764423.\n"
     ]
    },
    {
     "name": "stdout",
     "output_type": "stream",
     "text": [
      "[Trial 20] AUCs: ['0.8448', '0.8537', '0.8548', '0.8657', '0.8501'] | Mean AUC: 0.8538 | Std: 0.0069\n"
     ]
    },
    {
     "name": "stderr",
     "output_type": "stream",
     "text": [
      "[I 2025-05-19 15:49:55,516] Trial 21 finished with value: 0.8558797433790518 and parameters: {'n_estimators': 69, 'learning_rate': 0.03763451908712499, 'max_depth': 5, 'num_leaves_power': 6, 'num_leaves': 53, 'min_child_samples': 30, 'subsample': 0.7368342714476529, 'colsample_bytree': 0.6714145898978167}. Best is trial 12 with value: 0.8561192401764423.\n"
     ]
    },
    {
     "name": "stdout",
     "output_type": "stream",
     "text": [
      "[Trial 21] AUCs: ['0.8503', '0.8566', '0.8566', '0.8653', '0.8506'] | Mean AUC: 0.8559 | Std: 0.0055\n"
     ]
    },
    {
     "name": "stderr",
     "output_type": "stream",
     "text": [
      "[I 2025-05-19 15:49:59,110] Trial 22 finished with value: 0.8551806085473066 and parameters: {'n_estimators': 54, 'learning_rate': 0.02915236697252746, 'max_depth': 5, 'num_leaves_power': 6, 'num_leaves': 53, 'min_child_samples': 29, 'subsample': 0.7083835763822163, 'colsample_bytree': 0.6575656873569828}. Best is trial 12 with value: 0.8561192401764423.\n"
     ]
    },
    {
     "name": "stdout",
     "output_type": "stream",
     "text": [
      "[Trial 22] AUCs: ['0.8494', '0.8563', '0.8561', '0.8646', '0.8495'] | Mean AUC: 0.8552 | Std: 0.0056\n"
     ]
    },
    {
     "name": "stderr",
     "output_type": "stream",
     "text": [
      "[I 2025-05-19 15:50:04,773] Trial 23 finished with value: 0.8547781174006275 and parameters: {'n_estimators': 91, 'learning_rate': 0.05069748294072128, 'max_depth': 5, 'num_leaves_power': 6, 'num_leaves': 55, 'min_child_samples': 21, 'subsample': 0.7829611406452447, 'colsample_bytree': 0.697385603635208}. Best is trial 12 with value: 0.8561192401764423.\n"
     ]
    },
    {
     "name": "stdout",
     "output_type": "stream",
     "text": [
      "[Trial 23] AUCs: ['0.8497', '0.8548', '0.8553', '0.8654', '0.8487'] | Mean AUC: 0.8548 | Std: 0.0059\n"
     ]
    },
    {
     "name": "stderr",
     "output_type": "stream",
     "text": [
      "[I 2025-05-19 15:50:10,230] Trial 24 finished with value: 0.8541313800692635 and parameters: {'n_estimators': 113, 'learning_rate': 0.015906264868509514, 'max_depth': 4, 'num_leaves_power': 6, 'num_leaves': 45, 'min_child_samples': 25, 'subsample': 0.630980760668429, 'colsample_bytree': 0.6521007000970858}. Best is trial 12 with value: 0.8561192401764423.\n"
     ]
    },
    {
     "name": "stdout",
     "output_type": "stream",
     "text": [
      "[Trial 24] AUCs: ['0.8481', '0.8551', '0.8554', '0.8629', '0.8492'] | Mean AUC: 0.8541 | Std: 0.0053\n"
     ]
    },
    {
     "name": "stderr",
     "output_type": "stream",
     "text": [
      "[I 2025-05-19 15:50:14,565] Trial 25 finished with value: 0.8556508831035423 and parameters: {'n_estimators': 74, 'learning_rate': 0.04221673524437579, 'max_depth': 5, 'num_leaves_power': 6, 'num_leaves': 60, 'min_child_samples': 27, 'subsample': 0.7263569570262229, 'colsample_bytree': 0.6074083033876185}. Best is trial 12 with value: 0.8561192401764423.\n"
     ]
    },
    {
     "name": "stdout",
     "output_type": "stream",
     "text": [
      "[Trial 25] AUCs: ['0.8505', '0.8557', '0.8568', '0.8650', '0.8503'] | Mean AUC: 0.8557 | Std: 0.0054\n"
     ]
    },
    {
     "name": "stderr",
     "output_type": "stream",
     "text": [
      "[I 2025-05-19 15:50:19,380] Trial 26 finished with value: 0.8552897626767008 and parameters: {'n_estimators': 127, 'learning_rate': 0.024482636253920415, 'max_depth': 3, 'num_leaves_power': 5, 'num_leaves': 29, 'min_child_samples': 10, 'subsample': 0.6479108025633525, 'colsample_bytree': 0.7137050985026233}. Best is trial 12 with value: 0.8561192401764423.\n"
     ]
    },
    {
     "name": "stdout",
     "output_type": "stream",
     "text": [
      "[Trial 26] AUCs: ['0.8491', '0.8559', '0.8567', '0.8642', '0.8505'] | Mean AUC: 0.8553 | Std: 0.0053\n"
     ]
    },
    {
     "name": "stderr",
     "output_type": "stream",
     "text": [
      "[I 2025-05-19 15:50:27,931] Trial 27 finished with value: 0.8504332263120306 and parameters: {'n_estimators': 157, 'learning_rate': 0.07041372892144399, 'max_depth': 8, 'num_leaves_power': 7, 'num_leaves': 78, 'min_child_samples': 15, 'subsample': 0.6758629946095418, 'colsample_bytree': 0.7496515728040062}. Best is trial 12 with value: 0.8561192401764423.\n"
     ]
    },
    {
     "name": "stdout",
     "output_type": "stream",
     "text": [
      "[Trial 27] AUCs: ['0.8440', '0.8500', '0.8504', '0.8631', '0.8447'] | Mean AUC: 0.8504 | Std: 0.0069\n"
     ]
    },
    {
     "name": "stderr",
     "output_type": "stream",
     "text": [
      "[I 2025-05-19 15:50:36,896] Trial 28 finished with value: 0.8553923072876086 and parameters: {'n_estimators': 179, 'learning_rate': 0.01782944144818202, 'max_depth': 5, 'num_leaves_power': 6, 'num_leaves': 35, 'min_child_samples': 12, 'subsample': 0.8136890241873521, 'colsample_bytree': 0.7929607106090572}. Best is trial 12 with value: 0.8561192401764423.\n"
     ]
    },
    {
     "name": "stdout",
     "output_type": "stream",
     "text": [
      "[Trial 28] AUCs: ['0.8497', '0.8562', '0.8559', '0.8656', '0.8495'] | Mean AUC: 0.8554 | Std: 0.0059\n"
     ]
    },
    {
     "name": "stderr",
     "output_type": "stream",
     "text": [
      "[I 2025-05-19 15:50:42,786] Trial 29 finished with value: 0.8553771043443431 and parameters: {'n_estimators': 125, 'learning_rate': 0.029411794753985376, 'max_depth': 4, 'num_leaves_power': 5, 'num_leaves': 29, 'min_child_samples': 19, 'subsample': 0.7652568558487978, 'colsample_bytree': 0.8483724382548138}. Best is trial 12 with value: 0.8561192401764423.\n"
     ]
    },
    {
     "name": "stdout",
     "output_type": "stream",
     "text": [
      "[Trial 29] AUCs: ['0.8498', '0.8558', '0.8566', '0.8651', '0.8496'] | Mean AUC: 0.8554 | Std: 0.0057\n"
     ]
    },
    {
     "name": "stderr",
     "output_type": "stream",
     "text": [
      "[I 2025-05-19 15:50:47,895] Trial 30 finished with value: 0.8559772195006262 and parameters: {'n_estimators': 79, 'learning_rate': 0.04490993676218826, 'max_depth': 9, 'num_leaves_power': 6, 'num_leaves': 57, 'min_child_samples': 24, 'subsample': 0.8432536432648083, 'colsample_bytree': 0.6024806959258833}. Best is trial 12 with value: 0.8561192401764423.\n"
     ]
    },
    {
     "name": "stdout",
     "output_type": "stream",
     "text": [
      "[Trial 30] AUCs: ['0.8498', '0.8569', '0.8552', '0.8678', '0.8502'] | Mean AUC: 0.8560 | Std: 0.0065\n"
     ]
    },
    {
     "name": "stderr",
     "output_type": "stream",
     "text": [
      "[I 2025-05-19 15:50:53,374] Trial 31 finished with value: 0.8559520344671618 and parameters: {'n_estimators': 81, 'learning_rate': 0.04183069371639848, 'max_depth': 9, 'num_leaves_power': 6, 'num_leaves': 57, 'min_child_samples': 24, 'subsample': 0.8192471692259145, 'colsample_bytree': 0.6519162090230635}. Best is trial 12 with value: 0.8561192401764423.\n"
     ]
    },
    {
     "name": "stdout",
     "output_type": "stream",
     "text": [
      "[Trial 31] AUCs: ['0.8501', '0.8567', '0.8560', '0.8675', '0.8496'] | Mean AUC: 0.8560 | Std: 0.0065\n"
     ]
    },
    {
     "name": "stderr",
     "output_type": "stream",
     "text": [
      "[I 2025-05-19 15:50:57,611] Trial 32 finished with value: 0.8562990545835636 and parameters: {'n_estimators': 52, 'learning_rate': 0.044872986535666896, 'max_depth': 9, 'num_leaves_power': 6, 'num_leaves': 52, 'min_child_samples': 25, 'subsample': 0.8461328078237438, 'colsample_bytree': 0.6077037926514725}. Best is trial 32 with value: 0.8562990545835636.\n"
     ]
    },
    {
     "name": "stdout",
     "output_type": "stream",
     "text": [
      "[Trial 32] AUCs: ['0.8506', '0.8562', '0.8569', '0.8673', '0.8505'] | Mean AUC: 0.8563 | Std: 0.0061\n"
     ]
    },
    {
     "name": "stderr",
     "output_type": "stream",
     "text": [
      "[I 2025-05-19 15:51:01,822] Trial 33 finished with value: 0.8503593066478061 and parameters: {'n_estimators': 51, 'learning_rate': 0.14471969782744468, 'max_depth': 9, 'num_leaves_power': 6, 'num_leaves': 62, 'min_child_samples': 24, 'subsample': 0.8617618180405842, 'colsample_bytree': 0.6092415846327679}. Best is trial 32 with value: 0.8562990545835636.\n"
     ]
    },
    {
     "name": "stdout",
     "output_type": "stream",
     "text": [
      "[Trial 33] AUCs: ['0.8453', '0.8478', '0.8523', '0.8608', '0.8456'] | Mean AUC: 0.8504 | Std: 0.0058\n"
     ]
    },
    {
     "name": "stderr",
     "output_type": "stream",
     "text": [
      "[I 2025-05-19 15:51:07,553] Trial 34 finished with value: 0.8558384548987604 and parameters: {'n_estimators': 86, 'learning_rate': 0.04592290945320268, 'max_depth': 10, 'num_leaves_power': 6, 'num_leaves': 50, 'min_child_samples': 26, 'subsample': 0.9010469756255054, 'colsample_bytree': 0.6480181083522727}. Best is trial 32 with value: 0.8562990545835636.\n"
     ]
    },
    {
     "name": "stdout",
     "output_type": "stream",
     "text": [
      "[Trial 34] AUCs: ['0.8494', '0.8563', '0.8559', '0.8677', '0.8499'] | Mean AUC: 0.8558 | Std: 0.0066\n"
     ]
    },
    {
     "name": "stderr",
     "output_type": "stream",
     "text": [
      "[I 2025-05-19 15:51:12,457] Trial 35 finished with value: 0.852215871391768 and parameters: {'n_estimators': 80, 'learning_rate': 0.09609433104033023, 'max_depth': 9, 'num_leaves_power': 6, 'num_leaves': 53, 'min_child_samples': 21, 'subsample': 0.8439381111428061, 'colsample_bytree': 0.6007666541530033}. Best is trial 32 with value: 0.8562990545835636.\n"
     ]
    },
    {
     "name": "stdout",
     "output_type": "stream",
     "text": [
      "[Trial 35] AUCs: ['0.8463', '0.8516', '0.8520', '0.8647', '0.8465'] | Mean AUC: 0.8522 | Std: 0.0067\n"
     ]
    },
    {
     "name": "stderr",
     "output_type": "stream",
     "text": [
      "[I 2025-05-19 15:51:18,819] Trial 36 finished with value: 0.8527513517595052 and parameters: {'n_estimators': 97, 'learning_rate': 0.067415446102703, 'max_depth': 10, 'num_leaves_power': 7, 'num_leaves': 69, 'min_child_samples': 23, 'subsample': 0.8838927769625781, 'colsample_bytree': 0.6355530643304338}. Best is trial 32 with value: 0.8562990545835636.\n"
     ]
    },
    {
     "name": "stdout",
     "output_type": "stream",
     "text": [
      "[Trial 36] AUCs: ['0.8479', '0.8525', '0.8525', '0.8643', '0.8466'] | Mean AUC: 0.8528 | Std: 0.0062\n"
     ]
    },
    {
     "name": "stderr",
     "output_type": "stream",
     "text": [
      "[I 2025-05-19 15:51:22,110] Trial 37 finished with value: 0.8505967467507556 and parameters: {'n_estimators': 52, 'learning_rate': 0.2792991457917997, 'max_depth': 8, 'num_leaves_power': 5, 'num_leaves': 23, 'min_child_samples': 28, 'subsample': 0.9267036348307741, 'colsample_bytree': 0.6254901617766971}. Best is trial 32 with value: 0.8562990545835636.\n"
     ]
    },
    {
     "name": "stdout",
     "output_type": "stream",
     "text": [
      "[Trial 37] AUCs: ['0.8458', '0.8502', '0.8501', '0.8607', '0.8461'] | Mean AUC: 0.8506 | Std: 0.0054\n"
     ]
    },
    {
     "name": "stderr",
     "output_type": "stream",
     "text": [
      "[I 2025-05-19 15:51:27,768] Trial 38 finished with value: 0.8561530806506223 and parameters: {'n_estimators': 77, 'learning_rate': 0.04284554574472951, 'max_depth': 9, 'num_leaves_power': 6, 'num_leaves': 47, 'min_child_samples': 25, 'subsample': 0.8175994665930113, 'colsample_bytree': 0.6428053776424534}. Best is trial 32 with value: 0.8562990545835636.\n"
     ]
    },
    {
     "name": "stdout",
     "output_type": "stream",
     "text": [
      "[Trial 38] AUCs: ['0.8498', '0.8565', '0.8562', '0.8683', '0.8500'] | Mean AUC: 0.8562 | Std: 0.0067\n"
     ]
    },
    {
     "name": "stderr",
     "output_type": "stream",
     "text": [
      "[I 2025-05-19 15:51:44,082] Trial 39 finished with value: 0.8519141975675861 and parameters: {'n_estimators': 222, 'learning_rate': 0.02394365825896673, 'max_depth': 9, 'num_leaves_power': 7, 'num_leaves': 93, 'min_child_samples': 26, 'subsample': 0.856552042490542, 'colsample_bytree': 0.6036044621017096}. Best is trial 32 with value: 0.8562990545835636.\n"
     ]
    },
    {
     "name": "stdout",
     "output_type": "stream",
     "text": [
      "[Trial 39] AUCs: ['0.8469', '0.8522', '0.8525', '0.8637', '0.8443'] | Mean AUC: 0.8519 | Std: 0.0067\n"
     ]
    },
    {
     "name": "stderr",
     "output_type": "stream",
     "text": [
      "[I 2025-05-19 15:51:50,336] Trial 40 finished with value: 0.8564226247930371 and parameters: {'n_estimators': 102, 'learning_rate': 0.030252104314714225, 'max_depth': 8, 'num_leaves_power': 5, 'num_leaves': 31, 'min_child_samples': 20, 'subsample': 0.8857094994851923, 'colsample_bytree': 0.6345537024264918}. Best is trial 40 with value: 0.8564226247930371.\n"
     ]
    },
    {
     "name": "stdout",
     "output_type": "stream",
     "text": [
      "[Trial 40] AUCs: ['0.8499', '0.8559', '0.8569', '0.8675', '0.8519'] | Mean AUC: 0.8564 | Std: 0.0061\n"
     ]
    },
    {
     "name": "stderr",
     "output_type": "stream",
     "text": [
      "[I 2025-05-19 15:51:55,279] Trial 41 finished with value: 0.8562906645477384 and parameters: {'n_estimators': 66, 'learning_rate': 0.030588007473015554, 'max_depth': 8, 'num_leaves_power': 5, 'num_leaves': 31, 'min_child_samples': 20, 'subsample': 0.9189941333639344, 'colsample_bytree': 0.6385443407116219}. Best is trial 40 with value: 0.8564226247930371.\n"
     ]
    },
    {
     "name": "stdout",
     "output_type": "stream",
     "text": [
      "[Trial 41] AUCs: ['0.8502', '0.8555', '0.8574', '0.8666', '0.8517'] | Mean AUC: 0.8563 | Std: 0.0058\n"
     ]
    },
    {
     "name": "stderr",
     "output_type": "stream",
     "text": [
      "[I 2025-05-19 15:51:59,392] Trial 42 finished with value: 0.8555538378690004 and parameters: {'n_estimators': 59, 'learning_rate': 0.02926660235100118, 'max_depth': 8, 'num_leaves_power': 5, 'num_leaves': 27, 'min_child_samples': 17, 'subsample': 0.9440166845281517, 'colsample_bytree': 0.6357810090492513}. Best is trial 40 with value: 0.8564226247930371.\n"
     ]
    },
    {
     "name": "stdout",
     "output_type": "stream",
     "text": [
      "[Trial 42] AUCs: ['0.8490', '0.8548', '0.8574', '0.8656', '0.8511'] | Mean AUC: 0.8556 | Std: 0.0058\n"
     ]
    },
    {
     "name": "stderr",
     "output_type": "stream",
     "text": [
      "[I 2025-05-19 15:52:04,262] Trial 43 finished with value: 0.8545859616326037 and parameters: {'n_estimators': 68, 'learning_rate': 0.022228550948608088, 'max_depth': 7, 'num_leaves_power': 5, 'num_leaves': 24, 'min_child_samples': 19, 'subsample': 0.8790896479770027, 'colsample_bytree': 0.6719897535550531}. Best is trial 40 with value: 0.8564226247930371.\n"
     ]
    },
    {
     "name": "stdout",
     "output_type": "stream",
     "text": [
      "[Trial 43] AUCs: ['0.8481', '0.8540', '0.8560', '0.8648', '0.8501'] | Mean AUC: 0.8546 | Std: 0.0058\n"
     ]
    },
    {
     "name": "stderr",
     "output_type": "stream",
     "text": [
      "[I 2025-05-19 15:52:10,922] Trial 44 finished with value: 0.8558036010901366 and parameters: {'n_estimators': 102, 'learning_rate': 0.017337061834122067, 'max_depth': 8, 'num_leaves_power': 5, 'num_leaves': 31, 'min_child_samples': 22, 'subsample': 0.9229993721538733, 'colsample_bytree': 0.625850772076831}. Best is trial 40 with value: 0.8564226247930371.\n"
     ]
    },
    {
     "name": "stdout",
     "output_type": "stream",
     "text": [
      "[Trial 44] AUCs: ['0.8494', '0.8550', '0.8570', '0.8662', '0.8514'] | Mean AUC: 0.8558 | Std: 0.0058\n"
     ]
    },
    {
     "name": "stderr",
     "output_type": "stream",
     "text": [
      "[I 2025-05-19 15:52:15,420] Trial 45 finished with value: 0.8546814985326006 and parameters: {'n_estimators': 63, 'learning_rate': 0.031776107896963834, 'max_depth': 10, 'num_leaves_power': 5, 'num_leaves': 20, 'min_child_samples': 17, 'subsample': 0.9567729793873014, 'colsample_bytree': 0.6881133690429626}. Best is trial 40 with value: 0.8564226247930371.\n"
     ]
    },
    {
     "name": "stdout",
     "output_type": "stream",
     "text": [
      "[Trial 45] AUCs: ['0.8465', '0.8552', '0.8560', '0.8651', '0.8507'] | Mean AUC: 0.8547 | Std: 0.0062\n"
     ]
    },
    {
     "name": "stderr",
     "output_type": "stream",
     "text": [
      "[I 2025-05-19 15:52:23,522] Trial 46 finished with value: 0.85558514310232 and parameters: {'n_estimators': 136, 'learning_rate': 0.013375815313606635, 'max_depth': 8, 'num_leaves_power': 5, 'num_leaves': 31, 'min_child_samples': 20, 'subsample': 0.9969146681377129, 'colsample_bytree': 0.6445137828303368}. Best is trial 40 with value: 0.8564226247930371.\n"
     ]
    },
    {
     "name": "stdout",
     "output_type": "stream",
     "text": [
      "[Trial 46] AUCs: ['0.8487', '0.8550', '0.8567', '0.8662', '0.8514'] | Mean AUC: 0.8556 | Std: 0.0060\n"
     ]
    },
    {
     "name": "stderr",
     "output_type": "stream",
     "text": [
      "[I 2025-05-19 15:52:31,254] Trial 47 finished with value: 0.8558184349573856 and parameters: {'n_estimators': 123, 'learning_rate': 0.024236704359695764, 'max_depth': 7, 'num_leaves_power': 5, 'num_leaves': 31, 'min_child_samples': 18, 'subsample': 0.9015659836192315, 'colsample_bytree': 0.6661695103311458}. Best is trial 40 with value: 0.8564226247930371.\n"
     ]
    },
    {
     "name": "stdout",
     "output_type": "stream",
     "text": [
      "[Trial 47] AUCs: ['0.8493', '0.8560', '0.8561', '0.8667', '0.8510'] | Mean AUC: 0.8558 | Std: 0.0061\n"
     ]
    },
    {
     "name": "stderr",
     "output_type": "stream",
     "text": [
      "[I 2025-05-19 15:52:38,268] Trial 48 finished with value: 0.8562936982288492 and parameters: {'n_estimators': 104, 'learning_rate': 0.02669833747467913, 'max_depth': 9, 'num_leaves_power': 5, 'num_leaves': 30, 'min_child_samples': 28, 'subsample': 0.8150661761202037, 'colsample_bytree': 0.6232832282842541}. Best is trial 40 with value: 0.8564226247930371.\n"
     ]
    },
    {
     "name": "stdout",
     "output_type": "stream",
     "text": [
      "[Trial 48] AUCs: ['0.8492', '0.8559', '0.8569', '0.8677', '0.8518'] | Mean AUC: 0.8563 | Std: 0.0064\n"
     ]
    },
    {
     "name": "stderr",
     "output_type": "stream",
     "text": [
      "[I 2025-05-19 15:52:52,376] Trial 49 finished with value: 0.8538491101036861 and parameters: {'n_estimators': 287, 'learning_rate': 0.02715136699527808, 'max_depth': 9, 'num_leaves_power': 5, 'num_leaves': 30, 'min_child_samples': 28, 'subsample': 0.885500987671896, 'colsample_bytree': 0.6210559304380437}. Best is trial 40 with value: 0.8564226247930371.\n"
     ]
    },
    {
     "name": "stdout",
     "output_type": "stream",
     "text": [
      "[Trial 49] AUCs: ['0.8484', '0.8530', '0.8542', '0.8659', '0.8477'] | Mean AUC: 0.8538 | Std: 0.0065\n"
     ]
    },
    {
     "name": "stderr",
     "output_type": "stream",
     "text": [
      "[I 2025-05-19 15:52:58,839] Trial 50 finished with value: 0.8554515326492389 and parameters: {'n_estimators': 103, 'learning_rate': 0.05058277002566792, 'max_depth': 8, 'num_leaves_power': 5, 'num_leaves': 27, 'min_child_samples': 21, 'subsample': 0.8033537251852414, 'colsample_bytree': 0.6195701278731731}. Best is trial 40 with value: 0.8564226247930371.\n"
     ]
    },
    {
     "name": "stdout",
     "output_type": "stream",
     "text": [
      "[Trial 50] AUCs: ['0.8486', '0.8550', '0.8561', '0.8670', '0.8506'] | Mean AUC: 0.8555 | Std: 0.0064\n"
     ]
    },
    {
     "name": "stderr",
     "output_type": "stream",
     "text": [
      "[I 2025-05-19 15:53:03,703] Trial 51 finished with value: 0.8564938781856414 and parameters: {'n_estimators': 74, 'learning_rate': 0.0331153175697896, 'max_depth': 10, 'num_leaves_power': 5, 'num_leaves': 30, 'min_child_samples': 27, 'subsample': 0.8272338303760891, 'colsample_bytree': 0.6425588640488006}. Best is trial 51 with value: 0.8564938781856414.\n"
     ]
    },
    {
     "name": "stdout",
     "output_type": "stream",
     "text": [
      "[Trial 51] AUCs: ['0.8498', '0.8564', '0.8571', '0.8675', '0.8517'] | Mean AUC: 0.8565 | Std: 0.0061\n"
     ]
    },
    {
     "name": "stderr",
     "output_type": "stream",
     "text": [
      "[I 2025-05-19 15:53:09,065] Trial 52 finished with value: 0.8558577468919184 and parameters: {'n_estimators': 72, 'learning_rate': 0.03931651579882477, 'max_depth': 9, 'num_leaves_power': 5, 'num_leaves': 30, 'min_child_samples': 26, 'subsample': 0.8293959149844508, 'colsample_bytree': 0.9878074414489211}. Best is trial 51 with value: 0.8564938781856414.\n"
     ]
    },
    {
     "name": "stdout",
     "output_type": "stream",
     "text": [
      "[Trial 52] AUCs: ['0.8489', '0.8563', '0.8563', '0.8670', '0.8507'] | Mean AUC: 0.8559 | Std: 0.0063\n"
     ]
    },
    {
     "name": "stderr",
     "output_type": "stream",
     "text": [
      "[I 2025-05-19 15:53:13,619] Trial 53 finished with value: 0.855954279696401 and parameters: {'n_estimators': 62, 'learning_rate': 0.03328423481248133, 'max_depth': 10, 'num_leaves_power': 5, 'num_leaves': 30, 'min_child_samples': 28, 'subsample': 0.7765264929523145, 'colsample_bytree': 0.6422047040249437}. Best is trial 51 with value: 0.8564938781856414.\n"
     ]
    },
    {
     "name": "stdout",
     "output_type": "stream",
     "text": [
      "[Trial 53] AUCs: ['0.8491', '0.8559', '0.8568', '0.8668', '0.8512'] | Mean AUC: 0.8560 | Std: 0.0061\n"
     ]
    },
    {
     "name": "stderr",
     "output_type": "stream",
     "text": [
      "[I 2025-05-19 15:53:18,660] Trial 54 finished with value: 0.8547879037597955 and parameters: {'n_estimators': 88, 'learning_rate': 0.059329827253062524, 'max_depth': 9, 'num_leaves_power': 5, 'num_leaves': 29, 'min_child_samples': 29, 'subsample': 0.7993548693988767, 'colsample_bytree': 0.6597858842913104}. Best is trial 51 with value: 0.8564938781856414.\n"
     ]
    },
    {
     "name": "stdout",
     "output_type": "stream",
     "text": [
      "[Trial 54] AUCs: ['0.8476', '0.8541', '0.8556', '0.8669', '0.8498'] | Mean AUC: 0.8548 | Std: 0.0067\n"
     ]
    },
    {
     "name": "stderr",
     "output_type": "stream",
     "text": [
      "[I 2025-05-19 15:53:25,095] Trial 55 finished with value: 0.8557948395573911 and parameters: {'n_estimators': 106, 'learning_rate': 0.03321231023918687, 'max_depth': 8, 'num_leaves_power': 5, 'num_leaves': 28, 'min_child_samples': 27, 'subsample': 0.8530082981815582, 'colsample_bytree': 0.9190199710887784}. Best is trial 51 with value: 0.8564938781856414.\n"
     ]
    },
    {
     "name": "stdout",
     "output_type": "stream",
     "text": [
      "[Trial 55] AUCs: ['0.8491', '0.8566', '0.8561', '0.8669', '0.8502'] | Mean AUC: 0.8558 | Std: 0.0063\n"
     ]
    },
    {
     "name": "stderr",
     "output_type": "stream",
     "text": [
      "[I 2025-05-19 15:53:31,081] Trial 56 finished with value: 0.8563263840953494 and parameters: {'n_estimators': 95, 'learning_rate': 0.026567375730954836, 'max_depth': 10, 'num_leaves_power': 5, 'num_leaves': 31, 'min_child_samples': 25, 'subsample': 0.8753904601226443, 'colsample_bytree': 0.6815939132844199}. Best is trial 51 with value: 0.8564938781856414.\n"
     ]
    },
    {
     "name": "stdout",
     "output_type": "stream",
     "text": [
      "[Trial 56] AUCs: ['0.8493', '0.8562', '0.8568', '0.8675', '0.8519'] | Mean AUC: 0.8563 | Std: 0.0062\n"
     ]
    },
    {
     "name": "stderr",
     "output_type": "stream",
     "text": [
      "[I 2025-05-19 15:53:36,604] Trial 57 finished with value: 0.8561561101560138 and parameters: {'n_estimators': 95, 'learning_rate': 0.026236028208516053, 'max_depth': 10, 'num_leaves_power': 5, 'num_leaves': 30, 'min_child_samples': 22, 'subsample': 0.8769361395678129, 'colsample_bytree': 0.6823677117622737}. Best is trial 51 with value: 0.8564938781856414.\n"
     ]
    },
    {
     "name": "stdout",
     "output_type": "stream",
     "text": [
      "[Trial 57] AUCs: ['0.8490', '0.8562', '0.8566', '0.8673', '0.8518'] | Mean AUC: 0.8562 | Std: 0.0062\n"
     ]
    },
    {
     "name": "stderr",
     "output_type": "stream",
     "text": [
      "[I 2025-05-19 15:53:40,865] Trial 58 finished with value: 0.8543415330304214 and parameters: {'n_estimators': 60, 'learning_rate': 0.020314276335996265, 'max_depth': 10, 'num_leaves_power': 5, 'num_leaves': 31, 'min_child_samples': 20, 'subsample': 0.9233140033308317, 'colsample_bytree': 0.6187438093905373}. Best is trial 51 with value: 0.8564938781856414.\n"
     ]
    },
    {
     "name": "stdout",
     "output_type": "stream",
     "text": [
      "[Trial 58] AUCs: ['0.8461', '0.8538', '0.8557', '0.8656', '0.8505'] | Mean AUC: 0.8543 | Std: 0.0065\n"
     ]
    },
    {
     "name": "stderr",
     "output_type": "stream",
     "text": [
      "[I 2025-05-19 15:53:48,003] Trial 59 finished with value: 0.8550976538930943 and parameters: {'n_estimators': 148, 'learning_rate': 0.01520673178841826, 'max_depth': 7, 'num_leaves_power': 5, 'num_leaves': 22, 'min_child_samples': 23, 'subsample': 0.8344651494286155, 'colsample_bytree': 0.7161829200550411}. Best is trial 51 with value: 0.8564938781856414.\n"
     ]
    },
    {
     "name": "stdout",
     "output_type": "stream",
     "text": [
      "[Trial 59] AUCs: ['0.8487', '0.8544', '0.8562', '0.8655', '0.8508'] | Mean AUC: 0.8551 | Std: 0.0058\n"
     ]
    },
    {
     "name": "stderr",
     "output_type": "stream",
     "text": [
      "[I 2025-05-19 15:53:53,300] Trial 60 finished with value: 0.8563136704514116 and parameters: {'n_estimators': 87, 'learning_rate': 0.036623577333016084, 'max_depth': 10, 'num_leaves_power': 5, 'num_leaves': 28, 'min_child_samples': 29, 'subsample': 0.8694111079354515, 'colsample_bytree': 0.744986368659821}. Best is trial 51 with value: 0.8564938781856414.\n"
     ]
    },
    {
     "name": "stdout",
     "output_type": "stream",
     "text": [
      "[Trial 60] AUCs: ['0.8500', '0.8575', '0.8558', '0.8678', '0.8505'] | Mean AUC: 0.8563 | Std: 0.0064\n"
     ]
    },
    {
     "name": "stderr",
     "output_type": "stream",
     "text": [
      "[I 2025-05-19 15:53:58,539] Trial 61 finished with value: 0.8560962465795956 and parameters: {'n_estimators': 86, 'learning_rate': 0.0375041263128103, 'max_depth': 10, 'num_leaves_power': 5, 'num_leaves': 28, 'min_child_samples': 29, 'subsample': 0.8724860207869927, 'colsample_bytree': 0.7367163448294425}. Best is trial 51 with value: 0.8564938781856414.\n"
     ]
    },
    {
     "name": "stdout",
     "output_type": "stream",
     "text": [
      "[Trial 61] AUCs: ['0.8496', '0.8574', '0.8559', '0.8676', '0.8500'] | Mean AUC: 0.8561 | Std: 0.0065\n"
     ]
    },
    {
     "name": "stderr",
     "output_type": "stream",
     "text": [
      "[I 2025-05-19 15:54:05,385] Trial 62 finished with value: 0.8563549912132056 and parameters: {'n_estimators': 116, 'learning_rate': 0.031097031532947777, 'max_depth': 10, 'num_leaves_power': 5, 'num_leaves': 28, 'min_child_samples': 30, 'subsample': 0.8949639724762687, 'colsample_bytree': 0.7080978469741763}. Best is trial 51 with value: 0.8564938781856414.\n"
     ]
    },
    {
     "name": "stdout",
     "output_type": "stream",
     "text": [
      "[Trial 62] AUCs: ['0.8496', '0.8569', '0.8560', '0.8682', '0.8511'] | Mean AUC: 0.8564 | Std: 0.0065\n"
     ]
    },
    {
     "name": "stderr",
     "output_type": "stream",
     "text": [
      "[I 2025-05-19 15:54:12,808] Trial 63 finished with value: 0.8563289767170869 and parameters: {'n_estimators': 119, 'learning_rate': 0.026758230863437156, 'max_depth': 10, 'num_leaves_power': 5, 'num_leaves': 26, 'min_child_samples': 30, 'subsample': 0.8640056986453123, 'colsample_bytree': 0.7469191540373775}. Best is trial 51 with value: 0.8564938781856414.\n"
     ]
    },
    {
     "name": "stdout",
     "output_type": "stream",
     "text": [
      "[Trial 63] AUCs: ['0.8502', '0.8568', '0.8561', '0.8680', '0.8506'] | Mean AUC: 0.8563 | Std: 0.0065\n"
     ]
    },
    {
     "name": "stderr",
     "output_type": "stream",
     "text": [
      "[I 2025-05-19 15:54:19,997] Trial 64 finished with value: 0.8546101075194047 and parameters: {'n_estimators': 132, 'learning_rate': 0.04826705750728161, 'max_depth': 10, 'num_leaves_power': 5, 'num_leaves': 26, 'min_child_samples': 30, 'subsample': 0.894201335496576, 'colsample_bytree': 0.7617707671820388}. Best is trial 51 with value: 0.8564938781856414.\n"
     ]
    },
    {
     "name": "stdout",
     "output_type": "stream",
     "text": [
      "[Trial 64] AUCs: ['0.8480', '0.8548', '0.8549', '0.8666', '0.8488'] | Mean AUC: 0.8546 | Std: 0.0067\n"
     ]
    },
    {
     "name": "stderr",
     "output_type": "stream",
     "text": [
      "[I 2025-05-19 15:54:26,004] Trial 65 finished with value: 0.8559181101519512 and parameters: {'n_estimators': 113, 'learning_rate': 0.035688150066911346, 'max_depth': 10, 'num_leaves_power': 5, 'num_leaves': 25, 'min_child_samples': 30, 'subsample': 0.8664141001254425, 'colsample_bytree': 0.7016520782713943}. Best is trial 51 with value: 0.8564938781856414.\n"
     ]
    },
    {
     "name": "stdout",
     "output_type": "stream",
     "text": [
      "[Trial 65] AUCs: ['0.8489', '0.8572', '0.8558', '0.8673', '0.8505'] | Mean AUC: 0.8559 | Std: 0.0065\n"
     ]
    },
    {
     "name": "stderr",
     "output_type": "stream",
     "text": [
      "[I 2025-05-19 15:54:32,311] Trial 66 finished with value: 0.8554633933748178 and parameters: {'n_estimators': 117, 'learning_rate': 0.019396479714707954, 'max_depth': 10, 'num_leaves_power': 5, 'num_leaves': 27, 'min_child_samples': 29, 'subsample': 0.8445130386511355, 'colsample_bytree': 0.7445797986365424}. Best is trial 51 with value: 0.8564938781856414.\n"
     ]
    },
    {
     "name": "stdout",
     "output_type": "stream",
     "text": [
      "[Trial 66] AUCs: ['0.8481', '0.8555', '0.8557', '0.8667', '0.8513'] | Mean AUC: 0.8555 | Std: 0.0063\n"
     ]
    },
    {
     "name": "stderr",
     "output_type": "stream",
     "text": [
      "[I 2025-05-19 15:54:40,290] Trial 67 finished with value: 0.85555746777784 and parameters: {'n_estimators': 170, 'learning_rate': 0.022513515853048192, 'max_depth': 10, 'num_leaves_power': 5, 'num_leaves': 25, 'min_child_samples': 27, 'subsample': 0.9115512425715936, 'colsample_bytree': 0.7842194593695259}. Best is trial 51 with value: 0.8564938781856414.\n"
     ]
    },
    {
     "name": "stdout",
     "output_type": "stream",
     "text": [
      "[Trial 67] AUCs: ['0.8489', '0.8562', '0.8557', '0.8670', '0.8499'] | Mean AUC: 0.8556 | Std: 0.0065\n"
     ]
    },
    {
     "name": "stderr",
     "output_type": "stream",
     "text": [
      "[I 2025-05-19 15:54:45,845] Trial 68 finished with value: 0.8553260463617448 and parameters: {'n_estimators': 98, 'learning_rate': 0.03974762139948012, 'max_depth': 10, 'num_leaves_power': 5, 'num_leaves': 26, 'min_child_samples': 30, 'subsample': 0.8644607933669116, 'colsample_bytree': 0.8160734973508832}. Best is trial 51 with value: 0.8564938781856414.\n"
     ]
    },
    {
     "name": "stdout",
     "output_type": "stream",
     "text": [
      "[Trial 68] AUCs: ['0.8482', '0.8565', '0.8555', '0.8669', '0.8496'] | Mean AUC: 0.8553 | Std: 0.0066\n"
     ]
    },
    {
     "name": "stderr",
     "output_type": "stream",
     "text": [
      "[I 2025-05-19 15:54:55,053] Trial 69 finished with value: 0.8542297848712319 and parameters: {'n_estimators': 188, 'learning_rate': 0.057131242816876135, 'max_depth': 10, 'num_leaves_power': 5, 'num_leaves': 28, 'min_child_samples': 29, 'subsample': 0.9384290538406972, 'colsample_bytree': 0.7215995751330938}. Best is trial 51 with value: 0.8564938781856414.\n"
     ]
    },
    {
     "name": "stdout",
     "output_type": "stream",
     "text": [
      "[Trial 69] AUCs: ['0.8487', '0.8540', '0.8533', '0.8660', '0.8491'] | Mean AUC: 0.8542 | Std: 0.0062\n"
     ]
    },
    {
     "name": "stderr",
     "output_type": "stream",
     "text": [
      "[I 2025-05-19 15:55:03,229] Trial 70 finished with value: 0.8557957763088136 and parameters: {'n_estimators': 156, 'learning_rate': 0.026095121612046378, 'max_depth': 9, 'num_leaves_power': 5, 'num_leaves': 29, 'min_child_samples': 25, 'subsample': 0.8305767756727577, 'colsample_bytree': 0.7036893941509992}. Best is trial 51 with value: 0.8564938781856414.\n"
     ]
    },
    {
     "name": "stdout",
     "output_type": "stream",
     "text": [
      "[Trial 70] AUCs: ['0.8492', '0.8560', '0.8561', '0.8676', '0.8500'] | Mean AUC: 0.8558 | Std: 0.0066\n"
     ]
    },
    {
     "name": "stderr",
     "output_type": "stream",
     "text": [
      "[I 2025-05-19 15:55:09,054] Trial 71 finished with value: 0.8565185191458132 and parameters: {'n_estimators': 107, 'learning_rate': 0.029058034033109706, 'max_depth': 9, 'num_leaves_power': 5, 'num_leaves': 27, 'min_child_samples': 28, 'subsample': 0.8481190674522832, 'colsample_bytree': 0.67936558205332}. Best is trial 71 with value: 0.8565185191458132.\n"
     ]
    },
    {
     "name": "stdout",
     "output_type": "stream",
     "text": [
      "[Trial 71] AUCs: ['0.8496', '0.8566', '0.8566', '0.8678', '0.8520'] | Mean AUC: 0.8565 | Std: 0.0063\n"
     ]
    },
    {
     "name": "stderr",
     "output_type": "stream",
     "text": [
      "[I 2025-05-19 15:55:15,166] Trial 72 finished with value: 0.8562080000740202 and parameters: {'n_estimators': 108, 'learning_rate': 0.03255706514760497, 'max_depth': 10, 'num_leaves_power': 5, 'num_leaves': 28, 'min_child_samples': 28, 'subsample': 0.8900671898739485, 'colsample_bytree': 0.6777822756876806}. Best is trial 71 with value: 0.8565185191458132.\n"
     ]
    },
    {
     "name": "stdout",
     "output_type": "stream",
     "text": [
      "[Trial 72] AUCs: ['0.8494', '0.8570', '0.8561', '0.8676', '0.8510'] | Mean AUC: 0.8562 | Std: 0.0064\n"
     ]
    },
    {
     "name": "stderr",
     "output_type": "stream",
     "text": [
      "[I 2025-05-19 15:55:20,516] Trial 73 finished with value: 0.8558747437860831 and parameters: {'n_estimators': 84, 'learning_rate': 0.02780273839929081, 'max_depth': 9, 'num_leaves_power': 5, 'num_leaves': 27, 'min_child_samples': 26, 'subsample': 0.8571324239352055, 'colsample_bytree': 0.7529523444029987}. Best is trial 71 with value: 0.8565185191458132.\n"
     ]
    },
    {
     "name": "stdout",
     "output_type": "stream",
     "text": [
      "[Trial 73] AUCs: ['0.8492', '0.8558', '0.8564', '0.8670', '0.8509'] | Mean AUC: 0.8559 | Std: 0.0062\n"
     ]
    },
    {
     "name": "stderr",
     "output_type": "stream",
     "text": [
      "[I 2025-05-19 15:55:25,964] Trial 74 finished with value: 0.8564072742254512 and parameters: {'n_estimators': 93, 'learning_rate': 0.03592407449897323, 'max_depth': 10, 'num_leaves_power': 5, 'num_leaves': 26, 'min_child_samples': 27, 'subsample': 0.8476850464659266, 'colsample_bytree': 0.7076814184954251}. Best is trial 71 with value: 0.8565185191458132.\n"
     ]
    },
    {
     "name": "stdout",
     "output_type": "stream",
     "text": [
      "[Trial 74] AUCs: ['0.8497', '0.8564', '0.8564', '0.8679', '0.8517'] | Mean AUC: 0.8564 | Std: 0.0063\n"
     ]
    },
    {
     "name": "stderr",
     "output_type": "stream",
     "text": [
      "[I 2025-05-19 15:55:32,870] Trial 75 finished with value: 0.8558437339930027 and parameters: {'n_estimators': 120, 'learning_rate': 0.02225833161220085, 'max_depth': 10, 'num_leaves_power': 5, 'num_leaves': 26, 'min_child_samples': 27, 'subsample': 0.8747146274134979, 'colsample_bytree': 0.7262678141588135}. Best is trial 71 with value: 0.8565185191458132.\n"
     ]
    },
    {
     "name": "stdout",
     "output_type": "stream",
     "text": [
      "[Trial 75] AUCs: ['0.8485', '0.8558', '0.8561', '0.8673', '0.8515'] | Mean AUC: 0.8558 | Std: 0.0064\n"
     ]
    },
    {
     "name": "stderr",
     "output_type": "stream",
     "text": [
      "[I 2025-05-19 15:55:38,544] Trial 76 finished with value: 0.8561513857092777 and parameters: {'n_estimators': 93, 'learning_rate': 0.03579379930593014, 'max_depth': 10, 'num_leaves_power': 5, 'num_leaves': 27, 'min_child_samples': 29, 'subsample': 0.9091433321934225, 'colsample_bytree': 0.7348462703235927}. Best is trial 71 with value: 0.8565185191458132.\n"
     ]
    },
    {
     "name": "stdout",
     "output_type": "stream",
     "text": [
      "[Trial 76] AUCs: ['0.8494', '0.8568', '0.8563', '0.8678', '0.8505'] | Mean AUC: 0.8562 | Std: 0.0066\n"
     ]
    },
    {
     "name": "stderr",
     "output_type": "stream",
     "text": [
      "[I 2025-05-19 15:55:46,330] Trial 77 finished with value: 0.8555841850367315 and parameters: {'n_estimators': 144, 'learning_rate': 0.030237865762528886, 'max_depth': 10, 'num_leaves_power': 5, 'num_leaves': 25, 'min_child_samples': 30, 'subsample': 0.8960945696164697, 'colsample_bytree': 0.7077403196566154}. Best is trial 71 with value: 0.8565185191458132.\n"
     ]
    },
    {
     "name": "stdout",
     "output_type": "stream",
     "text": [
      "[Trial 77] AUCs: ['0.8492', '0.8558', '0.8559', '0.8672', '0.8497'] | Mean AUC: 0.8556 | Std: 0.0065\n"
     ]
    },
    {
     "name": "stderr",
     "output_type": "stream",
     "text": [
      "[I 2025-05-19 15:55:52,569] Trial 78 finished with value: 0.8548994305733404 and parameters: {'n_estimators': 76, 'learning_rate': 0.023823112439185324, 'max_depth': 10, 'num_leaves_power': 5, 'num_leaves': 26, 'min_child_samples': 27, 'subsample': 0.8344166579271659, 'colsample_bytree': 0.6879908651520615}. Best is trial 71 with value: 0.8565185191458132.\n"
     ]
    },
    {
     "name": "stdout",
     "output_type": "stream",
     "text": [
      "[Trial 78] AUCs: ['0.8471', '0.8547', '0.8561', '0.8656', '0.8510'] | Mean AUC: 0.8549 | Std: 0.0062\n"
     ]
    },
    {
     "name": "stderr",
     "output_type": "stream",
     "text": [
      "[I 2025-05-19 15:55:59,879] Trial 79 finished with value: 0.8559404234693716 and parameters: {'n_estimators': 129, 'learning_rate': 0.030618371839151344, 'max_depth': 9, 'num_leaves_power': 5, 'num_leaves': 28, 'min_child_samples': 29, 'subsample': 0.8504308359453797, 'colsample_bytree': 0.6625277964774943}. Best is trial 71 with value: 0.8565185191458132.\n"
     ]
    },
    {
     "name": "stdout",
     "output_type": "stream",
     "text": [
      "[Trial 79] AUCs: ['0.8489', '0.8560', '0.8565', '0.8679', '0.8503'] | Mean AUC: 0.8559 | Std: 0.0067\n"
     ]
    },
    {
     "name": "stderr",
     "output_type": "stream",
     "text": [
      "[I 2025-05-19 15:56:05,681] Trial 80 finished with value: 0.8560696654038076 and parameters: {'n_estimators': 109, 'learning_rate': 0.038304402676536856, 'max_depth': 10, 'num_leaves_power': 5, 'num_leaves': 24, 'min_child_samples': 28, 'subsample': 0.8668557419254079, 'colsample_bytree': 0.6919496701366087}. Best is trial 71 with value: 0.8565185191458132.\n"
     ]
    },
    {
     "name": "stdout",
     "output_type": "stream",
     "text": [
      "[Trial 80] AUCs: ['0.8491', '0.8571', '0.8565', '0.8674', '0.8502'] | Mean AUC: 0.8561 | Std: 0.0065\n"
     ]
    },
    {
     "name": "stderr",
     "output_type": "stream",
     "text": [
      "[I 2025-05-19 15:56:11,500] Trial 81 finished with value: 0.8556705343549703 and parameters: {'n_estimators': 98, 'learning_rate': 0.04492160811495733, 'max_depth': 9, 'num_leaves_power': 5, 'num_leaves': 27, 'min_child_samples': 25, 'subsample': 0.8012817698903358, 'colsample_bytree': 0.7783332221506909}. Best is trial 71 with value: 0.8565185191458132.\n"
     ]
    },
    {
     "name": "stdout",
     "output_type": "stream",
     "text": [
      "[Trial 81] AUCs: ['0.8486', '0.8560', '0.8560', '0.8674', '0.8503'] | Mean AUC: 0.8557 | Std: 0.0066\n"
     ]
    },
    {
     "name": "stderr",
     "output_type": "stream",
     "text": [
      "[I 2025-05-19 15:56:16,690] Trial 82 finished with value: 0.8561947062613455 and parameters: {'n_estimators': 92, 'learning_rate': 0.03534631944408147, 'max_depth': 10, 'num_leaves_power': 5, 'num_leaves': 24, 'min_child_samples': 26, 'subsample': 0.8396599454596363, 'colsample_bytree': 0.6727343212935503}. Best is trial 71 with value: 0.8565185191458132.\n"
     ]
    },
    {
     "name": "stdout",
     "output_type": "stream",
     "text": [
      "[Trial 82] AUCs: ['0.8492', '0.8566', '0.8566', '0.8674', '0.8512'] | Mean AUC: 0.8562 | Std: 0.0063\n"
     ]
    },
    {
     "name": "stderr",
     "output_type": "stream",
     "text": [
      "[I 2025-05-19 15:56:21,358] Trial 83 finished with value: 0.8559500536011037 and parameters: {'n_estimators': 81, 'learning_rate': 0.041992988301752424, 'max_depth': 6, 'num_leaves_power': 5, 'num_leaves': 29, 'min_child_samples': 28, 'subsample': 0.8846346501659966, 'colsample_bytree': 0.6533358948784014}. Best is trial 71 with value: 0.8565185191458132.\n"
     ]
    },
    {
     "name": "stdout",
     "output_type": "stream",
     "text": [
      "[Trial 83] AUCs: ['0.8503', '0.8555', '0.8569', '0.8666', '0.8504'] | Mean AUC: 0.8560 | Std: 0.0060\n"
     ]
    },
    {
     "name": "stderr",
     "output_type": "stream",
     "text": [
      "[I 2025-05-19 15:56:25,479] Trial 84 finished with value: 0.856112704341666 and parameters: {'n_estimators': 57, 'learning_rate': 0.05179408865209715, 'max_depth': 9, 'num_leaves_power': 5, 'num_leaves': 26, 'min_child_samples': 30, 'subsample': 0.8520423754644014, 'colsample_bytree': 0.7434755935278118}. Best is trial 71 with value: 0.8565185191458132.\n"
     ]
    },
    {
     "name": "stdout",
     "output_type": "stream",
     "text": [
      "[Trial 84] AUCs: ['0.8488', '0.8565', '0.8567', '0.8675', '0.8511'] | Mean AUC: 0.8561 | Std: 0.0065\n"
     ]
    },
    {
     "name": "stderr",
     "output_type": "stream",
     "text": [
      "[I 2025-05-19 15:56:36,286] Trial 85 finished with value: 0.8542792628791599 and parameters: {'n_estimators': 215, 'learning_rate': 0.02853626557185411, 'max_depth': 10, 'num_leaves_power': 7, 'num_leaves': 37, 'min_child_samples': 27, 'subsample': 0.8219773767509865, 'colsample_bytree': 0.7563564752784661}. Best is trial 71 with value: 0.8565185191458132.\n"
     ]
    },
    {
     "name": "stdout",
     "output_type": "stream",
     "text": [
      "[Trial 85] AUCs: ['0.8482', '0.8545', '0.8538', '0.8668', '0.8482'] | Mean AUC: 0.8543 | Std: 0.0068\n"
     ]
    },
    {
     "name": "stderr",
     "output_type": "stream",
     "text": [
      "[I 2025-05-19 15:56:40,881] Trial 86 finished with value: 0.8551020106360856 and parameters: {'n_estimators': 68, 'learning_rate': 0.025546236798176917, 'max_depth': 9, 'num_leaves_power': 5, 'num_leaves': 27, 'min_child_samples': 29, 'subsample': 0.8698389125422389, 'colsample_bytree': 0.7079851466598676}. Best is trial 71 with value: 0.8565185191458132.\n"
     ]
    },
    {
     "name": "stdout",
     "output_type": "stream",
     "text": [
      "[Trial 86] AUCs: ['0.8481', '0.8546', '0.8564', '0.8658', '0.8507'] | Mean AUC: 0.8551 | Std: 0.0061\n"
     ]
    },
    {
     "name": "stderr",
     "output_type": "stream",
     "text": [
      "[I 2025-05-19 15:56:44,890] Trial 87 finished with value: 0.8542551594345777 and parameters: {'n_estimators': 50, 'learning_rate': 0.033018107269215814, 'max_depth': 10, 'num_leaves_power': 5, 'num_leaves': 25, 'min_child_samples': 24, 'subsample': 0.8246093394566439, 'colsample_bytree': 0.6822211281327624}. Best is trial 71 with value: 0.8565185191458132.\n"
     ]
    },
    {
     "name": "stdout",
     "output_type": "stream",
     "text": [
      "[Trial 87] AUCs: ['0.8464', '0.8539', '0.8551', '0.8646', '0.8513'] | Mean AUC: 0.8543 | Std: 0.0060\n"
     ]
    },
    {
     "name": "stderr",
     "output_type": "stream",
     "text": [
      "[I 2025-05-19 15:56:52,415] Trial 88 finished with value: 0.8554651574845785 and parameters: {'n_estimators': 117, 'learning_rate': 0.047488545981058936, 'max_depth': 9, 'num_leaves_power': 5, 'num_leaves': 28, 'min_child_samples': 26, 'subsample': 0.8437443864435322, 'colsample_bytree': 0.8062032000819339}. Best is trial 71 with value: 0.8565185191458132.\n"
     ]
    },
    {
     "name": "stdout",
     "output_type": "stream",
     "text": [
      "[Trial 88] AUCs: ['0.8485', '0.8559', '0.8554', '0.8670', '0.8506'] | Mean AUC: 0.8555 | Std: 0.0064\n"
     ]
    },
    {
     "name": "stderr",
     "output_type": "stream",
     "text": [
      "[I 2025-05-19 15:56:57,539] Trial 89 finished with value: 0.8566435367519137 and parameters: {'n_estimators': 73, 'learning_rate': 0.04095983868272451, 'max_depth': 10, 'num_leaves_power': 5, 'num_leaves': 29, 'min_child_samples': 18, 'subsample': 0.8584287480250375, 'colsample_bytree': 0.6126463569356596}. Best is trial 89 with value: 0.8566435367519137.\n"
     ]
    },
    {
     "name": "stdout",
     "output_type": "stream",
     "text": [
      "[Trial 89] AUCs: ['0.8501', '0.8568', '0.8562', '0.8682', '0.8519'] | Mean AUC: 0.8566 | Std: 0.0063\n"
     ]
    },
    {
     "name": "stderr",
     "output_type": "stream",
     "text": [
      "[I 2025-05-19 15:57:02,728] Trial 90 finished with value: 0.8565686222719311 and parameters: {'n_estimators': 72, 'learning_rate': 0.039495980441966116, 'max_depth': 10, 'num_leaves_power': 5, 'num_leaves': 29, 'min_child_samples': 18, 'subsample': 0.8092101041171296, 'colsample_bytree': 0.6342581603450568}. Best is trial 89 with value: 0.8566435367519137.\n"
     ]
    },
    {
     "name": "stdout",
     "output_type": "stream",
     "text": [
      "[Trial 90] AUCs: ['0.8496', '0.8572', '0.8563', '0.8678', '0.8519'] | Mean AUC: 0.8566 | Std: 0.0063\n"
     ]
    },
    {
     "name": "stderr",
     "output_type": "stream",
     "text": [
      "[I 2025-05-19 15:57:07,493] Trial 91 finished with value: 0.8563830780734222 and parameters: {'n_estimators': 75, 'learning_rate': 0.038562001150111304, 'max_depth': 10, 'num_leaves_power': 5, 'num_leaves': 29, 'min_child_samples': 18, 'subsample': 0.8583156157538127, 'colsample_bytree': 0.6141895383994628}. Best is trial 89 with value: 0.8566435367519137.\n"
     ]
    },
    {
     "name": "stdout",
     "output_type": "stream",
     "text": [
      "[Trial 91] AUCs: ['0.8495', '0.8566', '0.8563', '0.8677', '0.8518'] | Mean AUC: 0.8564 | Std: 0.0063\n"
     ]
    },
    {
     "name": "stderr",
     "output_type": "stream",
     "text": [
      "[I 2025-05-19 15:57:12,279] Trial 92 finished with value: 0.8560321768960085 and parameters: {'n_estimators': 71, 'learning_rate': 0.0313201489882045, 'max_depth': 10, 'num_leaves_power': 5, 'num_leaves': 29, 'min_child_samples': 18, 'subsample': 0.8604198238221188, 'colsample_bytree': 0.6296853898910482}. Best is trial 89 with value: 0.8566435367519137.\n"
     ]
    },
    {
     "name": "stdout",
     "output_type": "stream",
     "text": [
      "[Trial 92] AUCs: ['0.8491', '0.8559', '0.8565', '0.8669', '0.8517'] | Mean AUC: 0.8560 | Std: 0.0061\n"
     ]
    },
    {
     "name": "stderr",
     "output_type": "stream",
     "text": [
      "[I 2025-05-19 15:57:17,367] Trial 93 finished with value: 0.8564862979729284 and parameters: {'n_estimators': 76, 'learning_rate': 0.039936757435383725, 'max_depth': 10, 'num_leaves_power': 5, 'num_leaves': 30, 'min_child_samples': 16, 'subsample': 0.7911150141390288, 'colsample_bytree': 0.6564078798596046}. Best is trial 89 with value: 0.8566435367519137.\n"
     ]
    },
    {
     "name": "stdout",
     "output_type": "stream",
     "text": [
      "[Trial 93] AUCs: ['0.8492', '0.8569', '0.8562', '0.8682', '0.8518'] | Mean AUC: 0.8565 | Std: 0.0065\n"
     ]
    },
    {
     "name": "stderr",
     "output_type": "stream",
     "text": [
      "[I 2025-05-19 15:57:22,035] Trial 94 finished with value: 0.8566074123504744 and parameters: {'n_estimators': 75, 'learning_rate': 0.041511102343791496, 'max_depth': 10, 'num_leaves_power': 5, 'num_leaves': 30, 'min_child_samples': 16, 'subsample': 0.7634681527149302, 'colsample_bytree': 0.613256372802562}. Best is trial 89 with value: 0.8566435367519137.\n"
     ]
    },
    {
     "name": "stdout",
     "output_type": "stream",
     "text": [
      "[Trial 94] AUCs: ['0.8500', '0.8566', '0.8564', '0.8686', '0.8514'] | Mean AUC: 0.8566 | Std: 0.0066\n"
     ]
    },
    {
     "name": "stderr",
     "output_type": "stream",
     "text": [
      "[I 2025-05-19 15:57:27,181] Trial 95 finished with value: 0.8566149382794894 and parameters: {'n_estimators': 80, 'learning_rate': 0.04141983611597656, 'max_depth': 10, 'num_leaves_power': 5, 'num_leaves': 30, 'min_child_samples': 16, 'subsample': 0.7491634195230317, 'colsample_bytree': 0.6126088109695228}. Best is trial 89 with value: 0.8566435367519137.\n"
     ]
    },
    {
     "name": "stdout",
     "output_type": "stream",
     "text": [
      "[Trial 95] AUCs: ['0.8503', '0.8567', '0.8559', '0.8682', '0.8520'] | Mean AUC: 0.8566 | Std: 0.0063\n"
     ]
    },
    {
     "name": "stderr",
     "output_type": "stream",
     "text": [
      "[I 2025-05-19 15:57:32,107] Trial 96 finished with value: 0.8551007356234489 and parameters: {'n_estimators': 77, 'learning_rate': 0.06919888091658323, 'max_depth': 10, 'num_leaves_power': 5, 'num_leaves': 30, 'min_child_samples': 15, 'subsample': 0.7650403498588852, 'colsample_bytree': 0.6135333174779799}. Best is trial 89 with value: 0.8566435367519137.\n"
     ]
    },
    {
     "name": "stdout",
     "output_type": "stream",
     "text": [
      "[Trial 96] AUCs: ['0.8491', '0.8550', '0.8552', '0.8661', '0.8501'] | Mean AUC: 0.8551 | Std: 0.0060\n"
     ]
    },
    {
     "name": "stderr",
     "output_type": "stream",
     "text": [
      "[I 2025-05-19 15:57:36,786] Trial 97 finished with value: 0.8558204496160519 and parameters: {'n_estimators': 72, 'learning_rate': 0.05462395753351409, 'max_depth': 10, 'num_leaves_power': 5, 'num_leaves': 30, 'min_child_samples': 16, 'subsample': 0.7473294791892147, 'colsample_bytree': 0.6314375497709576}. Best is trial 89 with value: 0.8566435367519137.\n"
     ]
    },
    {
     "name": "stdout",
     "output_type": "stream",
     "text": [
      "[Trial 97] AUCs: ['0.8488', '0.8560', '0.8557', '0.8676', '0.8510'] | Mean AUC: 0.8558 | Std: 0.0065\n"
     ]
    },
    {
     "name": "stderr",
     "output_type": "stream",
     "text": [
      "[I 2025-05-19 15:57:41,389] Trial 98 finished with value: 0.8566277619132479 and parameters: {'n_estimators': 65, 'learning_rate': 0.041095938233893535, 'max_depth': 10, 'num_leaves_power': 5, 'num_leaves': 29, 'min_child_samples': 16, 'subsample': 0.7188891970652409, 'colsample_bytree': 0.6141195846796678}. Best is trial 89 with value: 0.8566435367519137.\n"
     ]
    },
    {
     "name": "stdout",
     "output_type": "stream",
     "text": [
      "[Trial 98] AUCs: ['0.8500', '0.8566', '0.8565', '0.8681', '0.8520'] | Mean AUC: 0.8566 | Std: 0.0063\n"
     ]
    },
    {
     "name": "stderr",
     "output_type": "stream",
     "text": [
      "[I 2025-05-19 15:57:45,703] Trial 99 finished with value: 0.8560203288596687 and parameters: {'n_estimators': 64, 'learning_rate': 0.06498259190256446, 'max_depth': 9, 'num_leaves_power': 5, 'num_leaves': 30, 'min_child_samples': 16, 'subsample': 0.7211838972275016, 'colsample_bytree': 0.6004493153362118}. Best is trial 89 with value: 0.8566435367519137.\n"
     ]
    },
    {
     "name": "stdout",
     "output_type": "stream",
     "text": [
      "[Trial 99] AUCs: ['0.8486', '0.8571', '0.8560', '0.8675', '0.8509'] | Mean AUC: 0.8560 | Std: 0.0065\n"
     ]
    }
   ],
   "source": [
    "# Objective function for Optuna\n",
    "def objective(trial):\n",
    "    try:\n",
    "        params = {\n",
    "            'n_estimators': trial.suggest_int('n_estimators', 50, 300),\n",
    "            'learning_rate': trial.suggest_float('learning_rate', 0.01, 0.3, log=True),\n",
    "            'max_depth': trial.suggest_int('max_depth', 3, 10),\n",
    "            'num_leaves': trial.suggest_int('num_leaves', 20, 2 ** trial.suggest_int('num_leaves_power', 5, 7)),\n",
    "            'min_child_samples': trial.suggest_int('min_child_samples', 10, 30),\n",
    "            'subsample': trial.suggest_float('subsample', 0.6, 1.0),\n",
    "            'colsample_bytree': trial.suggest_float('colsample_bytree', 0.6, 1.0),\n",
    "            'random_state': 42,\n",
    "            'n_jobs': -1,\n",
    "            'verbosity':-1,\n",
    "        }\n",
    "\n",
    "        skf = StratifiedKFold(n_splits=5, shuffle=True, random_state=42)\n",
    "        aucs = []\n",
    "\n",
    "        for train_idx, val_idx in skf.split(X_train, y_train):\n",
    "            X_train_fold, y_train_fold = X_train.iloc[train_idx], y_train.iloc[train_idx]\n",
    "            X_val_fold, y_val_fold = X_train.iloc[val_idx], y_train.iloc[val_idx]\n",
    "\n",
    "            # Scale separately to avoid data leakage\n",
    "            scaler = MinMaxScaler()\n",
    "            X_train_fold_scaled = scaler.fit_transform(X_train_fold)\n",
    "            X_val_fold_scaled = scaler.transform(X_val_fold)\n",
    "\n",
    "            # Apply SMOTE only on training fold\n",
    "            smote = SMOTE(random_state=42)\n",
    "            X_train_resampled, y_train_resampled = smote.fit_resample(X_train_fold_scaled, y_train_fold)\n",
    "\n",
    "            # Train and evaluate\n",
    "            model = lgb.LGBMClassifier(**params)\n",
    "            model.fit(X_train_resampled, y_train_resampled)\n",
    "\n",
    "            y_val_prob = model.predict_proba(X_val_fold_scaled)[:, 1]\n",
    "            auc = roc_auc_score(y_val_fold, y_val_prob)\n",
    "\n",
    "            # Validate AUC\n",
    "            if np.isnan(auc) or np.isinf(auc):\n",
    "                return float('-inf')\n",
    "            aucs.append(auc)\n",
    "\n",
    "        mean_auc = np.mean(aucs)\n",
    "        std_auc = np.std(aucs)\n",
    "        print(f\"[Trial {trial.number}] AUCs: {['{:.4f}'.format(a) for a in aucs]} | Mean AUC: {mean_auc:.4f} | Std: {std_auc:.4f}\")\n",
    "\n",
    "        return mean_auc\n",
    "\n",
    "    except Exception as e:\n",
    "        print(f\"Trial failed: {e}\")\n",
    "        return float('-inf')\n",
    "\n",
    "# Run the Optuna study\n",
    "study = optuna.create_study(direction='maximize')\n",
    "study.optimize(objective, n_trials=100)"
   ]
  },
  {
   "cell_type": "code",
   "execution_count": 62,
   "id": "b255baab",
   "metadata": {},
   "outputs": [
    {
     "name": "stdout",
     "output_type": "stream",
     "text": [
      "✅ Best Validation AUC: 0.8566435367519137\n",
      "✅ Best Parameters: {'n_estimators': 73, 'learning_rate': 0.04095983868272451, 'max_depth': 10, 'num_leaves_power': 5, 'num_leaves': 29, 'min_child_samples': 18, 'subsample': 0.8584287480250375, 'colsample_bytree': 0.6126463569356596}\n"
     ]
    }
   ],
   "source": [
    "# Print results\n",
    "if study.best_trial:\n",
    "    print(\"✅ Best Validation AUC:\", study.best_value)\n",
    "    print(\"✅ Best Parameters:\", study.best_params)\n",
    "    # Remove 'num_leaves_power' from best_params\n",
    "    cleaned_params = {k: v for k, v in study.best_params.items() if k != 'num_leaves_power'}\n",
    "else:\n",
    "    print(\"❌ No successful trials.\")"
   ]
  },
  {
   "cell_type": "markdown",
   "id": "43d19a02",
   "metadata": {},
   "source": [
    "## 6. Threshold Optimization 🎯\n",
    "\n",
    "To improve classification performance beyond the default threshold of 0.5, a custom threshold optimization process was implemented.  \n",
    "The objective was to **maximize recall**—capturing as many high-risk clients as possible—while maintaining reasonable precision.\n",
    "\n",
    "### Threshold Strategy:\n",
    "- Rather than using the default threshold, a **custom threshold was selected per fold** during validation.\n",
    "- A **recall constraint of ≥ 0.7** was enforced to prioritize true positives (high-risk clients).\n",
    "- Among the thresholds satisfying this constraint, the one with the **highest precision** was chosen for each fold.\n",
    "\n",
    "### Validation Setup:\n",
    "- 10-fold Stratified Cross-Validation using the tuned LightGBM model\n",
    "- Probabilities were predicted for each fold\n",
    "- Thresholds ranging from 0.01 to 0.99 were tested\n",
    "\n",
    "### Final Threshold:\n",
    "- The **median of the selected thresholds** across all folds was used as the final decision threshold.\n",
    "- This choice ensures robustness against variability between folds and supports consistent decision-making.\n",
    "\n",
    "This threshold tuning approach reflects the business goal of identifying as many potentially delinquent clients as possible, even at the expense of some false positives.  \n",
    "**Recall was prioritized over precision**, as the cost of missing a high-risk case outweighs that of incorrectly flagging a low-risk individual.\n"
   ]
  },
  {
   "cell_type": "code",
   "execution_count": 63,
   "id": "de51e616",
   "metadata": {},
   "outputs": [
    {
     "data": {
      "text/html": [
       "<div>\n",
       "<style scoped>\n",
       "    .dataframe tbody tr th:only-of-type {\n",
       "        vertical-align: middle;\n",
       "    }\n",
       "\n",
       "    .dataframe tbody tr th {\n",
       "        vertical-align: top;\n",
       "    }\n",
       "\n",
       "    .dataframe thead th {\n",
       "        text-align: right;\n",
       "    }\n",
       "</style>\n",
       "<table border=\"1\" class=\"dataframe\">\n",
       "  <thead>\n",
       "    <tr style=\"text-align: right;\">\n",
       "      <th></th>\n",
       "      <th>Fold</th>\n",
       "      <th>Threshold</th>\n",
       "      <th>Precision</th>\n",
       "      <th>Recall</th>\n",
       "      <th>Accuracy</th>\n",
       "      <th>F1 Score</th>\n",
       "    </tr>\n",
       "  </thead>\n",
       "  <tbody>\n",
       "    <tr>\n",
       "      <th>0</th>\n",
       "      <td>1</td>\n",
       "      <td>0.31</td>\n",
       "      <td>0.232957</td>\n",
       "      <td>0.706853</td>\n",
       "      <td>0.825133</td>\n",
       "      <td>0.350425</td>\n",
       "    </tr>\n",
       "    <tr>\n",
       "      <th>1</th>\n",
       "      <td>2</td>\n",
       "      <td>0.30</td>\n",
       "      <td>0.223200</td>\n",
       "      <td>0.708122</td>\n",
       "      <td>0.816072</td>\n",
       "      <td>0.339416</td>\n",
       "    </tr>\n",
       "    <tr>\n",
       "      <th>2</th>\n",
       "      <td>3</td>\n",
       "      <td>0.34</td>\n",
       "      <td>0.246759</td>\n",
       "      <td>0.700508</td>\n",
       "      <td>0.837327</td>\n",
       "      <td>0.364959</td>\n",
       "    </tr>\n",
       "    <tr>\n",
       "      <th>3</th>\n",
       "      <td>4</td>\n",
       "      <td>0.31</td>\n",
       "      <td>0.233723</td>\n",
       "      <td>0.710660</td>\n",
       "      <td>0.825218</td>\n",
       "      <td>0.351759</td>\n",
       "    </tr>\n",
       "    <tr>\n",
       "      <th>4</th>\n",
       "      <td>5</td>\n",
       "      <td>0.33</td>\n",
       "      <td>0.251473</td>\n",
       "      <td>0.704315</td>\n",
       "      <td>0.840376</td>\n",
       "      <td>0.370618</td>\n",
       "    </tr>\n",
       "    <tr>\n",
       "      <th>5</th>\n",
       "      <td>6</td>\n",
       "      <td>0.30</td>\n",
       "      <td>0.230930</td>\n",
       "      <td>0.703046</td>\n",
       "      <td>0.823948</td>\n",
       "      <td>0.347662</td>\n",
       "    </tr>\n",
       "    <tr>\n",
       "      <th>6</th>\n",
       "      <td>7</td>\n",
       "      <td>0.33</td>\n",
       "      <td>0.255368</td>\n",
       "      <td>0.709391</td>\n",
       "      <td>0.842578</td>\n",
       "      <td>0.375546</td>\n",
       "    </tr>\n",
       "    <tr>\n",
       "      <th>7</th>\n",
       "      <td>8</td>\n",
       "      <td>0.33</td>\n",
       "      <td>0.255985</td>\n",
       "      <td>0.705584</td>\n",
       "      <td>0.843509</td>\n",
       "      <td>0.375676</td>\n",
       "    </tr>\n",
       "    <tr>\n",
       "      <th>8</th>\n",
       "      <td>9</td>\n",
       "      <td>0.33</td>\n",
       "      <td>0.240948</td>\n",
       "      <td>0.709391</td>\n",
       "      <td>0.831470</td>\n",
       "      <td>0.359717</td>\n",
       "    </tr>\n",
       "    <tr>\n",
       "      <th>9</th>\n",
       "      <td>10</td>\n",
       "      <td>0.33</td>\n",
       "      <td>0.251247</td>\n",
       "      <td>0.703046</td>\n",
       "      <td>0.840362</td>\n",
       "      <td>0.370197</td>\n",
       "    </tr>\n",
       "  </tbody>\n",
       "</table>\n",
       "</div>"
      ],
      "text/plain": [
       "   Fold  Threshold  Precision    Recall  Accuracy  F1 Score\n",
       "0     1       0.31   0.232957  0.706853  0.825133  0.350425\n",
       "1     2       0.30   0.223200  0.708122  0.816072  0.339416\n",
       "2     3       0.34   0.246759  0.700508  0.837327  0.364959\n",
       "3     4       0.31   0.233723  0.710660  0.825218  0.351759\n",
       "4     5       0.33   0.251473  0.704315  0.840376  0.370618\n",
       "5     6       0.30   0.230930  0.703046  0.823948  0.347662\n",
       "6     7       0.33   0.255368  0.709391  0.842578  0.375546\n",
       "7     8       0.33   0.255985  0.705584  0.843509  0.375676\n",
       "8     9       0.33   0.240948  0.709391  0.831470  0.359717\n",
       "9    10       0.33   0.251247  0.703046  0.840362  0.370197"
      ]
     },
     "execution_count": 63,
     "metadata": {},
     "output_type": "execute_result"
    }
   ],
   "source": [
    "from sklearn.exceptions import UndefinedMetricWarning\n",
    "import warnings\n",
    "warnings.filterwarnings(\"ignore\", category=UndefinedMetricWarning)\n",
    "\n",
    "# Stratified K-Fold setup\n",
    "skf = StratifiedKFold(n_splits=10, shuffle=True, random_state=42)\n",
    "thresholds = np.arange(0.01, 1.00, 0.01)\n",
    "\n",
    "# To store results\n",
    "metrics_list = []\n",
    "\n",
    "for fold, (train_idx, val_idx) in enumerate(skf.split(X_train, y_train), 1):\n",
    "    # Initialize best model with best parameters\n",
    "    best_model = lgb.LGBMClassifier(**cleaned_params, random_state=42, verbose=-1)\n",
    "    \n",
    "    # Split\n",
    "    X_train_fold, y_train_fold = X_train.iloc[train_idx], y_train.iloc[train_idx]\n",
    "    X_val_fold, y_val_fold = X_train.iloc[val_idx], y_train.iloc[val_idx]\n",
    "\n",
    "    # Scale\n",
    "    scaler = MinMaxScaler()\n",
    "    X_train_scaled = scaler.fit_transform(X_train_fold)\n",
    "    X_val_scaled = scaler.transform(X_val_fold)\n",
    "\n",
    "    # SMOTE\n",
    "    smote = SMOTE(random_state=42)\n",
    "    X_train_resampled, y_train_resampled = smote.fit_resample(X_train_scaled, y_train_fold)\n",
    "\n",
    "    # Fit model\n",
    "    best_model.fit(X_train_resampled, y_train_resampled)\n",
    "\n",
    "    # Predict probabilities\n",
    "    y_val_prob = best_model.predict_proba(X_val_scaled)[:, 1]\n",
    "\n",
    "    # Find best threshold (recall ≥ 0.7, max precision)\n",
    "    best_prec, best_thresh = 0, 0.5\n",
    "    for t in thresholds:\n",
    "        y_pred_thresh = (y_val_prob >= t).astype(int)\n",
    "        rec = recall_score(y_val_fold, y_pred_thresh)\n",
    "        prec = precision_score(y_val_fold, y_pred_thresh)\n",
    "\n",
    "        if rec >= 0.7 and prec > best_prec:\n",
    "            best_prec = prec\n",
    "            best_thresh = t\n",
    "\n",
    "    # Final prediction at best threshold\n",
    "    y_val_pred = (y_val_prob >= best_thresh).astype(int)\n",
    "\n",
    "    # Calculate metrics\n",
    "    precision = precision_score(y_val_fold, y_val_pred)\n",
    "    recall = recall_score(y_val_fold, y_val_pred)\n",
    "    accuracy = accuracy_score(y_val_fold, y_val_pred)\n",
    "    f1 = f1_score(y_val_fold, y_val_pred)\n",
    "\n",
    "    # Store in list\n",
    "    metrics_list.append({\n",
    "        'Fold': fold,\n",
    "        'Threshold': best_thresh,\n",
    "        'Precision': precision,\n",
    "        'Recall': recall,\n",
    "        'Accuracy': accuracy,\n",
    "        'F1 Score': f1\n",
    "    })\n",
    "\n",
    "# Convert to DataFrame\n",
    "metrics_df = pd.DataFrame(metrics_list)\n",
    "metrics_df\n"
   ]
  },
  {
   "cell_type": "code",
   "execution_count": 64,
   "id": "602708ea",
   "metadata": {},
   "outputs": [
    {
     "data": {
      "text/plain": [
       "np.float64(0.33)"
      ]
     },
     "execution_count": 64,
     "metadata": {},
     "output_type": "execute_result"
    }
   ],
   "source": [
    "best_threshold = np.quantile(metrics_df['Threshold'], 0.5)\n",
    "best_threshold"
   ]
  },
  {
   "cell_type": "markdown",
   "id": "57af15ae",
   "metadata": {},
   "source": [
    "## 7. Final Model Training 🏗️\n",
    "\n",
    "The final LightGBM model was trained using the entire training set, applying the best hyperparameters identified during the tuning phase.\n",
    "\n",
    "### Data Preparation:\n",
    "- Scaled the full training dataset  \n",
    "- Applied SMOTE to balance the target classes\n",
    "\n",
    "### Model Training:\n",
    "- Algorithm: LightGBM  \n",
    "- Training configuration: Best hyperparameters from Optuna optimization\n",
    "\n",
    "### Final Model Usage:\n",
    "- Evaluate performance on the held-out test set  \n",
    "- Export the trained model for integration into the credit risk simulator app\n"
   ]
  },
  {
   "cell_type": "code",
   "execution_count": 65,
   "id": "e2db1012",
   "metadata": {},
   "outputs": [
    {
     "data": {
      "text/html": [
       "<style>#sk-container-id-4 {\n",
       "  /* Definition of color scheme common for light and dark mode */\n",
       "  --sklearn-color-text: #000;\n",
       "  --sklearn-color-text-muted: #666;\n",
       "  --sklearn-color-line: gray;\n",
       "  /* Definition of color scheme for unfitted estimators */\n",
       "  --sklearn-color-unfitted-level-0: #fff5e6;\n",
       "  --sklearn-color-unfitted-level-1: #f6e4d2;\n",
       "  --sklearn-color-unfitted-level-2: #ffe0b3;\n",
       "  --sklearn-color-unfitted-level-3: chocolate;\n",
       "  /* Definition of color scheme for fitted estimators */\n",
       "  --sklearn-color-fitted-level-0: #f0f8ff;\n",
       "  --sklearn-color-fitted-level-1: #d4ebff;\n",
       "  --sklearn-color-fitted-level-2: #b3dbfd;\n",
       "  --sklearn-color-fitted-level-3: cornflowerblue;\n",
       "\n",
       "  /* Specific color for light theme */\n",
       "  --sklearn-color-text-on-default-background: var(--sg-text-color, var(--theme-code-foreground, var(--jp-content-font-color1, black)));\n",
       "  --sklearn-color-background: var(--sg-background-color, var(--theme-background, var(--jp-layout-color0, white)));\n",
       "  --sklearn-color-border-box: var(--sg-text-color, var(--theme-code-foreground, var(--jp-content-font-color1, black)));\n",
       "  --sklearn-color-icon: #696969;\n",
       "\n",
       "  @media (prefers-color-scheme: dark) {\n",
       "    /* Redefinition of color scheme for dark theme */\n",
       "    --sklearn-color-text-on-default-background: var(--sg-text-color, var(--theme-code-foreground, var(--jp-content-font-color1, white)));\n",
       "    --sklearn-color-background: var(--sg-background-color, var(--theme-background, var(--jp-layout-color0, #111)));\n",
       "    --sklearn-color-border-box: var(--sg-text-color, var(--theme-code-foreground, var(--jp-content-font-color1, white)));\n",
       "    --sklearn-color-icon: #878787;\n",
       "  }\n",
       "}\n",
       "\n",
       "#sk-container-id-4 {\n",
       "  color: var(--sklearn-color-text);\n",
       "}\n",
       "\n",
       "#sk-container-id-4 pre {\n",
       "  padding: 0;\n",
       "}\n",
       "\n",
       "#sk-container-id-4 input.sk-hidden--visually {\n",
       "  border: 0;\n",
       "  clip: rect(1px 1px 1px 1px);\n",
       "  clip: rect(1px, 1px, 1px, 1px);\n",
       "  height: 1px;\n",
       "  margin: -1px;\n",
       "  overflow: hidden;\n",
       "  padding: 0;\n",
       "  position: absolute;\n",
       "  width: 1px;\n",
       "}\n",
       "\n",
       "#sk-container-id-4 div.sk-dashed-wrapped {\n",
       "  border: 1px dashed var(--sklearn-color-line);\n",
       "  margin: 0 0.4em 0.5em 0.4em;\n",
       "  box-sizing: border-box;\n",
       "  padding-bottom: 0.4em;\n",
       "  background-color: var(--sklearn-color-background);\n",
       "}\n",
       "\n",
       "#sk-container-id-4 div.sk-container {\n",
       "  /* jupyter's `normalize.less` sets `[hidden] { display: none; }`\n",
       "     but bootstrap.min.css set `[hidden] { display: none !important; }`\n",
       "     so we also need the `!important` here to be able to override the\n",
       "     default hidden behavior on the sphinx rendered scikit-learn.org.\n",
       "     See: https://github.com/scikit-learn/scikit-learn/issues/21755 */\n",
       "  display: inline-block !important;\n",
       "  position: relative;\n",
       "}\n",
       "\n",
       "#sk-container-id-4 div.sk-text-repr-fallback {\n",
       "  display: none;\n",
       "}\n",
       "\n",
       "div.sk-parallel-item,\n",
       "div.sk-serial,\n",
       "div.sk-item {\n",
       "  /* draw centered vertical line to link estimators */\n",
       "  background-image: linear-gradient(var(--sklearn-color-text-on-default-background), var(--sklearn-color-text-on-default-background));\n",
       "  background-size: 2px 100%;\n",
       "  background-repeat: no-repeat;\n",
       "  background-position: center center;\n",
       "}\n",
       "\n",
       "/* Parallel-specific style estimator block */\n",
       "\n",
       "#sk-container-id-4 div.sk-parallel-item::after {\n",
       "  content: \"\";\n",
       "  width: 100%;\n",
       "  border-bottom: 2px solid var(--sklearn-color-text-on-default-background);\n",
       "  flex-grow: 1;\n",
       "}\n",
       "\n",
       "#sk-container-id-4 div.sk-parallel {\n",
       "  display: flex;\n",
       "  align-items: stretch;\n",
       "  justify-content: center;\n",
       "  background-color: var(--sklearn-color-background);\n",
       "  position: relative;\n",
       "}\n",
       "\n",
       "#sk-container-id-4 div.sk-parallel-item {\n",
       "  display: flex;\n",
       "  flex-direction: column;\n",
       "}\n",
       "\n",
       "#sk-container-id-4 div.sk-parallel-item:first-child::after {\n",
       "  align-self: flex-end;\n",
       "  width: 50%;\n",
       "}\n",
       "\n",
       "#sk-container-id-4 div.sk-parallel-item:last-child::after {\n",
       "  align-self: flex-start;\n",
       "  width: 50%;\n",
       "}\n",
       "\n",
       "#sk-container-id-4 div.sk-parallel-item:only-child::after {\n",
       "  width: 0;\n",
       "}\n",
       "\n",
       "/* Serial-specific style estimator block */\n",
       "\n",
       "#sk-container-id-4 div.sk-serial {\n",
       "  display: flex;\n",
       "  flex-direction: column;\n",
       "  align-items: center;\n",
       "  background-color: var(--sklearn-color-background);\n",
       "  padding-right: 1em;\n",
       "  padding-left: 1em;\n",
       "}\n",
       "\n",
       "\n",
       "/* Toggleable style: style used for estimator/Pipeline/ColumnTransformer box that is\n",
       "clickable and can be expanded/collapsed.\n",
       "- Pipeline and ColumnTransformer use this feature and define the default style\n",
       "- Estimators will overwrite some part of the style using the `sk-estimator` class\n",
       "*/\n",
       "\n",
       "/* Pipeline and ColumnTransformer style (default) */\n",
       "\n",
       "#sk-container-id-4 div.sk-toggleable {\n",
       "  /* Default theme specific background. It is overwritten whether we have a\n",
       "  specific estimator or a Pipeline/ColumnTransformer */\n",
       "  background-color: var(--sklearn-color-background);\n",
       "}\n",
       "\n",
       "/* Toggleable label */\n",
       "#sk-container-id-4 label.sk-toggleable__label {\n",
       "  cursor: pointer;\n",
       "  display: flex;\n",
       "  width: 100%;\n",
       "  margin-bottom: 0;\n",
       "  padding: 0.5em;\n",
       "  box-sizing: border-box;\n",
       "  text-align: center;\n",
       "  align-items: start;\n",
       "  justify-content: space-between;\n",
       "  gap: 0.5em;\n",
       "}\n",
       "\n",
       "#sk-container-id-4 label.sk-toggleable__label .caption {\n",
       "  font-size: 0.6rem;\n",
       "  font-weight: lighter;\n",
       "  color: var(--sklearn-color-text-muted);\n",
       "}\n",
       "\n",
       "#sk-container-id-4 label.sk-toggleable__label-arrow:before {\n",
       "  /* Arrow on the left of the label */\n",
       "  content: \"▸\";\n",
       "  float: left;\n",
       "  margin-right: 0.25em;\n",
       "  color: var(--sklearn-color-icon);\n",
       "}\n",
       "\n",
       "#sk-container-id-4 label.sk-toggleable__label-arrow:hover:before {\n",
       "  color: var(--sklearn-color-text);\n",
       "}\n",
       "\n",
       "/* Toggleable content - dropdown */\n",
       "\n",
       "#sk-container-id-4 div.sk-toggleable__content {\n",
       "  max-height: 0;\n",
       "  max-width: 0;\n",
       "  overflow: hidden;\n",
       "  text-align: left;\n",
       "  /* unfitted */\n",
       "  background-color: var(--sklearn-color-unfitted-level-0);\n",
       "}\n",
       "\n",
       "#sk-container-id-4 div.sk-toggleable__content.fitted {\n",
       "  /* fitted */\n",
       "  background-color: var(--sklearn-color-fitted-level-0);\n",
       "}\n",
       "\n",
       "#sk-container-id-4 div.sk-toggleable__content pre {\n",
       "  margin: 0.2em;\n",
       "  border-radius: 0.25em;\n",
       "  color: var(--sklearn-color-text);\n",
       "  /* unfitted */\n",
       "  background-color: var(--sklearn-color-unfitted-level-0);\n",
       "}\n",
       "\n",
       "#sk-container-id-4 div.sk-toggleable__content.fitted pre {\n",
       "  /* unfitted */\n",
       "  background-color: var(--sklearn-color-fitted-level-0);\n",
       "}\n",
       "\n",
       "#sk-container-id-4 input.sk-toggleable__control:checked~div.sk-toggleable__content {\n",
       "  /* Expand drop-down */\n",
       "  max-height: 200px;\n",
       "  max-width: 100%;\n",
       "  overflow: auto;\n",
       "}\n",
       "\n",
       "#sk-container-id-4 input.sk-toggleable__control:checked~label.sk-toggleable__label-arrow:before {\n",
       "  content: \"▾\";\n",
       "}\n",
       "\n",
       "/* Pipeline/ColumnTransformer-specific style */\n",
       "\n",
       "#sk-container-id-4 div.sk-label input.sk-toggleable__control:checked~label.sk-toggleable__label {\n",
       "  color: var(--sklearn-color-text);\n",
       "  background-color: var(--sklearn-color-unfitted-level-2);\n",
       "}\n",
       "\n",
       "#sk-container-id-4 div.sk-label.fitted input.sk-toggleable__control:checked~label.sk-toggleable__label {\n",
       "  background-color: var(--sklearn-color-fitted-level-2);\n",
       "}\n",
       "\n",
       "/* Estimator-specific style */\n",
       "\n",
       "/* Colorize estimator box */\n",
       "#sk-container-id-4 div.sk-estimator input.sk-toggleable__control:checked~label.sk-toggleable__label {\n",
       "  /* unfitted */\n",
       "  background-color: var(--sklearn-color-unfitted-level-2);\n",
       "}\n",
       "\n",
       "#sk-container-id-4 div.sk-estimator.fitted input.sk-toggleable__control:checked~label.sk-toggleable__label {\n",
       "  /* fitted */\n",
       "  background-color: var(--sklearn-color-fitted-level-2);\n",
       "}\n",
       "\n",
       "#sk-container-id-4 div.sk-label label.sk-toggleable__label,\n",
       "#sk-container-id-4 div.sk-label label {\n",
       "  /* The background is the default theme color */\n",
       "  color: var(--sklearn-color-text-on-default-background);\n",
       "}\n",
       "\n",
       "/* On hover, darken the color of the background */\n",
       "#sk-container-id-4 div.sk-label:hover label.sk-toggleable__label {\n",
       "  color: var(--sklearn-color-text);\n",
       "  background-color: var(--sklearn-color-unfitted-level-2);\n",
       "}\n",
       "\n",
       "/* Label box, darken color on hover, fitted */\n",
       "#sk-container-id-4 div.sk-label.fitted:hover label.sk-toggleable__label.fitted {\n",
       "  color: var(--sklearn-color-text);\n",
       "  background-color: var(--sklearn-color-fitted-level-2);\n",
       "}\n",
       "\n",
       "/* Estimator label */\n",
       "\n",
       "#sk-container-id-4 div.sk-label label {\n",
       "  font-family: monospace;\n",
       "  font-weight: bold;\n",
       "  display: inline-block;\n",
       "  line-height: 1.2em;\n",
       "}\n",
       "\n",
       "#sk-container-id-4 div.sk-label-container {\n",
       "  text-align: center;\n",
       "}\n",
       "\n",
       "/* Estimator-specific */\n",
       "#sk-container-id-4 div.sk-estimator {\n",
       "  font-family: monospace;\n",
       "  border: 1px dotted var(--sklearn-color-border-box);\n",
       "  border-radius: 0.25em;\n",
       "  box-sizing: border-box;\n",
       "  margin-bottom: 0.5em;\n",
       "  /* unfitted */\n",
       "  background-color: var(--sklearn-color-unfitted-level-0);\n",
       "}\n",
       "\n",
       "#sk-container-id-4 div.sk-estimator.fitted {\n",
       "  /* fitted */\n",
       "  background-color: var(--sklearn-color-fitted-level-0);\n",
       "}\n",
       "\n",
       "/* on hover */\n",
       "#sk-container-id-4 div.sk-estimator:hover {\n",
       "  /* unfitted */\n",
       "  background-color: var(--sklearn-color-unfitted-level-2);\n",
       "}\n",
       "\n",
       "#sk-container-id-4 div.sk-estimator.fitted:hover {\n",
       "  /* fitted */\n",
       "  background-color: var(--sklearn-color-fitted-level-2);\n",
       "}\n",
       "\n",
       "/* Specification for estimator info (e.g. \"i\" and \"?\") */\n",
       "\n",
       "/* Common style for \"i\" and \"?\" */\n",
       "\n",
       ".sk-estimator-doc-link,\n",
       "a:link.sk-estimator-doc-link,\n",
       "a:visited.sk-estimator-doc-link {\n",
       "  float: right;\n",
       "  font-size: smaller;\n",
       "  line-height: 1em;\n",
       "  font-family: monospace;\n",
       "  background-color: var(--sklearn-color-background);\n",
       "  border-radius: 1em;\n",
       "  height: 1em;\n",
       "  width: 1em;\n",
       "  text-decoration: none !important;\n",
       "  margin-left: 0.5em;\n",
       "  text-align: center;\n",
       "  /* unfitted */\n",
       "  border: var(--sklearn-color-unfitted-level-1) 1pt solid;\n",
       "  color: var(--sklearn-color-unfitted-level-1);\n",
       "}\n",
       "\n",
       ".sk-estimator-doc-link.fitted,\n",
       "a:link.sk-estimator-doc-link.fitted,\n",
       "a:visited.sk-estimator-doc-link.fitted {\n",
       "  /* fitted */\n",
       "  border: var(--sklearn-color-fitted-level-1) 1pt solid;\n",
       "  color: var(--sklearn-color-fitted-level-1);\n",
       "}\n",
       "\n",
       "/* On hover */\n",
       "div.sk-estimator:hover .sk-estimator-doc-link:hover,\n",
       ".sk-estimator-doc-link:hover,\n",
       "div.sk-label-container:hover .sk-estimator-doc-link:hover,\n",
       ".sk-estimator-doc-link:hover {\n",
       "  /* unfitted */\n",
       "  background-color: var(--sklearn-color-unfitted-level-3);\n",
       "  color: var(--sklearn-color-background);\n",
       "  text-decoration: none;\n",
       "}\n",
       "\n",
       "div.sk-estimator.fitted:hover .sk-estimator-doc-link.fitted:hover,\n",
       ".sk-estimator-doc-link.fitted:hover,\n",
       "div.sk-label-container:hover .sk-estimator-doc-link.fitted:hover,\n",
       ".sk-estimator-doc-link.fitted:hover {\n",
       "  /* fitted */\n",
       "  background-color: var(--sklearn-color-fitted-level-3);\n",
       "  color: var(--sklearn-color-background);\n",
       "  text-decoration: none;\n",
       "}\n",
       "\n",
       "/* Span, style for the box shown on hovering the info icon */\n",
       ".sk-estimator-doc-link span {\n",
       "  display: none;\n",
       "  z-index: 9999;\n",
       "  position: relative;\n",
       "  font-weight: normal;\n",
       "  right: .2ex;\n",
       "  padding: .5ex;\n",
       "  margin: .5ex;\n",
       "  width: min-content;\n",
       "  min-width: 20ex;\n",
       "  max-width: 50ex;\n",
       "  color: var(--sklearn-color-text);\n",
       "  box-shadow: 2pt 2pt 4pt #999;\n",
       "  /* unfitted */\n",
       "  background: var(--sklearn-color-unfitted-level-0);\n",
       "  border: .5pt solid var(--sklearn-color-unfitted-level-3);\n",
       "}\n",
       "\n",
       ".sk-estimator-doc-link.fitted span {\n",
       "  /* fitted */\n",
       "  background: var(--sklearn-color-fitted-level-0);\n",
       "  border: var(--sklearn-color-fitted-level-3);\n",
       "}\n",
       "\n",
       ".sk-estimator-doc-link:hover span {\n",
       "  display: block;\n",
       "}\n",
       "\n",
       "/* \"?\"-specific style due to the `<a>` HTML tag */\n",
       "\n",
       "#sk-container-id-4 a.estimator_doc_link {\n",
       "  float: right;\n",
       "  font-size: 1rem;\n",
       "  line-height: 1em;\n",
       "  font-family: monospace;\n",
       "  background-color: var(--sklearn-color-background);\n",
       "  border-radius: 1rem;\n",
       "  height: 1rem;\n",
       "  width: 1rem;\n",
       "  text-decoration: none;\n",
       "  /* unfitted */\n",
       "  color: var(--sklearn-color-unfitted-level-1);\n",
       "  border: var(--sklearn-color-unfitted-level-1) 1pt solid;\n",
       "}\n",
       "\n",
       "#sk-container-id-4 a.estimator_doc_link.fitted {\n",
       "  /* fitted */\n",
       "  border: var(--sklearn-color-fitted-level-1) 1pt solid;\n",
       "  color: var(--sklearn-color-fitted-level-1);\n",
       "}\n",
       "\n",
       "/* On hover */\n",
       "#sk-container-id-4 a.estimator_doc_link:hover {\n",
       "  /* unfitted */\n",
       "  background-color: var(--sklearn-color-unfitted-level-3);\n",
       "  color: var(--sklearn-color-background);\n",
       "  text-decoration: none;\n",
       "}\n",
       "\n",
       "#sk-container-id-4 a.estimator_doc_link.fitted:hover {\n",
       "  /* fitted */\n",
       "  background-color: var(--sklearn-color-fitted-level-3);\n",
       "}\n",
       "</style><div id=\"sk-container-id-4\" class=\"sk-top-container\"><div class=\"sk-text-repr-fallback\"><pre>LGBMClassifier(colsample_bytree=0.6126463569356596,\n",
       "               learning_rate=0.04095983868272451, max_depth=10,\n",
       "               min_child_samples=18, n_estimators=73, num_leaves=29,\n",
       "               random_state=42, subsample=0.8584287480250375)</pre><b>In a Jupyter environment, please rerun this cell to show the HTML representation or trust the notebook. <br />On GitHub, the HTML representation is unable to render, please try loading this page with nbviewer.org.</b></div><div class=\"sk-container\" hidden><div class=\"sk-item\"><div class=\"sk-estimator fitted sk-toggleable\"><input class=\"sk-toggleable__control sk-hidden--visually\" id=\"sk-estimator-id-4\" type=\"checkbox\" checked><label for=\"sk-estimator-id-4\" class=\"sk-toggleable__label fitted sk-toggleable__label-arrow\"><div><div>LGBMClassifier</div></div><div><span class=\"sk-estimator-doc-link fitted\">i<span>Fitted</span></span></div></label><div class=\"sk-toggleable__content fitted\"><pre>LGBMClassifier(colsample_bytree=0.6126463569356596,\n",
       "               learning_rate=0.04095983868272451, max_depth=10,\n",
       "               min_child_samples=18, n_estimators=73, num_leaves=29,\n",
       "               random_state=42, subsample=0.8584287480250375)</pre></div> </div></div></div></div>"
      ],
      "text/plain": [
       "LGBMClassifier(colsample_bytree=0.6126463569356596,\n",
       "               learning_rate=0.04095983868272451, max_depth=10,\n",
       "               min_child_samples=18, n_estimators=73, num_leaves=29,\n",
       "               random_state=42, subsample=0.8584287480250375)"
      ]
     },
     "execution_count": 65,
     "metadata": {},
     "output_type": "execute_result"
    }
   ],
   "source": [
    "# Scaling\n",
    "scaler = MinMaxScaler()\n",
    "scaler.fit(X_train)\n",
    "X_train_scaled = scaler.transform(X_train)\n",
    "X_test_scaled = scaler.transform(X_test)\n",
    "\n",
    "# SMOTE on training set\n",
    "smote = SMOTE(random_state=42)\n",
    "X_resampled, y_resampled = smote.fit_resample(X_train_scaled, y_train)\n",
    "\n",
    "# Train best model on full resampled training data\n",
    "best_model = lgb.LGBMClassifier(**cleaned_params, random_state=42)\n",
    "best_model.fit(X_resampled, y_resampled)"
   ]
  },
  {
   "cell_type": "markdown",
   "id": "302e0ea0",
   "metadata": {},
   "source": [
    "## 8. Test Set Evaluation 📊\n",
    "\n",
    "The final LightGBM model was evaluated on the **held-out test set** using the optimized decision threshold obtained from cross-validation.\n",
    "\n",
    "### Evaluation Setup:\n",
    "- **Threshold used:** Median of thresholds optimized per fold (based on recall ≥ 0.7)\n",
    "- **Test set:** 20% of the dataset, not seen during training or tuning\n",
    "\n",
    "### Performance Metrics:\n",
    "- Accuracy\n",
    "- Precision\n",
    "- Recall\n",
    "- F1 Score\n",
    "- AUC (Area Under the ROC Curve)\n",
    "\n",
    "### Visualizations:\n",
    "- Confusion Matrix\n",
    "- ROC Curve\n",
    "- Feature Importance Plot"
   ]
  },
  {
   "cell_type": "code",
   "execution_count": 66,
   "id": "5449fcc9",
   "metadata": {},
   "outputs": [
    {
     "name": "stdout",
     "output_type": "stream",
     "text": [
      "📊 Final Evaluation on Test Set\n",
      "Threshold     : 0.33\n",
      "AUC           : 0.8614\n",
      "Accuracy      : 0.8413\n",
      "Precision     : 0.2517\n",
      "Recall        : 0.6985\n",
      "F1 Score      : 0.3700\n"
     ]
    },
    {
     "data": {
      "image/png": "[encoded data removed]",
      "text/plain": [
       "<Figure size 640x480 with 2 Axes>"
      ]
     },
     "metadata": {},
     "output_type": "display_data"
    },
    {
     "data": {
      "image/png": "[encoded data removed]",
      "text/plain": [
       "<Figure size 640x480 with 1 Axes>"
      ]
     },
     "metadata": {},
     "output_type": "display_data"
    },
    {
     "data": {
      "image/png": "[encoded data removed]",
      "text/plain": [
       "<Figure size 1000x600 with 1 Axes>"
      ]
     },
     "metadata": {},
     "output_type": "display_data"
    }
   ],
   "source": [
    "# Predict probabilities on the test set\n",
    "y_test_prob = best_model.predict_proba(X_test_scaled)[:, 1]\n",
    "\n",
    "# Apply the selected threshold\n",
    "y_test_pred = (y_test_prob >= best_threshold).astype(int)\n",
    "\n",
    "# Calculate metrics\n",
    "acc = accuracy_score(y_test, y_test_pred)\n",
    "prec = precision_score(y_test, y_test_pred)\n",
    "rec = recall_score(y_test, y_test_pred)\n",
    "f1 = f1_score(y_test, y_test_pred)\n",
    "auc = roc_auc_score(y_test, y_test_prob)\n",
    "\n",
    "print(\"📊 Final Evaluation on Test Set\")\n",
    "print(f\"Threshold     : {best_threshold}\")\n",
    "print(f\"AUC           : {auc:.4f}\")\n",
    "print(f\"Accuracy      : {acc:.4f}\")\n",
    "print(f\"Precision     : {prec:.4f}\")\n",
    "print(f\"Recall        : {rec:.4f}\")\n",
    "print(f\"F1 Score      : {f1:.4f}\")\n",
    "\n",
    "# Step 4: Plot confusion matrix\n",
    "cm = confusion_matrix(y_test, y_test_pred)\n",
    "disp = ConfusionMatrixDisplay(confusion_matrix=cm)\n",
    "disp.plot(cmap='Blues')\n",
    "plt.title(\"Confusion Matrix (Test Set)\")\n",
    "plt.show()\n",
    "\n",
    "# Step 5: Plot ROC curve\n",
    "RocCurveDisplay.from_predictions(y_test, y_test_prob)\n",
    "plt.title(\"ROC Curve (Test Set)\")\n",
    "plt.grid(True)\n",
    "plt.show()\n",
    "\n",
    "#Feature Importance\n",
    "importances = best_model.feature_importances_\n",
    "feature_names = X_test.columns  # Asegúrate de que sea un DataFrame\n",
    "feat_imp = pd.Series(importances, index=feature_names).sort_values(ascending=False)\n",
    "\n",
    "plt.figure(figsize=(10, 6))\n",
    "feat_imp.head(20).plot(kind='bar')\n",
    "plt.title(\"Top 20 Feature Importances (LightGBM)\")\n",
    "plt.ylabel(\"Importance Score\")\n",
    "plt.tight_layout()\n",
    "plt.grid(True)\n",
    "plt.show()\n"
   ]
  },
  {
   "cell_type": "code",
   "execution_count": 73,
   "id": "7c123087",
   "metadata": {},
   "outputs": [
    {
     "name": "stderr",
     "output_type": "stream",
     "text": [
      "100%|===================| 117576/118088 [02:56<00:00]        "
     ]
    },
    {
     "data": {
      "image/png": "[encoded data removed]",
      "text/plain": [
       "<Figure size 800x790 with 2 Axes>"
      ]
     },
     "metadata": {},
     "output_type": "display_data"
    }
   ],
   "source": [
    "import shap\n",
    "\n",
    "# Crear el explainer sin check_additivity\n",
    "explainer = shap.TreeExplainer(best_model, X_train)\n",
    "\n",
    "# Calcular los SHAP values desactivando el chequeo\n",
    "shap_values = explainer.shap_values(X_train, check_additivity=False)\n",
    "\n",
    "# Mostrar el summary plot\n",
    "shap.summary_plot(shap_values, X_train)\n"
   ]
  },
  {
   "cell_type": "markdown",
   "id": "15979e58",
   "metadata": {},
   "source": [
    "## Results\n",
    "\n",
    "The final LightGBM model was evaluated on the held-out test set using a custom decision threshold of **0.32**, optimized to prioritize **recall** while maintaining reasonable **precision**. This choice was guided by the business goal of proactively identifying individuals at risk of experiencing financial distress within the next two years.\n",
    "\n",
    "\n",
    "The **Give Me Some Credit** competition aims to predict financial distress, a task where **recall is more valuable than precision**. In real-world applications, failing to identify someone at risk of default can lead to significant financial losses. On the other hand, incorrectly flagging a customer who is not actually at risk (false positive) may lead to unnecessary interventions but is far less damaging.\n",
    "\n",
    "- The model achieves a **recall of 70.7%**, correctly identifying the majority of customers who are likely to default.  \n",
    "- Precision is **24.4%**, meaning that about 1 in 4 flagged customers will actually default. While not ideal, this level of precision is acceptable when the **cost of false negatives outweighs the cost of false positives**.\n",
    "- An **AUC of 0.86** confirms that the model is capable of distinguishing high-risk customers from low-risk ones across various thresholds."
   ]
  },
  {
   "cell_type": "markdown",
   "id": "91b1582d",
   "metadata": {},
   "source": [
    "## 8. Credit Score Transformation 🔢\n",
    "\n",
    "To make model predictions more interpretable for end users, the predicted probabilities were transformed into a **credit score scale (300–900)**, similar to traditional credit scoring systems.\n",
    "\n",
    "- **High probabilities of default** are mapped to **lower scores**\n",
    "- **Low probabilities** are mapped to **higher scores**\n",
    "- This transformation is independent of the decision threshold used for performance evaluation (0.32)\n",
    "\n",
    "A score category was also assigned based on the following ranges:\n",
    "\n",
    "- **Excellent:** 750–900  \n",
    "- **Good:** 700–749  \n",
    "- **Fair:** 650–699  \n",
    "- **Poor:** 600–649  \n",
    "- **Very Poor:** 300–599\n",
    "\n",
    "These categories help contextualize risk levels for users and support the decision-making process.\n"
   ]
  },
  {
   "cell_type": "code",
   "execution_count": 82,
   "id": "f3a15847",
   "metadata": {},
   "outputs": [
    {
     "data": {
      "text/html": [
       "<div>\n",
       "<style scoped>\n",
       "    .dataframe tbody tr th:only-of-type {\n",
       "        vertical-align: middle;\n",
       "    }\n",
       "\n",
       "    .dataframe tbody tr th {\n",
       "        vertical-align: top;\n",
       "    }\n",
       "\n",
       "    .dataframe thead th {\n",
       "        text-align: right;\n",
       "    }\n",
       "</style>\n",
       "<table border=\"1\" class=\"dataframe\">\n",
       "  <thead>\n",
       "    <tr style=\"text-align: right;\">\n",
       "      <th></th>\n",
       "      <th>Probability of Default</th>\n",
       "      <th>Simulated Score</th>\n",
       "      <th>Risk Category</th>\n",
       "    </tr>\n",
       "  </thead>\n",
       "  <tbody>\n",
       "    <tr>\n",
       "      <th>0</th>\n",
       "      <td>0.728870</td>\n",
       "      <td>463</td>\n",
       "      <td>Very Poor</td>\n",
       "    </tr>\n",
       "    <tr>\n",
       "      <th>1</th>\n",
       "      <td>0.144562</td>\n",
       "      <td>813</td>\n",
       "      <td>Excellent</td>\n",
       "    </tr>\n",
       "    <tr>\n",
       "      <th>2</th>\n",
       "      <td>0.212134</td>\n",
       "      <td>773</td>\n",
       "      <td>Excellent</td>\n",
       "    </tr>\n",
       "    <tr>\n",
       "      <th>3</th>\n",
       "      <td>0.116843</td>\n",
       "      <td>830</td>\n",
       "      <td>Excellent</td>\n",
       "    </tr>\n",
       "    <tr>\n",
       "      <th>4</th>\n",
       "      <td>0.123748</td>\n",
       "      <td>826</td>\n",
       "      <td>Excellent</td>\n",
       "    </tr>\n",
       "    <tr>\n",
       "      <th>5</th>\n",
       "      <td>0.154242</td>\n",
       "      <td>807</td>\n",
       "      <td>Excellent</td>\n",
       "    </tr>\n",
       "    <tr>\n",
       "      <th>6</th>\n",
       "      <td>0.075577</td>\n",
       "      <td>855</td>\n",
       "      <td>Excellent</td>\n",
       "    </tr>\n",
       "    <tr>\n",
       "      <th>7</th>\n",
       "      <td>0.071682</td>\n",
       "      <td>857</td>\n",
       "      <td>Excellent</td>\n",
       "    </tr>\n",
       "    <tr>\n",
       "      <th>8</th>\n",
       "      <td>0.081015</td>\n",
       "      <td>851</td>\n",
       "      <td>Excellent</td>\n",
       "    </tr>\n",
       "    <tr>\n",
       "      <th>9</th>\n",
       "      <td>0.108269</td>\n",
       "      <td>835</td>\n",
       "      <td>Excellent</td>\n",
       "    </tr>\n",
       "  </tbody>\n",
       "</table>\n",
       "</div>"
      ],
      "text/plain": [
       "   Probability of Default  Simulated Score Risk Category\n",
       "0                0.728870              463     Very Poor\n",
       "1                0.144562              813     Excellent\n",
       "2                0.212134              773     Excellent\n",
       "3                0.116843              830     Excellent\n",
       "4                0.123748              826     Excellent\n",
       "5                0.154242              807     Excellent\n",
       "6                0.075577              855     Excellent\n",
       "7                0.071682              857     Excellent\n",
       "8                0.081015              851     Excellent\n",
       "9                0.108269              835     Excellent"
      ]
     },
     "execution_count": 82,
     "metadata": {},
     "output_type": "execute_result"
    }
   ],
   "source": [
    "# 1. Función para transformar probabilidad en score (inversamente proporcional)\n",
    "def probability_to_score(p, min_score=300, max_score=900):\n",
    "    return round(max_score - (p * (max_score - min_score)))\n",
    "\n",
    "# 2. Generar los scores a partir de las probabilidades del test set\n",
    "scores = [probability_to_score(p) for p in y_test_prob]\n",
    "\n",
    "# 3. Función opcional para clasificar los scores\n",
    "def score_category(score):\n",
    "    if score >= 750:\n",
    "        return \"Excellent\"\n",
    "    elif score >= 700:\n",
    "        return \"Good\"\n",
    "    elif score >= 650:\n",
    "        return \"Fair\"\n",
    "    elif score >= 600:\n",
    "        return \"Poor\"\n",
    "    else:\n",
    "        return \"Very Poor\"\n",
    "\n",
    "# 4. Asignar categoría a cada score\n",
    "categories = [score_category(s) for s in scores]\n",
    "\n",
    "\n",
    "score_df.head(10)\n"
   ]
  },
  {
   "cell_type": "code",
   "execution_count": 83,
   "id": "5383ea9c",
   "metadata": {},
   "outputs": [
    {
     "data": {
      "text/plain": [
       "Risk Category\n",
       "Excellent    22131\n",
       "Very Poor     2927\n",
       "Good          2159\n",
       "Fair          1456\n",
       "Poor           849\n",
       "Name: count, dtype: int64"
      ]
     },
     "execution_count": 83,
     "metadata": {},
     "output_type": "execute_result"
    }
   ],
   "source": [
    "score_df[\"Risk Category\"].value_counts()"
   ]
  },
  {
   "cell_type": "markdown",
   "id": "eeb4a632",
   "metadata": {},
   "source": [
    "After mapping probabilities to credit scores and assigning categories, we analyzed the distribution of users across risk levels:\n",
    "\n",
    "| Risk Category | Count   |\n",
    "|---------------|---------|\n",
    "| Excellent     | 22,131  |\n",
    "| Very Poor     | 2,927   |\n",
    "| Good          | 2,159   |\n",
    "| Fair          | 1,456   |\n",
    "| Poor          |   849   |\n",
    "\n",
    "This distribution confirms that most users in the test set are considered low-risk (Excellent), while a smaller subset falls into higher-risk categories. This insight can help prioritize interventions based on user segments.\n"
   ]
  },
  {
   "cell_type": "markdown",
   "id": "aed4785e",
   "metadata": {},
   "source": [
    "## 9. Model Export and Deployment Preparation 💾\n",
    "\n",
    "To deploy the model and make it accessible in a web application, the following components were saved using `joblib`:\n",
    "\n",
    "- ✅ **Trained LightGBM model** (`best_model.pkl`)\n",
    "- ✅ **Scaler object** used during preprocessing (`scaler.pkl`)\n",
    "- ✅ **List of feature names** used in training (`features.pkl`)\n",
    "\n",
    "These files were saved to a `model/` directory and are ready to be loaded by the Streamlit app for real-time predictions.\n"
   ]
  },
  {
   "cell_type": "code",
   "execution_count": 37,
   "id": "d40a6aa6",
   "metadata": {},
   "outputs": [
    {
     "data": {
      "text/plain": [
       "['../model/features.pkl']"
      ]
     },
     "execution_count": 37,
     "metadata": {},
     "output_type": "execute_result"
    }
   ],
   "source": [
    "import joblib\n",
    "import os\n",
    "\n",
    "os.makedirs(\"../model\", exist_ok=True)\n",
    "\n",
    "joblib.dump(best_model, \"../model/best_model.pkl\")\n",
    "joblib.dump(scaler, \"../model/scaler.pkl\")\n",
    "joblib.dump(X_train.columns.tolist(), \"../model/features.pkl\")"
   ]
  },
  {
   "cell_type": "markdown",
   "id": "7a636cc8",
   "metadata": {},
   "source": [
    "## 10. Streamlit App: Credit Score Simulator 💻\n",
    "\n",
    "To make the model accessible and interpretable for users, an interactive web app was developed using **Streamlit**.\n",
    "\n",
    "The app allows users to input financial and demographic data to simulate their credit score and risk category in real-time. It leverages the trained LightGBM model and applies consistent preprocessing and feature engineering.\n",
    "\n",
    "### 🔧 Key Features:\n",
    "\n",
    "- **Model Loading**: Loads the trained LightGBM model, scaler, and feature list from disk.\n",
    "- **User Inputs**: Interactive sliders and number inputs allow users to enter:\n",
    "  - Age\n",
    "  - Monthly Income\n",
    "  - Debt-to-Income Ratio\n",
    "  - Credit utilization\n",
    "  - Credit lines, loans, late payments, and dependents\n",
    "- **Feature Engineering**: Automatically computes derived features such as:\n",
    "  - Total past due events  \n",
    "  - Financial stress indicators  \n",
    "  - Ratios related to age, income, and credit lines  \n",
    "- **Prediction**:\n",
    "  - Predicts probability of default  \n",
    "  - Transforms it into a **credit score (300–900)**  \n",
    "  - Categorizes it into 5 risk levels (Poor → Excellent)  \n",
    "- **Visualization**:\n",
    "  - Displays a dynamic **speedometer-style chart** using Matplotlib to show the score\n",
    "  - Shows the estimated probability of default\n",
    "- **Recommendations**:\n",
    "  - Provides general tips based on the user's risk category \n",
    "\n",
    "This tool serves as a practical simulation of how credit decisions can be supported using machine learning and helps users understand which factors influence their credit score.\n"
   ]
  },
  {
   "cell_type": "markdown",
   "id": "6d3b5d72",
   "metadata": {},
   "source": [
    "## 11. Conclusions & Next Steps 🧾\n",
    "\n",
    "### ✅ Conclusions\n",
    "\n",
    "This project successfully developed an end-to-end credit risk prediction system using real-world financial data:\n",
    "\n",
    "- Multiple classification models were trained and evaluated, with **LightGBM** emerging as the top performer based on **AUC** and **F1-score**.\n",
    "- **Class imbalance** was addressed using **SMOTE** in cross-validation folds to ensure a fair evaluation of minority cases.\n",
    "- **Optuna** was used for hyperparameter tuning, improving model performance through a systematic exploration of parameters over 100 trials.\n",
    "- A **custom decision threshold (0.32)** was applied to optimize for **recall**, aligning with the business goal of minimizing false negatives in default detection.\n",
    "- Model predictions were transformed into a **credit score scale (300–900)** and categorized into intuitive labels (e.g., *Fair*, *Excellent*) for better interpretability.\n",
    "- A fully functional **Streamlit app** was built to allow users to input personal and financial data, receive a real-time credit score, risk category, and a personalized recommendation — all supported by a visual **speedometer-style chart**.\n",
    "\n",
    "Overall, the project combines robust modeling, interpretability, and usability, creating a solid foundation for credit risk simulation and user engagement.\n",
    "\n",
    "---\n",
    "\n",
    "### 🚀 Next Steps\n",
    "\n",
    "To further improve and extend the project:\n",
    "\n",
    "- **Feature Importance & Explainability**: Incorporate tools like **SHAP** to explain predictions and increase transparency in risk assessment.\n",
    "- **Model Generalization**: Validate the model on external datasets or with time-based validation to ensure robustness over time.\n",
    "- **Expanded Input Features**: Include additional features such as spending behavior, employment status, or credit history depth to enhance prediction power.\n",
    "- **Threshold Optimization by Segment**: Consider dynamic thresholds for different user segments (e.g., income levels or age groups).\n",
    "- **Monitoring & Feedback Loop**: Track model performance post-deployment and build a retraining pipeline as new data becomes available.\n",
    "- **Secure Deployment**: Host the Streamlit app with proper user authentication, encryption, and logging mechanisms for production use.\n",
    "\n"
   ]
  },
  {
   "cell_type": "code",
   "execution_count": null,
   "id": "362560ce",
   "metadata": {},
   "outputs": [],
   "source": []
  },
  {
   "cell_type": "code",
   "execution_count": null,
   "id": "a2f66b09",
   "metadata": {},
   "outputs": [],
   "source": []
  }
 ],
 "metadata": {
  "kernelspec": {
   "display_name": "credit-sim",
   "language": "python",
   "name": "python3"
  },
  "language_info": {
   "codemirror_mode": {
    "name": "ipython",
    "version": 3
   },
   "file_extension": ".py",
   "mimetype": "text/x-python",
   "name": "python",
   "nbconvert_exporter": "python",
   "pygments_lexer": "ipython3",
   "version": "3.11.9"
  }
 },
 "nbformat": 4,
 "nbformat_minor": 5
}
